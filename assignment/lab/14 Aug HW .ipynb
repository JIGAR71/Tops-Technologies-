{
 "cells": [
  {
   "cell_type": "markdown",
   "id": "e007d649-db16-4aa8-b993-c0608b20e399",
   "metadata": {},
   "source": [
    "1. 1Print numbers from 1 to 10 using a while loop.\n"
   ]
  },
  {
   "cell_type": "code",
   "execution_count": 1,
   "id": "258c7500-7093-4a6d-9a04-1cfc718a982d",
   "metadata": {},
   "outputs": [
    {
     "name": "stdout",
     "output_type": "stream",
     "text": [
      "1\n",
      "2\n",
      "3\n",
      "4\n",
      "5\n",
      "6\n",
      "7\n",
      "8\n",
      "9\n",
      "10\n"
     ]
    }
   ],
   "source": [
    "i = 1\n",
    "while i <= 10:\n",
    "    print(i)\n",
    "    i += 1"
   ]
  },
  {
   "cell_type": "markdown",
   "id": "6e16dece-504e-49d8-9f34-f6959f13f9b2",
   "metadata": {},
   "source": [
    "2. Print even numbers between 1 and 20 using a while loop"
   ]
  },
  {
   "cell_type": "code",
   "execution_count": 2,
   "id": "c2095385-cd66-4430-9e7d-796502b96c42",
   "metadata": {},
   "outputs": [
    {
     "name": "stdout",
     "output_type": "stream",
     "text": [
      "2\n",
      "4\n",
      "6\n",
      "8\n",
      "10\n",
      "12\n",
      "14\n",
      "16\n",
      "18\n",
      "20\n"
     ]
    }
   ],
   "source": [
    "i = 1\n",
    "while i <=20:\n",
    "    if i % 2 == 0:\n",
    "        print(i)\n",
    "    i += 1    "
   ]
  },
  {
   "cell_type": "markdown",
   "id": "dc9c6b9d-393f-4b29-94fd-aed6b4bb7e08",
   "metadata": {},
   "source": [
    "3. Print the multiplication table of a given number using a while loop.\n"
   ]
  },
  {
   "cell_type": "code",
   "execution_count": 3,
   "id": "cdb95988-3243-47fe-934d-b01a7605e270",
   "metadata": {},
   "outputs": [
    {
     "name": "stdin",
     "output_type": "stream",
     "text": [
      "Enter the Number: 3\n"
     ]
    },
    {
     "name": "stdout",
     "output_type": "stream",
     "text": [
      "3 x 1 = 3\n",
      "3 x 2 = 6\n",
      "3 x 3 = 9\n",
      "3 x 4 = 12\n",
      "3 x 5 = 15\n",
      "3 x 6 = 18\n",
      "3 x 7 = 21\n",
      "3 x 8 = 24\n",
      "3 x 9 = 27\n",
      "3 x 10 = 30\n"
     ]
    }
   ],
   "source": [
    "num = int (input(\"Enter the Number:\"))\n",
    "i = 1\n",
    "while i <=10:\n",
    "    print(f\"{num} x {i} = {num*i}\")\n",
    "    i += 1"
   ]
  },
  {
   "cell_type": "markdown",
   "id": "d7b16295-7eb1-4d0c-b7f6-287c5879c1dc",
   "metadata": {},
   "source": [
    "4. Sum all numbers from 1 to n using a while loop"
   ]
  },
  {
   "cell_type": "code",
   "execution_count": 6,
   "id": "d85ef289-e725-4092-895e-e4ea0cea4744",
   "metadata": {},
   "outputs": [
    {
     "name": "stdin",
     "output_type": "stream",
     "text": [
      "Enter a number:  9\n"
     ]
    },
    {
     "name": "stdout",
     "output_type": "stream",
     "text": [
      "sum of numbers from 1 to 9 is 45\n"
     ]
    }
   ],
   "source": [
    "n = int(input(\"Enter a number: \"))\n",
    "sum = 0\n",
    "i = 1\n",
    "while i <= n:\n",
    "    sum += i\n",
    "    i += 1\n",
    "print(f\"sum of numbers from 1 to {n} is {sum}\")\n",
    "    "
   ]
  },
  {
   "cell_type": "markdown",
   "id": "ffba36bc-ccc3-418c-bdf4-2ed15c14e1f6",
   "metadata": {},
   "source": [
    "5. Reverse a given number using a while loop "
   ]
  },
  {
   "cell_type": "code",
   "execution_count": 19,
   "id": "7a41092b-8f2b-4d81-bafa-e149d4266577",
   "metadata": {},
   "outputs": [
    {
     "name": "stdin",
     "output_type": "stream",
     "text": [
      "Enter a number:  9696\n"
     ]
    },
    {
     "name": "stdout",
     "output_type": "stream",
     "text": [
      "Reversed number: 6969\n"
     ]
    }
   ],
   "source": [
    "num = int(input(\"Enter a number: \"))\n",
    "rev = 0\n",
    "while num > 0:\n",
    "    digit = num % 10\n",
    "    rev = rev * 10 + digit\n",
    "    num = num // 10\n",
    "\n",
    "print(f\"Reversed number: {rev}\")\n"
   ]
  },
  {
   "cell_type": "markdown",
   "id": "b239c4fa-0f39-4109-bc31-3e1560b9cdc3",
   "metadata": {},
   "source": [
    "6. Find the factorial of a number using a while loop"
   ]
  },
  {
   "cell_type": "code",
   "execution_count": 26,
   "id": "0cc7a9bf-ce4a-4c89-a8d5-cd415821ff08",
   "metadata": {},
   "outputs": [
    {
     "name": "stdin",
     "output_type": "stream",
     "text": [
      "Enter a number:  5\n"
     ]
    },
    {
     "name": "stdout",
     "output_type": "stream",
     "text": [
      "Factorial of 5 is 1 \n",
      "Factorial of 5 is 2 \n",
      "Factorial of 5 is 6 \n",
      "Factorial of 5 is 24 \n",
      "Factorial of 5 is 120 \n"
     ]
    }
   ],
   "source": [
    "num = int(input(\"Enter a number: \"))\n",
    "fact  = 1\n",
    "i = 1 \n",
    "while i <=num:\n",
    "    fact *= i\n",
    "    i += 1\n",
    "    print(f\"Factorial of {num} is {fact} \")"
   ]
  },
  {
   "cell_type": "markdown",
   "id": "201d1bac-f30a-4e74-96ea-f70e73a4154b",
   "metadata": {},
   "source": [
    "7. Count the number of digits in a given number using a while loop"
   ]
  },
  {
   "cell_type": "code",
   "execution_count": 33,
   "id": "a2e99492-37a2-4172-8bf8-44d4dba6624d",
   "metadata": {},
   "outputs": [
    {
     "name": "stdin",
     "output_type": "stream",
     "text": [
      "Enter The Number:  1111111111111111111111111111111111111111111111111111111111111111111111111111111111111111111111111111111111111111111111111111111111111111111111111111111111111111111111111111111111111111111111111111111111111111111111111111111111122222222222222222222222222222222222222222222222222222222222222222222222222222222222222222222222222222222222222222222222222222222222222222222222222222222222222222222222222222222222222222222222222222222222222222222222222222222222222222222222222222222222222222222222222222222222222222222222222222222222222222333333333333333333333333333333333333333333333333333333333333333333333333333333333333333333333333333333333333333333333333333333333333333333333333333333333333333333333333333333333333333333333333333333333333333333333333333333333333333333333333333333333333333333333333333333333333333333333333333333333333333333333333333333333333333333333333333444444444444444444444444444444444444444444444444444444444444444444444444444444444444444444444444444444444444444444444444555555555555555555555555555555555555555555555555555555555555555555555555555555555555555555555555555555555555555555555555555555555555555555555555555555555555555555555555555555555555555555555555555555555555555555555555555555555555555555555555555555555555\n"
     ]
    },
    {
     "name": "stdout",
     "output_type": "stream",
     "text": [
      " Number of digit 1243 \n"
     ]
    }
   ],
   "source": [
    "num = int(input(\"Enter The Number: \"))\n",
    "count = 0 \n",
    "while num > 0:\n",
    "    num //= 10\n",
    "    count += 1\n",
    "print(f\" Number of digit {count} \")"
   ]
  },
  {
   "cell_type": "markdown",
   "id": "3396ed23-a1e2-4168-9b0d-83231c103a6b",
   "metadata": {},
   "source": [
    "8. Check if a number is a palindrome using a while loop"
   ]
  },
  {
   "cell_type": "code",
   "execution_count": 39,
   "id": "11b84989-5838-4483-9fdc-4a1632a1a357",
   "metadata": {},
   "outputs": [
    {
     "name": "stdin",
     "output_type": "stream",
     "text": [
      "Enter a number:  1333\n"
     ]
    },
    {
     "name": "stdout",
     "output_type": "stream",
     "text": [
      "1333 is not a palindrome\n"
     ]
    }
   ],
   "source": [
    "num = int(input(\"Enter a number: \"))\n",
    "original_num = num\n",
    "reverse = 0\n",
    "\n",
    "while num > 0:\n",
    "    digit = num % 10\n",
    "    reverse = reverse * 10 + digit\n",
    "    num //= 10\n",
    "\n",
    "if original_num == reverse:\n",
    "    print(f\"{original_num} is a palindrome\")\n",
    "else:\n",
    "    print(f\"{original_num} is not a palindrome\")\n"
   ]
  },
  {
   "cell_type": "markdown",
   "id": "569922fc-3661-4ae4-a856-cfeb4615f5a1",
   "metadata": {},
   "source": [
    "9. Print the Fibonacci series up to n terms using a while loop "
   ]
  },
  {
   "cell_type": "code",
   "execution_count": 41,
   "id": "7f559c8d-0d60-4508-a2a2-4e57eac8397c",
   "metadata": {},
   "outputs": [
    {
     "name": "stdin",
     "output_type": "stream",
     "text": [
      "Enter The Number:  99999\n"
     ]
    },
    {
     "name": "stdout",
     "output_type": "stream",
     "text": [
      "01123581321"
     ]
    }
   ],
   "source": [
    "num = int(input(\"Enter The Number: \"))\n",
    "a, b = 0, 1 \n",
    "count = 0\n",
    "while count < n :\n",
    "    print(a, end ='')\n",
    "    a, b = b , a + b \n",
    "    count += 1"
   ]
  },
  {
   "cell_type": "markdown",
   "id": "0aaf970f-a373-4116-b124-44f72cdaeac5",
   "metadata": {},
   "source": [
    "10. Keep asking the user for input until they type \"exit\""
   ]
  },
  {
   "cell_type": "code",
   "execution_count": 44,
   "id": "c9bcf52d-41fc-4712-8018-bd52fb9f77c6",
   "metadata": {},
   "outputs": [
    {
     "name": "stdin",
     "output_type": "stream",
     "text": [
      "Type something (or 'exit' to quit):  hello\n",
      "Type something (or 'exit' to quit):  exit\n"
     ]
    },
    {
     "name": "stdout",
     "output_type": "stream",
     "text": [
      "Exiting the loop.\n"
     ]
    }
   ],
   "source": [
    "while True:\n",
    "    user_input = input(\"Type something (or 'exit' to quit): \")\n",
    "    if user_input.lower() == \"exit\":\n",
    "        print(\"Exiting the loop.\")\n",
    "        break "
   ]
  },
  {
   "cell_type": "markdown",
   "id": "ee5b8856-d346-43cf-9175-c3e36ec45190",
   "metadata": {},
   "source": [
    "11. Guess the number game — loop until the user guesses the correct number."
   ]
  },
  {
   "cell_type": "code",
   "execution_count": 48,
   "id": "282f3d2d-a59a-4b80-b394-eadd27c7038e",
   "metadata": {},
   "outputs": [
    {
     "name": "stdin",
     "output_type": "stream",
     "text": [
      "Guess the secret number (between 1 and 100):  47\n"
     ]
    },
    {
     "name": "stdout",
     "output_type": "stream",
     "text": [
      "Too low! Try again.\n"
     ]
    },
    {
     "name": "stdin",
     "output_type": "stream",
     "text": [
      "Guess the secret number (between 1 and 100):  32\n"
     ]
    },
    {
     "name": "stdout",
     "output_type": "stream",
     "text": [
      "Too low! Try again.\n"
     ]
    },
    {
     "ename": "KeyboardInterrupt",
     "evalue": "Interrupted by user",
     "output_type": "error",
     "traceback": [
      "\u001b[31m---------------------------------------------------------------------------\u001b[39m",
      "\u001b[31mKeyboardInterrupt\u001b[39m                         Traceback (most recent call last)",
      "\u001b[36mCell\u001b[39m\u001b[36m \u001b[39m\u001b[32mIn[48]\u001b[39m\u001b[32m, line 4\u001b[39m\n\u001b[32m      2\u001b[39m secret_number = random.randint(\u001b[32m1\u001b[39m, \u001b[32m100\u001b[39m)\n\u001b[32m      3\u001b[39m \u001b[38;5;28;01mwhile\u001b[39;00m \u001b[38;5;28;01mTrue\u001b[39;00m:\n\u001b[32m----> \u001b[39m\u001b[32m4\u001b[39m     guess = \u001b[38;5;28mint\u001b[39m(\u001b[38;5;28;43minput\u001b[39;49m\u001b[43m(\u001b[49m\u001b[33;43m\"\u001b[39;49m\u001b[33;43mGuess the secret number (between 1 and 100): \u001b[39;49m\u001b[33;43m\"\u001b[39;49m\u001b[43m)\u001b[49m)\n\u001b[32m      5\u001b[39m     \u001b[38;5;28;01mif\u001b[39;00m guess < secret_number:\n\u001b[32m      6\u001b[39m         \u001b[38;5;28mprint\u001b[39m(\u001b[33m\"\u001b[39m\u001b[33mToo low! Try again.\u001b[39m\u001b[33m\"\u001b[39m)\n",
      "\u001b[36mFile \u001b[39m\u001b[32m~\\AppData\\Local\\Programs\\Python\\Python312\\Lib\\site-packages\\ipykernel\\kernelbase.py:1275\u001b[39m, in \u001b[36mKernel.raw_input\u001b[39m\u001b[34m(self, prompt)\u001b[39m\n\u001b[32m   1273\u001b[39m     msg = \u001b[33m\"\u001b[39m\u001b[33mraw_input was called, but this frontend does not support input requests.\u001b[39m\u001b[33m\"\u001b[39m\n\u001b[32m   1274\u001b[39m     \u001b[38;5;28;01mraise\u001b[39;00m StdinNotImplementedError(msg)\n\u001b[32m-> \u001b[39m\u001b[32m1275\u001b[39m \u001b[38;5;28;01mreturn\u001b[39;00m \u001b[38;5;28;43mself\u001b[39;49m\u001b[43m.\u001b[49m\u001b[43m_input_request\u001b[49m\u001b[43m(\u001b[49m\n\u001b[32m   1276\u001b[39m \u001b[43m    \u001b[49m\u001b[38;5;28;43mstr\u001b[39;49m\u001b[43m(\u001b[49m\u001b[43mprompt\u001b[49m\u001b[43m)\u001b[49m\u001b[43m,\u001b[49m\n\u001b[32m   1277\u001b[39m \u001b[43m    \u001b[49m\u001b[38;5;28;43mself\u001b[39;49m\u001b[43m.\u001b[49m\u001b[43m_parent_ident\u001b[49m\u001b[43m[\u001b[49m\u001b[33;43m\"\u001b[39;49m\u001b[33;43mshell\u001b[39;49m\u001b[33;43m\"\u001b[39;49m\u001b[43m]\u001b[49m\u001b[43m,\u001b[49m\n\u001b[32m   1278\u001b[39m \u001b[43m    \u001b[49m\u001b[38;5;28;43mself\u001b[39;49m\u001b[43m.\u001b[49m\u001b[43mget_parent\u001b[49m\u001b[43m(\u001b[49m\u001b[33;43m\"\u001b[39;49m\u001b[33;43mshell\u001b[39;49m\u001b[33;43m\"\u001b[39;49m\u001b[43m)\u001b[49m\u001b[43m,\u001b[49m\n\u001b[32m   1279\u001b[39m \u001b[43m    \u001b[49m\u001b[43mpassword\u001b[49m\u001b[43m=\u001b[49m\u001b[38;5;28;43;01mFalse\u001b[39;49;00m\u001b[43m,\u001b[49m\n\u001b[32m   1280\u001b[39m \u001b[43m\u001b[49m\u001b[43m)\u001b[49m\n",
      "\u001b[36mFile \u001b[39m\u001b[32m~\\AppData\\Local\\Programs\\Python\\Python312\\Lib\\site-packages\\ipykernel\\kernelbase.py:1320\u001b[39m, in \u001b[36mKernel._input_request\u001b[39m\u001b[34m(self, prompt, ident, parent, password)\u001b[39m\n\u001b[32m   1317\u001b[39m \u001b[38;5;28;01mexcept\u001b[39;00m \u001b[38;5;167;01mKeyboardInterrupt\u001b[39;00m:\n\u001b[32m   1318\u001b[39m     \u001b[38;5;66;03m# re-raise KeyboardInterrupt, to truncate traceback\u001b[39;00m\n\u001b[32m   1319\u001b[39m     msg = \u001b[33m\"\u001b[39m\u001b[33mInterrupted by user\u001b[39m\u001b[33m\"\u001b[39m\n\u001b[32m-> \u001b[39m\u001b[32m1320\u001b[39m     \u001b[38;5;28;01mraise\u001b[39;00m \u001b[38;5;167;01mKeyboardInterrupt\u001b[39;00m(msg) \u001b[38;5;28;01mfrom\u001b[39;00m\u001b[38;5;250m \u001b[39m\u001b[38;5;28;01mNone\u001b[39;00m\n\u001b[32m   1321\u001b[39m \u001b[38;5;28;01mexcept\u001b[39;00m \u001b[38;5;167;01mException\u001b[39;00m:\n\u001b[32m   1322\u001b[39m     \u001b[38;5;28mself\u001b[39m.log.warning(\u001b[33m\"\u001b[39m\u001b[33mInvalid Message:\u001b[39m\u001b[33m\"\u001b[39m, exc_info=\u001b[38;5;28;01mTrue\u001b[39;00m)\n",
      "\u001b[31mKeyboardInterrupt\u001b[39m: Interrupted by user"
     ]
    }
   ],
   "source": [
    "### import random\n",
    "secret_number = random.randint(1, 100)\n",
    "while True:\n",
    "    guess = int(input(\"Guess the secret number (between 1 and 100): \"))\n",
    "    if guess < secret_number:\n",
    "        print(\"Too low! Try again.\")\n",
    "    elif guess > secret_number:\n",
    "        print(\"Too high! Try again.\")\n",
    "    else:\n",
    "        print(\"Congratulations! You've guessed the correct number.\")\n",
    "        break                       "
   ]
  },
  {
   "cell_type": "markdown",
   "id": "843a5fde-1c94-458e-827a-b534e22bb6c0",
   "metadata": {},
   "source": [
    "12. Keep adding numbers entered by the user until the sum exceeds 100"
   ]
  },
  {
   "cell_type": "code",
   "execution_count": 49,
   "id": "4551d70a-e221-4d9b-9a77-121211dfe569",
   "metadata": {},
   "outputs": [
    {
     "name": "stdin",
     "output_type": "stream",
     "text": [
      "Enter a number to add (or type 'exit' to stop):  22\n"
     ]
    },
    {
     "name": "stdout",
     "output_type": "stream",
     "text": [
      "Current total: 22\n"
     ]
    },
    {
     "name": "stdin",
     "output_type": "stream",
     "text": [
      "Enter a number to add (or type 'exit' to stop):  23\n"
     ]
    },
    {
     "name": "stdout",
     "output_type": "stream",
     "text": [
      "Current total: 45\n"
     ]
    },
    {
     "name": "stdin",
     "output_type": "stream",
     "text": [
      "Enter a number to add (or type 'exit' to stop):  222\n"
     ]
    },
    {
     "name": "stdout",
     "output_type": "stream",
     "text": [
      "Current total: 267\n"
     ]
    }
   ],
   "source": [
    "total = 0\n",
    "while total <= 100:\n",
    "    number = int(input(\"Enter a number to add (or type 'exit' to stop): \"))\n",
    "    total += number\n",
    "    print(f\"Current total: {total}\") "
   ]
  },
  {
   "cell_type": "markdown",
   "id": "6ea9e711-3bd4-4f2c-85ec-b0301d7605cf",
   "metadata": {},
   "source": [
    "13. Check if a number is a prime number using a while loop"
   ]
  },
  {
   "cell_type": "code",
   "execution_count": 55,
   "id": "82433b13-9b5d-43d0-80ba-1150cc1c1f7e",
   "metadata": {},
   "outputs": [
    {
     "name": "stdout",
     "output_type": "stream",
     "text": [
      "2 is a prime number\n"
     ]
    }
   ],
   "source": [
    "# num = int(input(\"Enter a number: \"))\n",
    "is_prime = True \n",
    "i = 2\n",
    "while i * i <= num:\n",
    "    if num % i == 0:\n",
    "        is_prime = False\n",
    "        break\n",
    "    i += 1\n",
    "if is_prime and num > 1:\n",
    "    print(f\"{num} is a prime number\")\n",
    "else:\n",
    "    print(f\"{num} is not a prime number\")"
   ]
  },
  {
   "cell_type": "markdown",
   "id": "427881ef-a561-4957-ba99-101e7d4063d1",
   "metadata": {},
   "source": [
    "14. Print a pyramid pattern using a while loop"
   ]
  },
  {
   "cell_type": "code",
   "execution_count": 56,
   "id": "0cf507e3-2f81-43a3-864c-e4a6b746d843",
   "metadata": {},
   "outputs": [
    {
     "name": "stdin",
     "output_type": "stream",
     "text": [
      "Enter the number:  4\n"
     ]
    },
    {
     "name": "stdout",
     "output_type": "stream",
     "text": [
      "   *\n",
      "  ***\n",
      " *****\n",
      "*******\n"
     ]
    }
   ],
   "source": [
    "n = int(input(\"Enter the number: \"))\n",
    "i = 1\n",
    "while i <= n:\n",
    "    print(' ' * (n - i) + '*' * (2 * i - 1))\n",
    "    i += 1 "
   ]
  },
  {
   "cell_type": "markdown",
   "id": "2fe14f3d-f9a4-4b5e-b059-c5145ee9469a",
   "metadata": {},
   "source": [
    "15. Implement a countdown timer using a while loop"
   ]
  },
  {
   "cell_type": "code",
   "execution_count": 57,
   "id": "8b868e32-9489-468f-b872-d537a6fdf527",
   "metadata": {},
   "outputs": [
    {
     "name": "stdin",
     "output_type": "stream",
     "text": [
      "Enter the countdown time in seconds:  13\n"
     ]
    },
    {
     "name": "stdout",
     "output_type": "stream",
     "text": [
      "13 12 11 10 9 8 7 6 5 4 3 2 1 Time's up!\n"
     ]
    }
   ],
   "source": [
    "import time\n",
    "n = int(input(\"Enter the countdown time in seconds: \"))\n",
    "while n > 0:\n",
    "    print(n, end=' ')\n",
    "    time.sleep(1)\n",
    "    n -= 1\n",
    "print(\"Time's up!\")"
   ]
  },
  {
   "cell_type": "code",
   "execution_count": null,
   "id": "72663ac3-875f-4a73-8068-2dc5a8faee1e",
   "metadata": {},
   "outputs": [],
   "source": []
  }
 ],
 "metadata": {
  "kernelspec": {
   "display_name": "Python 3 (ipykernel)",
   "language": "python",
   "name": "python3"
  },
  "language_info": {
   "codemirror_mode": {
    "name": "ipython",
    "version": 3
   },
   "file_extension": ".py",
   "mimetype": "text/x-python",
   "name": "python",
   "nbconvert_exporter": "python",
   "pygments_lexer": "ipython3",
   "version": "3.12.5"
  }
 },
 "nbformat": 4,
 "nbformat_minor": 5
}
