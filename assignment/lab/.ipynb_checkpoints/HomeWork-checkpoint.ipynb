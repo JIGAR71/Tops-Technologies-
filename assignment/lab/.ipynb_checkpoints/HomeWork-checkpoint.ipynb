{
 "cells": [
  {
   "cell_type": "raw",
   "id": "a52ad50b-43e3-451a-a5d7-8f74fe45bb9e",
   "metadata": {},
   "source": [
    "1. printing numbers from 1 to 10 using a for loop"
   ]
  },
  {
   "cell_type": "code",
   "execution_count": 2,
   "id": "cdaa0f0a-ffc7-457a-a797-d4118e7adf9f",
   "metadata": {},
   "outputs": [
    {
     "name": "stdout",
     "output_type": "stream",
     "text": [
      "1\n",
      "2\n",
      "3\n",
      "4\n",
      "5\n",
      "6\n",
      "7\n",
      "8\n",
      "9\n",
      "10\n"
     ]
    }
   ],
   "source": [
    "for i in range(1, 11):\n",
    "    print(i)"
   ]
  },
  {
   "cell_type": "raw",
   "id": "c7e7db67-a1d2-47af-87e4-fa098f6a40ba",
   "metadata": {},
   "source": [
    "2. print each character for the string \"HELLO\" using a for loop"
   ]
  },
  {
   "cell_type": "code",
   "execution_count": 3,
   "id": "f4714d58-5f4a-48be-9090-d20a1201fc0c",
   "metadata": {},
   "outputs": [
    {
     "name": "stdout",
     "output_type": "stream",
     "text": [
      "H\n",
      "E\n",
      "L\n",
      "L\n",
      "O\n"
     ]
    }
   ],
   "source": [
    "for char in \"HELLO\":\n",
    "    print(char)"
   ]
  },
  {
   "cell_type": "raw",
   "id": "28729862-1702-4a22-8d33-712d316a4829",
   "metadata": {},
   "source": [
    "3. print the square of numbers from 1 to 5 using a for loop"
   ]
  },
  {
   "cell_type": "code",
   "execution_count": 4,
   "id": "a21b6851-259a-4117-9ab9-0a0cdda523b5",
   "metadata": {},
   "outputs": [
    {
     "name": "stdout",
     "output_type": "stream",
     "text": [
      "1\n",
      "2\n",
      "3\n",
      "4\n",
      "5\n"
     ]
    }
   ],
   "source": [
    "for i in range(1, 6):\n",
    "    print(1 * i)\n",
    "      "
   ]
  },
  {
   "cell_type": "raw",
   "id": "18985169-0d7a-4ebc-bb84-60594096aad6",
   "metadata": {},
   "source": [
    "4.use a for loop to print only even numbers from 1 to 20"
   ]
  },
  {
   "cell_type": "code",
   "execution_count": 5,
   "id": "e171ec73-473f-42d4-90b2-940c3809d7b0",
   "metadata": {},
   "outputs": [
    {
     "name": "stdout",
     "output_type": "stream",
     "text": [
      "2\n",
      "4\n",
      "6\n",
      "8\n",
      "10\n",
      "12\n",
      "14\n",
      "16\n",
      "18\n",
      "20\n"
     ]
    }
   ],
   "source": [
    "for i in range(1, 21):\n",
    "    if i % 2 == 0:\n",
    "        print(i)"
   ]
  },
  {
   "cell_type": "raw",
   "id": "fb20d2a5-1646-4c19-ad25-436b2cedc07a",
   "metadata": {},
   "source": [
    "5.Given a list of numbers, print each fruit in the list using a for loop"
   ]
  },
  {
   "cell_type": "code",
   "execution_count": 7,
   "id": "f7ce2f35-dd11-4e76-bc00-f9859fe14fcd",
   "metadata": {},
   "outputs": [
    {
     "name": "stdout",
     "output_type": "stream",
     "text": [
      "apple\n",
      "banana\n",
      "cherry\n"
     ]
    }
   ],
   "source": [
    "fruits = [\"apple\", \"banana\", \"cherry\"]\n",
    "for fruit in fruits:\n",
    "    print(fruit)  "
   ]
  },
  {
   "cell_type": "raw",
   "id": "a5b04e19-c7bf-4126-953a-f039ea980818",
   "metadata": {},
   "source": [
    "6. printing numbers from 10 to 1 in revers using a for loop and range"
   ]
  },
  {
   "cell_type": "code",
   "execution_count": 9,
   "id": "fbd68f9d-9215-4e7a-aa38-462e78d690cd",
   "metadata": {},
   "outputs": [
    {
     "name": "stdout",
     "output_type": "stream",
     "text": [
      "10\n",
      "9\n",
      "8\n",
      "7\n",
      "6\n",
      "5\n",
      "4\n",
      "3\n",
      "2\n",
      "1\n"
     ]
    }
   ],
   "source": [
    "for i in range(10, 0, -1):\n",
    "    print(i)"
   ]
  },
  {
   "cell_type": "raw",
   "id": "fe01436a-de1b-40ff-94c3-603e337bac1e",
   "metadata": {},
   "source": [
    "7. given a list of num = [3, 4, 9, 12, 15, 20] print each number in the list using a for loop"
   ]
  },
  {
   "cell_type": "code",
   "execution_count": 10,
   "id": "5c56b590-8861-4dd3-8aa0-043adcce208a",
   "metadata": {},
   "outputs": [
    {
     "name": "stdout",
     "output_type": "stream",
     "text": [
      "3\n",
      "4\n",
      "9\n",
      "12\n",
      "15\n",
      "20\n"
     ]
    }
   ],
   "source": [
    "num = [3, 4, 9, 12, 15, 20]\n",
    "for number in num:\n",
    "    print(number)    \n"
   ]
  },
  {
   "cell_type": "raw",
   "id": "dd00a77e-d65f-4edf-8cdc-3b3d882c56de",
   "metadata": {},
   "source": [
    "8. print the multiplication table of 6 using a for loop"
   ]
  },
  {
   "cell_type": "code",
   "execution_count": 11,
   "id": "d4728957-163c-4ee5-9cd5-23f80dea80b3",
   "metadata": {},
   "outputs": [
    {
     "name": "stdout",
     "output_type": "stream",
     "text": [
      "6 x 1 = 6\n",
      "6 x 2 = 12\n",
      "6 x 3 = 18\n",
      "6 x 4 = 24\n",
      "6 x 5 = 30\n",
      "6 x 6 = 36\n",
      "6 x 7 = 42\n",
      "6 x 8 = 48\n",
      "6 x 9 = 54\n",
      "6 x 10 = 60\n"
     ]
    }
   ],
   "source": [
    "for i in range(1, 11):\n",
    "    print(\"6 x\", i, \"=\", 6 * i)"
   ]
  },
  {
   "cell_type": "raw",
   "id": "1901e3bb-74f1-49a9-b28e-b530d0630612",
   "metadata": {},
   "source": [
    "9. write a for loop to count how many vowels are in the string \"Python Programming\""
   ]
  },
  {
   "cell_type": "code",
   "execution_count": 12,
   "id": "c5fbcd9e-ec42-4d42-9814-29ee81dbc678",
   "metadata": {},
   "outputs": [
    {
     "name": "stdout",
     "output_type": "stream",
     "text": [
      "Number of vowels: 4\n"
     ]
    }
   ],
   "source": [
    "text = \"Python Programming\"\n",
    "vowel_count = 0\n",
    "for char in text:\n",
    "    if char.lower() in 'aeiou':\n",
    "        vowel_count += 1\n",
    "print(\"Number of vowels:\", vowel_count)"
   ]
  },
  {
   "cell_type": "raw",
   "id": "209f9025-55cd-4fee-8009-12eb0578c0ec",
   "metadata": {},
   "source": [
    "10. Use nested for loop to print a 4x4 square pattern "
   ]
  },
  {
   "cell_type": "code",
   "execution_count": 13,
   "id": "c9c168d0-8f5f-43ff-9c16-44cb4f49b1a6",
   "metadata": {},
   "outputs": [
    {
     "name": "stdout",
     "output_type": "stream",
     "text": [
      "* * * * \n",
      "* * * * \n",
      "* * * * \n",
      "* * * * \n"
     ]
    }
   ],
   "source": [
    "for i in range(4):\n",
    "    for j in range(4):\n",
    "        print(\"*\", end=\" \")\n",
    "    print() "
   ]
  },
  {
   "cell_type": "raw",
   "id": "6e670f1a-4b47-4b04-a0f3-cc46437f546e",
   "metadata": {},
   "source": [
    "11. write a program using a for loop to calculate the factorial of a number"
   ]
  },
  {
   "cell_type": "code",
   "execution_count": 18,
   "id": "812dbc03-cea8-44ee-80bb-f26b55eabe0a",
   "metadata": {},
   "outputs": [
    {
     "name": "stdin",
     "output_type": "stream",
     "text": [
      "Enter a number :  6\n"
     ]
    },
    {
     "name": "stdout",
     "output_type": "stream",
     "text": [
      "Factorial a 6 is 720\n"
     ]
    }
   ],
   "source": [
    "num = int(input(\"Enter a number : \"))\n",
    "factorial = 1\n",
    "for i in range(1, num + 1):\n",
    "    factorial *= i\n",
    "print(\"Factorial a\", num, \"is\", factorial)"
   ]
  },
  {
   "cell_type": "raw",
   "id": "d9107451-e001-4cb2-9144-cd6f8cd4e224",
   "metadata": {},
   "source": [
    "12. from a list of names, print only those names that start with a vowel"
   ]
  },
  {
   "cell_type": "code",
   "execution_count": 23,
   "id": "eef18b3e-cc08-46ce-9785-9781396f2d00",
   "metadata": {},
   "outputs": [],
   "source": [
    "names = [\"Jigar\", \"Karan\", \"Sumit\", \"Jay\", \"Yesh\"]\n",
    "for name in names:\n",
    "    if name[0].lower() in 'aeiou':\n",
    "        print(name)        "
   ]
  },
  {
   "cell_type": "raw",
   "id": "2901e976-f1b3-4a81-bcae-6b71306d2e87",
   "metadata": {},
   "source": [
    "13. use a for loop to print the first 10 terms of the Fibonacci sequence"
   ]
  },
  {
   "cell_type": "code",
   "execution_count": 24,
   "id": "651476f7-7de1-44ce-b29e-72df97394105",
   "metadata": {},
   "outputs": [
    {
     "name": "stdout",
     "output_type": "stream",
     "text": [
      "Fibonacci sequence:\n",
      "0 1 1 2 3 5 8 13 21 34 "
     ]
    }
   ],
   "source": [
    "a = 0\n",
    "b = 1\n",
    "n = 10\n",
    "print(\"Fibonacci sequence:\")\n",
    "for i in range(n):\n",
    "    print(a, end=' ')\n",
    "    temp = a + b\n",
    "    a = b\n",
    "    b = temp"
   ]
  },
  {
   "cell_type": "raw",
   "id": "150d379b-9f89-4f67-9137-3b03c4ee7e2c",
   "metadata": {},
   "source": [
    "14. separate a list of numbers into even and odd lists using a for loop."
   ]
  },
  {
   "cell_type": "code",
   "execution_count": 27,
   "id": "1c62220c-1e95-4935-b822-2f351c7c3dbc",
   "metadata": {},
   "outputs": [
    {
     "name": "stdout",
     "output_type": "stream",
     "text": [
      "Even numbers: [2, 4, 6, 8, 10]\n",
      "Odd numbers: [1, 3, 5, 7, 9]\n"
     ]
    }
   ],
   "source": [
    "numbers = [1, 2, 3, 4, 5, 6, 7, 8, 9, 10]\n",
    "even_numbers = []\n",
    "odd_numbers = []\n",
    "for num in numbers:\n",
    "    if num % 2 == 0:\n",
    "        even_numbers.append(num)\n",
    "    else:\n",
    "        odd_numbers.append(num)\n",
    "print(\"Even numbers:\", even_numbers)\n",
    "print(\"Odd numbers:\", odd_numbers)\n"
   ]
  },
  {
   "cell_type": "raw",
   "id": "0eb3143e-0f4d-43e2-87bc-716042e99155",
   "metadata": {},
   "source": [
    "15. create a triangle pattern using a numbers"
   ]
  },
  {
   "cell_type": "code",
   "execution_count": 28,
   "id": "6088dc6f-2b46-4fc7-be63-6fedff9c4fc9",
   "metadata": {},
   "outputs": [
    {
     "name": "stdout",
     "output_type": "stream",
     "text": [
      "1 \n",
      "1 2 \n",
      "1 2 3 \n",
      "1 2 3 4 \n",
      "1 2 3 4 5 \n"
     ]
    }
   ],
   "source": [
    "for i in range(1, 6):\n",
    "    for j in range(1, i + 1):\n",
    "        print(j, end=\" \")\n",
    "    print()"
   ]
  }
 ],
 "metadata": {
  "kernelspec": {
   "display_name": "Python 3 (ipykernel)",
   "language": "python",
   "name": "python3"
  },
  "language_info": {
   "codemirror_mode": {
    "name": "ipython",
    "version": 3
   },
   "file_extension": ".py",
   "mimetype": "text/x-python",
   "name": "python",
   "nbconvert_exporter": "python",
   "pygments_lexer": "ipython3",
   "version": "3.12.5"
  }
 },
 "nbformat": 4,
 "nbformat_minor": 5
}
