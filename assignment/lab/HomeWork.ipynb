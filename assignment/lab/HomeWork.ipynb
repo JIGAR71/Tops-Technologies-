{
 "cells": [
  {
   "cell_type": "markdown",
   "id": "bf69acd4-09d2-4ec7-a74e-0b903c94e100",
   "metadata": {},
   "source": [
    "1. printing numbers from 1 to 10 using a for loop"
   ]
  },
  {
   "cell_type": "code",
   "execution_count": 2,
   "id": "cdaa0f0a-ffc7-457a-a797-d4118e7adf9f",
   "metadata": {},
   "outputs": [
    {
     "name": "stdout",
     "output_type": "stream",
     "text": [
      "1\n",
      "2\n",
      "3\n",
      "4\n",
      "5\n",
      "6\n",
      "7\n",
      "8\n",
      "9\n",
      "10\n"
     ]
    }
   ],
   "source": [
    "for i in range(1, 11):\n",
    "    print(i)"
   ]
  },
  {
   "cell_type": "markdown",
   "id": "138ddf9d-80c2-4a4a-9dc7-7ab349312f55",
   "metadata": {},
   "source": [
    "2. print each character for the string \"HELLO\" using a for loop"
   ]
  },
  {
   "cell_type": "code",
   "execution_count": 3,
   "id": "f4714d58-5f4a-48be-9090-d20a1201fc0c",
   "metadata": {},
   "outputs": [
    {
     "name": "stdout",
     "output_type": "stream",
     "text": [
      "H\n",
      "E\n",
      "L\n",
      "L\n",
      "O\n"
     ]
    }
   ],
   "source": [
    "for char in \"HELLO\":\n",
    "    print(char)"
   ]
  },
  {
   "cell_type": "markdown",
   "id": "b8e76cde-01ea-4092-a035-ad457c6d07b4",
   "metadata": {},
   "source": [
    "3. print the square of numbers from 1 to 5 using a for loop"
   ]
  },
  {
   "cell_type": "code",
   "execution_count": 4,
   "id": "a21b6851-259a-4117-9ab9-0a0cdda523b5",
   "metadata": {},
   "outputs": [
    {
     "name": "stdout",
     "output_type": "stream",
     "text": [
      "1\n",
      "2\n",
      "3\n",
      "4\n",
      "5\n"
     ]
    }
   ],
   "source": [
    "for i in range(1, 6):\n",
    "    print(1 * i)\n",
    "      "
   ]
  },
  {
   "cell_type": "markdown",
   "id": "051169ea-84c2-40fe-9bef-d01265f18040",
   "metadata": {},
   "source": [
    "4.use a for loop to print only even numbers from 1 to 20"
   ]
  },
  {
   "cell_type": "code",
   "execution_count": 5,
   "id": "e171ec73-473f-42d4-90b2-940c3809d7b0",
   "metadata": {},
   "outputs": [
    {
     "name": "stdout",
     "output_type": "stream",
     "text": [
      "2\n",
      "4\n",
      "6\n",
      "8\n",
      "10\n",
      "12\n",
      "14\n",
      "16\n",
      "18\n",
      "20\n"
     ]
    }
   ],
   "source": [
    "for i in range(1, 21):\n",
    "    if i % 2 == 0:\n",
    "        print(i)"
   ]
  },
  {
   "cell_type": "markdown",
   "id": "a974eba3-ea69-4a31-ae07-285d4604e918",
   "metadata": {},
   "source": [
    "5.Given a list of numbers, print each fruit in the list using a for loop"
   ]
  },
  {
   "cell_type": "code",
   "execution_count": 7,
   "id": "f7ce2f35-dd11-4e76-bc00-f9859fe14fcd",
   "metadata": {},
   "outputs": [
    {
     "name": "stdout",
     "output_type": "stream",
     "text": [
      "apple\n",
      "banana\n",
      "cherry\n"
     ]
    }
   ],
   "source": [
    "fruits = [\"apple\", \"banana\", \"cherry\"]\n",
    "for fruit in fruits:\n",
    "    print(fruit)  "
   ]
  },
  {
   "cell_type": "markdown",
   "id": "7f0432f8-1c95-494f-aa12-37c37876bea5",
   "metadata": {},
   "source": [
    "6. printing numbers from 10 to 1 in revers using a for loop and range"
   ]
  },
  {
   "cell_type": "code",
   "execution_count": 9,
   "id": "fbd68f9d-9215-4e7a-aa38-462e78d690cd",
   "metadata": {},
   "outputs": [
    {
     "name": "stdout",
     "output_type": "stream",
     "text": [
      "10\n",
      "9\n",
      "8\n",
      "7\n",
      "6\n",
      "5\n",
      "4\n",
      "3\n",
      "2\n",
      "1\n"
     ]
    }
   ],
   "source": [
    "for i in range(10, 0, -1):\n",
    "    print(i)"
   ]
  },
  {
   "cell_type": "markdown",
   "id": "e73d7c97-2b34-418d-9c89-5d53f413735d",
   "metadata": {},
   "source": [
    "7. given a list of num = [3, 4, 9, 12, 15, 20] print each number in the list using a for loop"
   ]
  },
  {
   "cell_type": "code",
   "execution_count": 10,
   "id": "5c56b590-8861-4dd3-8aa0-043adcce208a",
   "metadata": {},
   "outputs": [
    {
     "name": "stdout",
     "output_type": "stream",
     "text": [
      "3\n",
      "4\n",
      "9\n",
      "12\n",
      "15\n",
      "20\n"
     ]
    }
   ],
   "source": [
    "num = [3, 4, 9, 12, 15, 20]\n",
    "for number in num:\n",
    "    print(number)    \n"
   ]
  },
  {
   "cell_type": "markdown",
   "id": "2cc2b0e4-f13a-4ea1-ba84-e8d3bc31602b",
   "metadata": {},
   "source": [
    "8. print the multiplication table of 6 using a for loop"
   ]
  },
  {
   "cell_type": "code",
   "execution_count": 11,
   "id": "d4728957-163c-4ee5-9cd5-23f80dea80b3",
   "metadata": {},
   "outputs": [
    {
     "name": "stdout",
     "output_type": "stream",
     "text": [
      "6 x 1 = 6\n",
      "6 x 2 = 12\n",
      "6 x 3 = 18\n",
      "6 x 4 = 24\n",
      "6 x 5 = 30\n",
      "6 x 6 = 36\n",
      "6 x 7 = 42\n",
      "6 x 8 = 48\n",
      "6 x 9 = 54\n",
      "6 x 10 = 60\n"
     ]
    }
   ],
   "source": [
    "for i in range(1, 11):\n",
    "    print(\"6 x\", i, \"=\", 6 * i)"
   ]
  },
  {
   "cell_type": "markdown",
   "id": "9d5506ed-438f-4630-8884-4fe2b7602613",
   "metadata": {},
   "source": [
    "9. write a for loop to count how many vowels are in the string \"Python Programming\""
   ]
  },
  {
   "cell_type": "code",
   "execution_count": 12,
   "id": "c5fbcd9e-ec42-4d42-9814-29ee81dbc678",
   "metadata": {},
   "outputs": [
    {
     "name": "stdout",
     "output_type": "stream",
     "text": [
      "Number of vowels: 4\n"
     ]
    }
   ],
   "source": [
    "text = \"Python Programming\"\n",
    "vowel_count = 0\n",
    "for char in text:\n",
    "    if char.lower() in 'aeiou':\n",
    "        vowel_count += 1\n",
    "print(\"Number of vowels:\", vowel_count)"
   ]
  },
  {
   "cell_type": "markdown",
   "id": "870455b4-2a54-46bb-9c5e-2b88e8b7ac17",
   "metadata": {},
   "source": [
    "10. Use nested for loop to print a 4x4 square pattern "
   ]
  },
  {
   "cell_type": "code",
   "execution_count": 13,
   "id": "c9c168d0-8f5f-43ff-9c16-44cb4f49b1a6",
   "metadata": {},
   "outputs": [
    {
     "name": "stdout",
     "output_type": "stream",
     "text": [
      "* * * * \n",
      "* * * * \n",
      "* * * * \n",
      "* * * * \n"
     ]
    }
   ],
   "source": [
    "for i in range(4):\n",
    "    for j in range(4):\n",
    "        print(\"*\", end=\" \")\n",
    "    print() "
   ]
  },
  {
   "cell_type": "markdown",
   "id": "5e1cda5f-0a64-42b9-9910-4785501ceac0",
   "metadata": {},
   "source": [
    "11. write a program using a for loop to calculate the factorial of a number"
   ]
  },
  {
   "cell_type": "code",
   "execution_count": 18,
   "id": "812dbc03-cea8-44ee-80bb-f26b55eabe0a",
   "metadata": {},
   "outputs": [
    {
     "name": "stdin",
     "output_type": "stream",
     "text": [
      "Enter a number :  6\n"
     ]
    },
    {
     "name": "stdout",
     "output_type": "stream",
     "text": [
      "Factorial a 6 is 720\n"
     ]
    }
   ],
   "source": [
    "num = int(input(\"Enter a number : \"))\n",
    "factorial = 1\n",
    "for i in range(1, num + 1):\n",
    "    factorial *= i\n",
    "print(\"Factorial a\", num, \"is\", factorial)"
   ]
  },
  {
   "cell_type": "markdown",
   "id": "1b48b7f3-3c45-4420-be4c-724b56a30b70",
   "metadata": {},
   "source": [
    "12. from a list of names, print only those names that start with a vowel"
   ]
  },
  {
   "cell_type": "code",
   "execution_count": 23,
   "id": "eef18b3e-cc08-46ce-9785-9781396f2d00",
   "metadata": {},
   "outputs": [],
   "source": [
    "names = [\"Jigar\", \"Karan\", \"Sumit\", \"Jay\", \"Yesh\"]\n",
    "for name in names:\n",
    "    if name[0].lower() in 'aeiou':\n",
    "        print(name)        "
   ]
  },
  {
   "cell_type": "markdown",
   "id": "6c671082-5acb-46ea-b479-1ed0b615e90e",
   "metadata": {},
   "source": [
    "13. use a for loop to print the first 10 terms of the Fibonacci sequence"
   ]
  },
  {
   "cell_type": "code",
   "execution_count": 24,
   "id": "651476f7-7de1-44ce-b29e-72df97394105",
   "metadata": {},
   "outputs": [
    {
     "name": "stdout",
     "output_type": "stream",
     "text": [
      "Fibonacci sequence:\n",
      "0 1 1 2 3 5 8 13 21 34 "
     ]
    }
   ],
   "source": [
    "a = 0\n",
    "b = 1\n",
    "n = 10\n",
    "print(\"Fibonacci sequence:\")\n",
    "for i in range(n):\n",
    "    print(a, end=' ')\n",
    "    temp = a + b\n",
    "    a = b\n",
    "    b = temp"
   ]
  },
  {
   "cell_type": "markdown",
   "id": "615808cd-aa59-4649-9f2c-b1eaf100a24e",
   "metadata": {},
   "source": [
    "14. separate a list of numbers into even and odd lists using a for loop."
   ]
  },
  {
   "cell_type": "code",
   "execution_count": 27,
   "id": "1c62220c-1e95-4935-b822-2f351c7c3dbc",
   "metadata": {},
   "outputs": [
    {
     "name": "stdout",
     "output_type": "stream",
     "text": [
      "Even numbers: [2, 4, 6, 8, 10]\n",
      "Odd numbers: [1, 3, 5, 7, 9]\n"
     ]
    }
   ],
   "source": [
    "numbers = [1, 2, 3, 4, 5, 6, 7, 8, 9, 10]\n",
    "even_numbers = []\n",
    "odd_numbers = []\n",
    "for num in numbers:\n",
    "    if num % 2 == 0:\n",
    "        even_numbers.append(num)\n",
    "    else:\n",
    "        odd_numbers.append(num)\n",
    "print(\"Even numbers:\", even_numbers)\n",
    "print(\"Odd numbers:\", odd_numbers)\n"
   ]
  },
  {
   "cell_type": "markdown",
   "id": "720ddf75-dc01-4ac8-814f-b2ce21f9166b",
   "metadata": {},
   "source": [
    "15. create a triangle pattern using a numbers"
   ]
  },
  {
   "cell_type": "code",
   "execution_count": 28,
   "id": "6088dc6f-2b46-4fc7-be63-6fedff9c4fc9",
   "metadata": {},
   "outputs": [
    {
     "name": "stdout",
     "output_type": "stream",
     "text": [
      "1 \n",
      "1 2 \n",
      "1 2 3 \n",
      "1 2 3 4 \n",
      "1 2 3 4 5 \n"
     ]
    }
   ],
   "source": [
    "for i in range(1, 6):\n",
    "    for j in range(1, i + 1):\n",
    "        print(j, end=\" \")\n",
    "    print()"
   ]
  }
 ],
 "metadata": {
  "kernelspec": {
   "display_name": "Python 3 (ipykernel)",
   "language": "python",
   "name": "python3"
  },
  "language_info": {
   "codemirror_mode": {
    "name": "ipython",
    "version": 3
   },
   "file_extension": ".py",
   "mimetype": "text/x-python",
   "name": "python",
   "nbconvert_exporter": "python",
   "pygments_lexer": "ipython3",
   "version": "3.12.5"
  }
 },
 "nbformat": 4,
 "nbformat_minor": 5
}
