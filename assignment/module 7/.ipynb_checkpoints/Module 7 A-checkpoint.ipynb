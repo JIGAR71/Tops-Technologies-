{
 "cells": [
  {
   "cell_type": "markdown",
   "id": "de096ae7-cf97-458e-af07-45b8fe73ac04",
   "metadata": {},
   "source": [
    "# Module 7 - Introduction to Python"
   ]
  },
  {
   "cell_type": "markdown",
   "id": "665649ca-48b9-4c6b-a7f6-e28b7596e2d5",
   "metadata": {},
   "source": [
    "1) What are the types of Applications?"
   ]
  },
  {
   "cell_type": "markdown",
   "id": "679c1c85-fcfa-40f3-921d-d82639f6aa8d",
   "metadata": {},
   "source": [
    "applications is everywhere – some run on our phones, some on computers,\n",
    "and some silently in the background. These include:\n",
    "- Web apps (like Gmail and YouTube)\n",
    "- Desktop apps (like MS Word and Excel)\n",
    "- Mobile apps (like WhatsApp and Instagram)\n",
    "- Games (like PUBG and Candy Crush)\n",
    "- AI/ML apps (like ChatGPT )\n",
    "Python helps build all of these. end this is a truly  versatile and powerful language."
   ]
  },
  {
   "cell_type": "markdown",
   "id": "abb493bc-1cdb-4fd6-b7f7-0789e6e1b85f",
   "metadata": {},
   "source": [
    "2) What is programing? "
   ]
  },
  {
   "cell_type": "markdown",
   "id": "6643b8bc-829b-42c7-a752-05fc6ee8532d",
   "metadata": {},
   "source": [
    "Programming is basically telling the computer what to do using a special language it understands\n",
    "Just like we use English or Hindi to communicate computers follow instructions through code\n",
    "You can ask the computer to add numbers display messages save data all using programs"
   ]
  },
  {
   "cell_type": "markdown",
   "id": "3ea67493-7e5e-4112-b032-7fb9b04afb20",
   "metadata": {},
   "source": [
    "3 .What is Python?"
   ]
  },
  {
   "cell_type": "markdown",
   "id": "13855930-0ad6-40a8-bca8-fa5ddbd1065b",
   "metadata": {},
   "source": [
    "Python is a beginner-friendly and powerful programming language\n",
    "Its syntax is very clean and almost like English which makes it easy to learn\n",
    "People use Python for building websites automating tasks creating AI models\n",
    "and analyzing large sets of data It’s one of the most popular languages today"
   ]
  },
  {
   "cell_type": "markdown",
   "id": "f43a1f3f-40ff-4477-877d-e9c879ebbe5f",
   "metadata": {},
   "source": [
    "4) Write a Python program to check if a number is positive, negative or\n",
    "zero. \n"
   ]
  },
  {
   "cell_type": "code",
   "execution_count": 3,
   "id": "408e9660-ccff-4fd2-acd5-d6d6517be3d5",
   "metadata": {},
   "outputs": [
    {
     "name": "stdout",
     "output_type": "stream",
     "text": [
      "Enter a number:  1\n"
     ]
    },
    {
     "name": "stdout",
     "output_type": "stream",
     "text": [
      "Positive\n"
     ]
    }
   ],
   "source": [
    "num = int(input(\"Enter a number: \"))\n",
    "if num > 0:\n",
    "    print(\"Positive\")\n",
    "elif num == 0:\n",
    "    print(\"Zero\")\n",
    "else:\n",
    "    print(\"Negative\")"
   ]
  },
  {
   "cell_type": "markdown",
   "id": "a304d637-a0d2-4fcd-87ba-9702391cb260",
   "metadata": {},
   "source": [
    "5)Write a Python program to get the Factorial number of given numbers. \n"
   ]
  },
  {
   "cell_type": "code",
   "execution_count": 6,
   "id": "68366c0a-29e0-45b3-8c45-efd89a376bfa",
   "metadata": {},
   "outputs": [
    {
     "name": "stdout",
     "output_type": "stream",
     "text": [
      "Enter a number for factorial:  500\n"
     ]
    },
    {
     "name": "stdout",
     "output_type": "stream",
     "text": [
      "Factorial is: 1220136825991110068701238785423046926253574342803192842192413588385845373153881997605496447502203281863013616477148203584163378722078177200480785205159329285477907571939330603772960859086270429174547882424912726344305670173270769461062802310452644218878789465754777149863494367781037644274033827365397471386477878495438489595537537990423241061271326984327745715546309977202781014561081188373709531016356324432987029563896628911658974769572087926928871281780070265174507768410719624390394322536422605234945850129918571501248706961568141625359056693423813008856249246891564126775654481886506593847951775360894005745238940335798476363944905313062323749066445048824665075946735862074637925184200459369692981022263971952597190945217823331756934581508552332820762820023402626907898342451712006207714640979456116127629145951237229913340169552363850942885592018727433795173014586357570828355780158735432768888680120399882384702151467605445407663535984174430480128938313896881639487469658817504506926365338175055478128640000000000000000000000000000000000000000000000000000000000000000000000000000000000000000000000000000000000000000000000000000\n"
     ]
    }
   ],
   "source": [
    "num = int(input(\"Enter a number for factorial: \"))\n",
    "fact = 1\n",
    "for i in range(1, num + 1):\n",
    "    fact *= i\n",
    "print(\"Factorial is:\", fact)"
   ]
  },
  {
   "cell_type": "markdown",
   "id": "01ada400-05af-4714-b698-fddfd56181df",
   "metadata": {},
   "source": [
    "6. Write a Python program to get the Fibonacci series of given range. "
   ]
  },
  {
   "cell_type": "code",
   "execution_count": 7,
   "id": "13aacda4-84fb-4acc-b533-294c5f498000",
   "metadata": {},
   "outputs": [
    {
     "name": "stdout",
     "output_type": "stream",
     "text": [
      "Enter the number of Fibonacci terms:  3\n"
     ]
    },
    {
     "name": "stdout",
     "output_type": "stream",
     "text": [
      "0 1 1 "
     ]
    }
   ],
   "source": [
    "n = int(input(\"Enter the number of Fibonacci terms: \"))\n",
    "a, b = 0, 1\n",
    "for _ in range(n):\n",
    "    print(a, end=\" \")\n",
    "    a, b = b, a + b"
   ]
  },
  {
   "cell_type": "markdown",
   "id": "22ca7d17-6bc8-401a-b881-547441742d0c",
   "metadata": {},
   "source": [
    "7) How does Python manage memory?"
   ]
  },
  {
   "cell_type": "markdown",
   "id": "5fd37d55-5fa2-4ef9-817c-8739b10d4ad2",
   "metadata": {},
   "source": [
    "The best part about Python is that it handles memory automatically\n",
    "It uses a built-in garbage collector that removes unused variables and frees up space\n",
    "So you can focus on writing code, and Python will manage memory in the background"
   ]
  },
  {
   "cell_type": "markdown",
   "id": "ea551d5a-11bb-4210-ad69-3f60affe8092",
   "metadata": {},
   "source": [
    "8. What is the purpose continuing statement in python?"
   ]
  },
  {
   "cell_type": "markdown",
   "id": "b1e9d697-1636-412f-ac00-d80d3d105d77",
   "metadata": {},
   "source": [
    "The continue statement is used inside loops to skip a particular step and move to the next one\n",
    "For example if you're looping through numbers but want to ignore even ones\n",
    "continue can help you skip them"
   ]
  },
  {
   "cell_type": "markdown",
   "id": "9ed3c8b4-2636-4161-98f3-ff7340b2b7d8",
   "metadata": {},
   "source": [
    "9) Write python program that swap two number with temp variable\n",
    "and without temp variable. "
   ]
  },
  {
   "cell_type": "code",
   "execution_count": 11,
   "id": "9d6003c4-76d3-489c-bcd6-57c260fc7a8e",
   "metadata": {},
   "outputs": [
    {
     "name": "stdout",
     "output_type": "stream",
     "text": [
      "With temp swap: a = 10 , b = 5\n",
      "Without temp swap: a = 10 , b = 5\n"
     ]
    }
   ],
   "source": [
    "# With temp\n",
    "a = 5\n",
    "b = 10\n",
    "temp = a\n",
    "a = b\n",
    "b = temp\n",
    "print(\"With temp swap: a =\", a, \", b =\", b)\n",
    "\n",
    "# Without temp\n",
    "a, b = 5, 10\n",
    "a = a + b\n",
    "b = a - b\n",
    "a = a - b\n",
    "print(\"Without temp swap: a =\", a, \", b =\", b)"
   ]
  },
  {
   "cell_type": "markdown",
   "id": "b1e03b7f-4622-48c5-9ab9-3bb6e54623e7",
   "metadata": {},
   "source": [
    "10) Write a Python program to find whether a given number is even\n",
    "or odd, print out an appropriate message to the user."
   ]
  },
  {
   "cell_type": "code",
   "execution_count": 12,
   "id": "e2c7ec6c-3673-4d3c-8969-6020fc6f077e",
   "metadata": {},
   "outputs": [
    {
     "name": "stdout",
     "output_type": "stream",
     "text": [
      "Enter a number:  6\n"
     ]
    },
    {
     "name": "stdout",
     "output_type": "stream",
     "text": [
      "Even number\n"
     ]
    }
   ],
   "source": [
    "num = int(input(\"Enter a number: \"))\n",
    "if num % 2 == 0:\n",
    "    print(\"Even number\")\n",
    "else:\n",
    "    print(\"Odd number\")"
   ]
  },
  {
   "cell_type": "markdown",
   "id": "ed027235-d37a-418c-bb4f-32da7ec30115",
   "metadata": {},
   "source": [
    "11) Write a Python program to test whether a passed letter is a vowel\n",
    "or not. \n"
   ]
  },
  {
   "cell_type": "code",
   "execution_count": 4,
   "id": "7ff95f67-2c52-4d06-acc8-45d5f5dbb4f4",
   "metadata": {},
   "outputs": [
    {
     "name": "stdout",
     "output_type": "stream",
     "text": [
      "Enter a letter:  ee\n"
     ]
    },
    {
     "name": "stdout",
     "output_type": "stream",
     "text": [
      "It's not a vowel\n"
     ]
    }
   ],
   "source": [
    "ch = input(\"Enter a letter: \").lower()\n",
    "if ch in 'aeiou':\n",
    "    print(\"It's a vowel\")\n",
    "else:\n",
    "    print(\"It's not a vowel\")"
   ]
  },
  {
   "cell_type": "markdown",
   "id": "bc7b76c9-c109-4de8-adbe-e2da0af1b79c",
   "metadata": {},
   "source": [
    "12) Write a Python program to sum of three given integers. However, if\n",
    "two values are equal sum will be zero. \n"
   ]
  },
  {
   "cell_type": "code",
   "execution_count": 17,
   "id": "1bdfb70e-d908-4af3-88be-f330861f5197",
   "metadata": {},
   "outputs": [
    {
     "name": "stdout",
     "output_type": "stream",
     "text": [
      "enter a number:  0\n",
      "enter second number:  0\n",
      "enter the third number:  0\n"
     ]
    },
    {
     "name": "stdout",
     "output_type": "stream",
     "text": [
      "0\n"
     ]
    }
   ],
   "source": [
    "n1 = int(input(\"enter a number: \"))\n",
    "n2 = int(input(\"enter second number: \"))\n",
    "n3 = int(input(\"enter the third number: \"))\n",
    "\n",
    "if n1 and n2 == 0:\n",
    "    print(\"0\")\n",
    "elif n2 and n3 == 0:\n",
    "    print(\"0\")\n",
    "elif n1 and n3 == 0:\n",
    "    print(\"0\")\n",
    "else:\n",
    "    print(n1+n2+n3)"
   ]
  },
  {
   "cell_type": "markdown",
   "id": "a76ac1cc-36fc-401c-ad03-841fdbcba2d0",
   "metadata": {},
   "source": [
    "13) Write a Python program that will return true if the two given\n",
    "integer values are equal or their sum or difference is 5."
   ]
  },
  {
   "cell_type": "code",
   "execution_count": 18,
   "id": "5b9c23b9-49f7-4e56-b963-474c852ebb04",
   "metadata": {},
   "outputs": [
    {
     "name": "stdout",
     "output_type": "stream",
     "text": [
      "enter a number:  23\n",
      "enter second number:  12\n"
     ]
    },
    {
     "name": "stdout",
     "output_type": "stream",
     "text": [
      "False\n"
     ]
    }
   ],
   "source": [
    "num1 = int(input(\"enter a number: \"))\n",
    "num2 = int(input(\"enter second number: \"))\n",
    "if num1 == num2:\n",
    "    print(\"True\")\n",
    "elif num1 + num2 == 5:\n",
    "    print(\"True\")\n",
    "elif num1 - num2 == 5:\n",
    "    print(\"True\")\n",
    "else:\n",
    "    print(\"False\")"
   ]
  },
  {
   "cell_type": "markdown",
   "id": "88bbf5e5-e910-4c30-8f28-44d8faee269a",
   "metadata": {},
   "source": [
    "14) Write a python program to sum of the first n positive integers."
   ]
  },
  {
   "cell_type": "code",
   "execution_count": 19,
   "id": "da3a3129-4b58-4bd5-a603-99e6790cdc1d",
   "metadata": {},
   "outputs": [
    {
     "name": "stdout",
     "output_type": "stream",
     "text": [
      "enter a number 45\n"
     ]
    },
    {
     "name": "stdout",
     "output_type": "stream",
     "text": [
      "1035\n"
     ]
    }
   ],
   "source": [
    "n = int(input(\"enter a number\"))\n",
    "total = 0\n",
    "for i in range(1, n + 1):\n",
    "    total = total + i\n",
    "print(total)"
   ]
  },
  {
   "cell_type": "markdown",
   "id": "70cb08ec-92b5-40ee-88e9-2ee5404a89d1",
   "metadata": {},
   "source": [
    "15) Write a Python program to calculate the length of a string."
   ]
  },
  {
   "cell_type": "code",
   "execution_count": 22,
   "id": "bd646637-61c3-413c-86e7-67f95346ecb5",
   "metadata": {},
   "outputs": [
    {
     "name": "stdout",
     "output_type": "stream",
     "text": [
      "Enter a string:  JEEGAR PANCHAL\n"
     ]
    },
    {
     "name": "stdout",
     "output_type": "stream",
     "text": [
      "Length is 14\n"
     ]
    }
   ],
   "source": [
    "string = input(\"Enter a string: \")\n",
    "print(\"Length is\", len(string))"
   ]
  },
  {
   "cell_type": "markdown",
   "id": "dae7370d-802b-43bc-9d5d-057bff6e3701",
   "metadata": {},
   "source": [
    "16) Write a Python program to count the number of characters\n",
    "(character frequency) in a string \n"
   ]
  },
  {
   "cell_type": "code",
   "execution_count": 24,
   "id": "c62b2719-f318-4f0b-85c4-5621c26e132b",
   "metadata": {},
   "outputs": [
    {
     "name": "stdout",
     "output_type": "stream",
     "text": [
      "Frequency ke liye apna name dale:  jeegar Om Svaha\n"
     ]
    },
    {
     "name": "stdout",
     "output_type": "stream",
     "text": [
      "j: 1\n",
      "e: 2\n",
      "e: 2\n",
      "g: 1\n",
      "a: 3\n",
      "r: 1\n",
      " : 2\n",
      "O: 1\n",
      "m: 1\n",
      " : 2\n",
      "S: 1\n",
      "v: 1\n",
      "a: 3\n",
      "h: 1\n",
      "a: 3\n"
     ]
    }
   ],
   "source": [
    "string = input(\"Frequency ke liye apna name dale: \")\n",
    "for i in string:\n",
    "    print(f\"{i}: {string.count(i)}\")"
   ]
  },
  {
   "cell_type": "markdown",
   "id": "75a26352-30b1-4563-994d-aea0b6f2aed9",
   "metadata": {},
   "source": [
    "17) What are negative indexes and why are they used?"
   ]
  },
  {
   "cell_type": "markdown",
   "id": "fc1d5efe-bf5a-4b46-90df-7ca21e939228",
   "metadata": {},
   "source": [
    "Negative indexes let you access elements from the end\n",
    "For example index -1 gives the last element of a list or string"
   ]
  },
  {
   "cell_type": "markdown",
   "id": "0c19db12-73e2-4252-b57e-da106a06e2f5",
   "metadata": {},
   "source": [
    "18) Write a Python program to count occurrences of a substring in a string. \n"
   ]
  },
  {
   "cell_type": "code",
   "execution_count": 28,
   "id": "528c852f-c61d-4075-b468-359aaa4cde91",
   "metadata": {},
   "outputs": [
    {
     "name": "stdout",
     "output_type": "stream",
     "text": [
      "Enter a string:  jigar bhai kem cho\n",
      "Enter substring:  kem\n"
     ]
    },
    {
     "name": "stdout",
     "output_type": "stream",
     "text": [
      "Occurrences: 1\n"
     ]
    }
   ],
   "source": [
    "string = input(\"Enter a string: \")\n",
    "sub = input(\"Enter substring: \")\n",
    "print(\"Occurrences:\", string.count(sub))"
   ]
  },
  {
   "cell_type": "markdown",
   "id": "5293b87a-4f3d-45b4-a980-4fb7125a6c1d",
   "metadata": {},
   "source": [
    "19) Write a Python program to count the occurrences of each word in a given sentence"
   ]
  },
  {
   "cell_type": "code",
   "execution_count": 31,
   "id": "9906ad71-7937-4248-beaa-5a306a17159e",
   "metadata": {},
   "outputs": [
    {
     "name": "stdout",
     "output_type": "stream",
     "text": [
      "Enter a sentence:  jigar bhai kem cho\n"
     ]
    },
    {
     "name": "stdout",
     "output_type": "stream",
     "text": [
      "Word counts: {'jigar': 1}\n",
      "Word counts: {'jigar': 1, 'bhai': 1}\n",
      "Word counts: {'jigar': 1, 'bhai': 1, 'kem': 1}\n",
      "Word counts: {'jigar': 1, 'bhai': 1, 'kem': 1, 'cho': 1}\n"
     ]
    }
   ],
   "source": [
    "sentence = input(\"Enter a sentence: \").split()\n",
    "word_freq = {}\n",
    "for word in sentence:\n",
    "    word_freq[word] = word_freq.get(word,0)+1\n",
    "    print(\"Word counts:\", word_freq)"
   ]
  },
  {
   "cell_type": "markdown",
   "id": "bea5ab82-2d58-4b4a-8264-bea77c1deb38",
   "metadata": {},
   "source": [
    "20) Write a Python program to get a single string from two given strings,\n",
    "separated by a space and swap the first two characters of each string. "
   ]
  },
  {
   "cell_type": "code",
   "execution_count": 36,
   "id": "d3c155a2-c708-4e10-9ad3-637d79b9e0d3",
   "metadata": {},
   "outputs": [
    {
     "name": "stdout",
     "output_type": "stream",
     "text": [
      "Enter first string:  jigar kem\n",
      "Enter second string:  palti\n"
     ]
    },
    {
     "name": "stdout",
     "output_type": "stream",
     "text": [
      "Combined: pagar kem jilti\n"
     ]
    }
   ],
   "source": [
    "string1 = input(\"Enter first string: \")\n",
    "string2 = input(\"Enter second string: \")\n",
    "new_string1 = string2[:2] + string1[2:]\n",
    "new_string2 = string1[:2] + string2[2:]\n",
    "print(\"Combined:\", new_string1 + ' ' + new_string2)"
   ]
  },
  {
   "cell_type": "markdown",
   "id": "c5f0da9d-f26e-41f8-992c-52058609539c",
   "metadata": {},
   "source": [
    "21) Write a Python program to add 'in' at the end of a given string (length\n",
    "should be at least 3). If the given string already ends with 'ing' then\n",
    "add 'ly' instead if the string length of the given string is less than 3,\n",
    "leave it unchanged. "
   ]
  },
  {
   "cell_type": "code",
   "execution_count": 9,
   "id": "a47ca4b0-11d9-450f-83d9-ebb888c197c9",
   "metadata": {
    "scrolled": true
   },
   "outputs": [
    {
     "name": "stdout",
     "output_type": "stream",
     "text": [
      "Enter a word:  plye\n"
     ]
    },
    {
     "name": "stdout",
     "output_type": "stream",
     "text": [
      "plyein\n"
     ]
    }
   ],
   "source": [
    "string = input(\"Enter a word: \")\n",
    "if len(string) >= 3:\n",
    "    if string.endswith('ing'):\n",
    "        print(string + 'ly')\n",
    "    else:\n",
    "        print(string + 'in')\n",
    "else:\n",
    "    print(string)"
   ]
  },
  {
   "cell_type": "markdown",
   "id": "2ef54996-8dd7-4ebe-8a54-5b55f953ddd1",
   "metadata": {},
   "source": [
    "22) Write a Python function to reverses a string if its length is a multiple\n",
    "of 4. \n"
   ]
  },
  {
   "cell_type": "code",
   "execution_count": 11,
   "id": "82748b29-1f9d-45ff-8cbd-f72f02da6572",
   "metadata": {
    "scrolled": true
   },
   "outputs": [
    {
     "name": "stdout",
     "output_type": "stream",
     "text": [
      "Enter a string:  bhai jigar kaha tha \n"
     ]
    },
    {
     "name": "stdout",
     "output_type": "stream",
     "text": [
      " aht ahak ragij iahb\n"
     ]
    }
   ],
   "source": [
    "string = input(\"Enter a string: \")\n",
    "if len(string) % 4 == 0:\n",
    "    print(string[::-1])\n",
    "else:\n",
    "    print(string)"
   ]
  },
  {
   "cell_type": "markdown",
   "id": "420ee007-9433-4927-96e9-673fa6674dc6",
   "metadata": {},
   "source": [
    "23) Write a Python program to get a string made of the first 2 and the last\n",
    "2 chars from a given a string. If the string length is less than 2, return\n",
    "instead of the empty string. \n"
   ]
  },
  {
   "cell_type": "code",
   "execution_count": 15,
   "id": "6d607c4d-9a40-4f2a-8911-a14510564f54",
   "metadata": {
    "scrolled": true
   },
   "outputs": [
    {
     "name": "stdout",
     "output_type": "stream",
     "text": [
      "Enter a string:  kem cho \n"
     ]
    },
    {
     "name": "stdout",
     "output_type": "stream",
     "text": [
      "keo \n"
     ]
    }
   ],
   "source": [
    "string = input(\"Enter a string: \")\n",
    "if len(string) < 2:\n",
    "    print('')\n",
    "else:\n",
    "    print(string[:2] + string[-2:])"
   ]
  },
  {
   "cell_type": "markdown",
   "id": "2d5e50b9-57d6-486f-947e-27249ef12a40",
   "metadata": {},
   "source": [
    "24) Write a Python function to insert a string in the middle of a string."
   ]
  },
  {
   "cell_type": "code",
   "execution_count": 20,
   "id": "db9d992f-85de-4edc-97e8-5ca2191882d3",
   "metadata": {
    "scrolled": true
   },
   "outputs": [
    {
     "name": "stdout",
     "output_type": "stream",
     "text": [
      "Enter first string:  jigar\n",
      "Enter second string:  bhai\n"
     ]
    },
    {
     "name": "stdout",
     "output_type": "stream",
     "text": [
      "jibhaigar\n"
     ]
    }
   ],
   "source": [
    "string1 = input(\"Enter first string: \")\n",
    "string2 = input(\"Enter second string: \")\n",
    "middle = len(string1)//2\n",
    "print(string1[:middle] + string2 + string1[middle:])"
   ]
  },
  {
   "cell_type": "markdown",
   "id": "215969df-3ab8-4597-a22d-c14923f610de",
   "metadata": {},
   "source": [
    "25) What is List? How will you reverse a list?"
   ]
  },
  {
   "cell_type": "markdown",
   "id": "12ef8266-2921-4c9b-9079-c24bb47bf021",
   "metadata": {},
   "source": [
    "A list stores multiple items in order for Example: [1,2,3] And\n",
    "To reverse a list: use list[::-1] or list.reverse()"
   ]
  },
  {
   "cell_type": "markdown",
   "id": "597602b6-a1dc-437b-824c-29be3e75c966",
   "metadata": {},
   "source": [
    "26) How will you remove last object from a list? "
   ]
  },
  {
   "cell_type": "code",
   "execution_count": 26,
   "id": "df61e667-2ff3-41e4-ad9d-03fbca6bf3ee",
   "metadata": {
    "scrolled": true
   },
   "outputs": [
    {
     "name": "stdout",
     "output_type": "stream",
     "text": [
      "[1, 2, 3]\n"
     ]
    }
   ],
   "source": [
    "jigarlist = [1,2,3,4]\n",
    "jigarlist.pop()\n",
    "print(jigarlist)"
   ]
  },
  {
   "cell_type": "markdown",
   "id": "55c4fd13-1b92-455a-9689-388dec0085fe",
   "metadata": {},
   "source": [
    "27) Suppose list1 is [2, 33, 222, 14, and 25], what is list1 [-\n",
    "1]? "
   ]
  },
  {
   "cell_type": "code",
   "execution_count": 27,
   "id": "3b42925f-7bfb-417a-b821-a0a3bacbf5a8",
   "metadata": {},
   "outputs": [],
   "source": [
    "list1 = [2, 33, 222, 14, 25]"
   ]
  },
  {
   "cell_type": "markdown",
   "id": "09f2944a-b19e-4169-b23e-b40a99a0f74f",
   "metadata": {},
   "source": [
    "28) Differentiate between append () and extend () methods? "
   ]
  },
  {
   "cell_type": "markdown",
   "id": "3e682d1c-3486-4432-b189-c9da8b263bbb",
   "metadata": {},
   "source": [
    "append() is adds a single element to the end of the list and (as one item) whereas extend() is adds multiple elements from an iterable to the list individually"
   ]
  },
  {
   "cell_type": "markdown",
   "id": "9e79dd74-afb8-46b8-845c-d2120adb90d0",
   "metadata": {},
   "source": [
    "29) Write a Python function to get the largest number, smallest num\n",
    "and sum of all from a list. "
   ]
  },
  {
   "cell_type": "code",
   "execution_count": 30,
   "id": "e4608fc4-3909-4942-9f06-3925538881f2",
   "metadata": {},
   "outputs": [
    {
     "name": "stdout",
     "output_type": "stream",
     "text": [
      "Largest Number: 40\n",
      "Smallest Number: 8\n",
      "Sum: 78\n"
     ]
    }
   ],
   "source": [
    "number = [40,8,20,10]\n",
    "print(\"Largest Number is:\", max(number))\n",
    "print(\"Smallest Number is:\", min(number))\n",
    "print(\"Sum:\", sum(number))"
   ]
  },
  {
   "cell_type": "markdown",
   "id": "a8ed7486-6b60-4eec-b474-02cebecfec1c",
   "metadata": {},
   "source": [
    "30) How will you compare two lists? "
   ]
  },
  {
   "cell_type": "markdown",
   "id": "11dd06a5-99a7-477a-9d4d-5ff29ed5cd16",
   "metadata": {
    "jupyter": {
     "source_hidden": true
    }
   },
   "source": [
    "Compare element in the python is by element using == if order matters.\n",
    "Use set(list1)==set(list2) if order dont matter."
   ]
  },
  {
   "cell_type": "markdown",
   "id": "6414b7ab-a820-4837-8456-048ca337b323",
   "metadata": {},
   "source": [
    "31) Write a Python program to count the number of strings where the string\n",
    "length is 2 or more and the first and last character are same from a given list\n",
    "of strings"
   ]
  },
  {
   "cell_type": "code",
   "execution_count": 31,
   "id": "e7449c13-c06d-4d01-999f-702afeb15856",
   "metadata": {
    "scrolled": true
   },
   "outputs": [
    {
     "name": "stdout",
     "output_type": "stream",
     "text": [
      "Result: 1\n",
      "Result: 2\n",
      "Result: 3\n"
     ]
    }
   ],
   "source": [
    "words = [\"aba\",\"xyz\",\"aa\",\"1221\"]\n",
    "count = 0\n",
    "for w in words:\n",
    "    if len(w) >= 2 and w[0] == w[-1]:\n",
    "        count += 1\n",
    "        print(\"Result:\", count)"
   ]
  },
  {
   "cell_type": "markdown",
   "id": "2f78d078-8897-4258-bf6a-5c3fa6252640",
   "metadata": {},
   "source": [
    "32) Write a Python program to remove duplicates from a list. \n"
   ]
  },
  {
   "cell_type": "code",
   "execution_count": 34,
   "id": "308334fc-7c0f-4cee-96a4-de699ce511b2",
   "metadata": {
    "scrolled": true
   },
   "outputs": [
    {
     "name": "stdout",
     "output_type": "stream",
     "text": [
      "Without duplicates: [1]\n",
      "Without duplicates: [1, 2]\n",
      "Without duplicates: [1, 2, 3]\n",
      "Without duplicates: [1, 2, 3, 4]\n",
      "Without duplicates: [1, 2, 3, 4, 5]\n"
     ]
    }
   ],
   "source": [
    "number = [1,2,2,3,4,4,5]\n",
    "unique = []\n",
    "for n in number:\n",
    "    if n not in unique:\n",
    "        unique.append(n)\n",
    "        print(\"Without duplicates:\", unique)"
   ]
  },
  {
   "cell_type": "markdown",
   "id": "5c5e0846-7162-4958-b3df-728d472dde26",
   "metadata": {},
   "source": [
    "33) Write a Python program to check a list is empty or not."
   ]
  },
  {
   "cell_type": "code",
   "execution_count": 35,
   "id": "39670883-3532-4a5c-9dbd-5e30c04c133d",
   "metadata": {
    "scrolled": true
   },
   "outputs": [
    {
     "name": "stdout",
     "output_type": "stream",
     "text": [
      "My Original list: [1, 2, 2, 3, 4, 4, 5, 1]\n",
      "after removing duplicates: [1, 2, 3, 4, 5]\n"
     ]
    }
   ],
   "source": [
    "numbers = [1, 2, 2, 3, 4, 4, 5, 1]\n",
    "unique = []\n",
    "\n",
    "for n in numbers:\n",
    "    if n not in unique:\n",
    "        unique.append(n)\n",
    "\n",
    "print(\"My Original list:\", numbers)\n",
    "print(\"after removing duplicates:\", unique)"
   ]
  },
  {
   "cell_type": "markdown",
   "id": "0bf809aa-5ffb-4440-8c9a-055d858e9754",
   "metadata": {},
   "source": [
    "33) Write a Python program to check a list is empty or not. \n"
   ]
  },
  {
   "cell_type": "code",
   "execution_count": 45,
   "id": "b309b6da-17a7-4365-a2aa-3ff32fb311ec",
   "metadata": {
    "scrolled": true
   },
   "outputs": [
    {
     "name": "stdout",
     "output_type": "stream",
     "text": [
      "List is empty\n"
     ]
    }
   ],
   "source": [
    "mylist = []\n",
    "if not mylist:\n",
    "    print(\"List is empty\")\n",
    "else:\n",
    "    print(\"List is not empty\")"
   ]
  },
  {
   "cell_type": "markdown",
   "id": "f734f63b-1bb1-4e4b-9852-639907a12f61",
   "metadata": {},
   "source": [
    "34) Write a Python function that takes two lists and returns true if they\n",
    "have at least one common member. "
   ]
  },
  {
   "cell_type": "code",
   "execution_count": 44,
   "id": "9ebebb77-d988-4a1d-86e3-b7ccbfd3386a",
   "metadata": {
    "scrolled": true
   },
   "outputs": [
    {
     "name": "stdout",
     "output_type": "stream",
     "text": [
      "True\n"
     ]
    }
   ],
   "source": [
    "def common_member(A,B):\n",
    "    for item in A:\n",
    "        if item in B:   \n",
    "            return True\n",
    "    return False\n",
    "\n",
    "A = [1, 2, 3, 4]\n",
    "B = [5, 6, 7, 3]\n",
    "\n",
    "print(common_member(A,B))"
   ]
  },
  {
   "cell_type": "markdown",
   "id": "336ed029-008b-4172-bf71-46252f53d42c",
   "metadata": {},
   "source": [
    "35) Write a Python program to generate and print a list of first and last 5\n",
    "elements where the values are square of numbers between 1 and 30"
   ]
  },
  {
   "cell_type": "code",
   "execution_count": 46,
   "id": "74ff9dc2-5d8d-40ef-96fe-621bbe04ff2f",
   "metadata": {},
   "outputs": [
    {
     "name": "stdout",
     "output_type": "stream",
     "text": [
      "First 5: [1, 4, 9, 16, 25]\n",
      "Last 5: [676, 729, 784, 841, 900]\n"
     ]
    }
   ],
   "source": [
    "squares = [x**2 for x in range(1,31)]\n",
    "print(\"First 5:\", squares[:5])\n",
    "print(\"Last 5:\", squares[-5:])"
   ]
  },
  {
   "cell_type": "markdown",
   "id": "fc1efddd-864c-4200-b231-d8bc2e343a17",
   "metadata": {},
   "source": [
    "36) Write a Python function that takes a list and returns a new list with\n",
    "unique elements of the first list."
   ]
  },
  {
   "cell_type": "code",
   "execution_count": 49,
   "id": "96cd42a0-c499-4212-9e20-982089a5ef5e",
   "metadata": {},
   "outputs": [
    {
     "name": "stdout",
     "output_type": "stream",
     "text": [
      "Original list: [1, 2, 2, 3, 4, 4, 5, 1]\n",
      "Unique elements: [1, 2, 3, 4, 5]\n"
     ]
    }
   ],
   "source": [
    "def unique_list(lst):\n",
    "    unique = []\n",
    "    for item in lst:\n",
    "        if item not in unique:   \n",
    "            unique.append(item)\n",
    "    return unique\n",
    "\n",
    "my_list = [1, 2, 2, 3, 4, 4, 5, 1]\n",
    "print(\"Original list:\", my_list)\n",
    "print(\"Unique elements:\", unique_list(my_list))"
   ]
  },
  {
   "cell_type": "markdown",
   "id": "ae61af6d-e637-4a01-9c09-993d837466e4",
   "metadata": {},
   "source": [
    "37) Write a Python program to convert a list of characters into a string. "
   ]
  },
  {
   "cell_type": "code",
   "execution_count": 50,
   "id": "3586883c-2647-46e6-83bf-d790163152c2",
   "metadata": {},
   "outputs": [
    {
     "name": "stdout",
     "output_type": "stream",
     "text": [
      "abc\n"
     ]
    }
   ],
   "source": [
    "chars = ['a','b','c']\n",
    "word = ''.join(chars)\n",
    "print(word)"
   ]
  },
  {
   "cell_type": "markdown",
   "id": "d0fecb53-0b87-4ca7-8fda-5fc75e49f00d",
   "metadata": {},
   "source": [
    "38) Write a Python program to select an item randomly from a list."
   ]
  },
  {
   "cell_type": "code",
   "execution_count": 51,
   "id": "07c71e42-85c3-4192-bd39-92d40e73d04a",
   "metadata": {},
   "outputs": [
    {
     "name": "stdout",
     "output_type": "stream",
     "text": [
      "Random choice: 1\n"
     ]
    }
   ],
   "source": [
    "import random\n",
    "items = [1,2,3,4,5]\n",
    "print(\"Random choice:\", random.choice(items))"
   ]
  },
  {
   "cell_type": "markdown",
   "id": "7e02580f-e8fe-4016-9cf4-0a863dd70482",
   "metadata": {},
   "source": [
    "39) Write a Python program to find the second smallest number in a list. "
   ]
  },
  {
   "cell_type": "code",
   "execution_count": 52,
   "id": "4bfe17e0-fd79-4cd0-ae1f-3a117bd2bdb3",
   "metadata": {},
   "outputs": [
    {
     "name": "stdout",
     "output_type": "stream",
     "text": [
      "Second smallest: 2\n"
     ]
    }
   ],
   "source": [
    "numbers = [5,2,8,1,9]\n",
    "numbers.sort()\n",
    "print(\"Second smallest:\", numbers[1])"
   ]
  },
  {
   "cell_type": "markdown",
   "id": "9823c765-5c4c-46f4-abdf-e3e9be9e5db7",
   "metadata": {},
   "source": [
    "40) Write a Python program to get unique values from a list"
   ]
  },
  {
   "cell_type": "code",
   "execution_count": 60,
   "id": "1db5e27b-f72f-4703-954c-56ccedd24257",
   "metadata": {},
   "outputs": [
    {
     "name": "stdout",
     "output_type": "stream",
     "text": [
      "Unique values: [1]\n",
      "Unique values: [1, 22]\n",
      "Unique values: [1, 22, 232]\n",
      "Unique values: [1, 22, 232, 3232]\n",
      "Unique values: [1, 22, 232, 3232, 43]\n",
      "Unique values: [1, 22, 232, 3232, 43, 421]\n",
      "Unique values: [1, 22, 232, 3232, 43, 421, 5]\n"
     ]
    }
   ],
   "source": [
    "numbers = [1,22,232,3232,43,421,5]\n",
    "unique = []\n",
    "for n in numbers:\n",
    "    if n not in unique:\n",
    "        unique.append(n)\n",
    "        print(\"Unique values:\", unique)"
   ]
  },
  {
   "cell_type": "markdown",
   "id": "f925485a-4a46-421b-9501-2cb5a938c8ba",
   "metadata": {},
   "source": [
    "41) Write a Python program to check whether a list contains a sub list \n"
   ]
  },
  {
   "cell_type": "code",
   "execution_count": 166,
   "id": "ba51c11d-15a8-4a96-b1b0-32b04cc34524",
   "metadata": {},
   "outputs": [
    {
     "name": "stdout",
     "output_type": "stream",
     "text": [
      "True\n"
     ]
    }
   ],
   "source": [
    "def is_sublist(lst, sub):\n",
    "    for i in range(len(lst)-len(sub)+1):\n",
    "        if lst[i:i+len(sub)] == sub:\n",
    "            return True\n",
    "    return False\n",
    "print(is_sublist([1,2,3,4],[2,3]))"
   ]
  },
  {
   "cell_type": "markdown",
   "id": "bee0fa29-e3b9-44e3-8946-08417c42a0ed",
   "metadata": {},
   "source": [
    "42) Write a Python program to split a list into different variables."
   ]
  },
  {
   "cell_type": "code",
   "execution_count": 72,
   "id": "c1e32574-8c20-4657-a670-a77089b5979c",
   "metadata": {},
   "outputs": [
    {
     "name": "stdout",
     "output_type": "stream",
     "text": [
      "1 2 3\n"
     ]
    }
   ],
   "source": [
    "nums = [1,2,3]\n",
    "a, b, c = nums\n",
    "print(a, b, c)"
   ]
  },
  {
   "cell_type": "markdown",
   "id": "0528216d-d45a-4fe5-a5a1-2747c6af3c79",
   "metadata": {},
   "source": [
    "43) What is tuple? Difference between list and tuple."
   ]
  },
  {
   "cell_type": "markdown",
   "id": "90d7d219-b5ed-4992-ad79-a2aba3206540",
   "metadata": {},
   "source": [
    "Tuple is like a list but cannot be changed (immutable)\n",
    "List uses [] and tuple uses () is this a list and tuple"
   ]
  },
  {
   "cell_type": "markdown",
   "id": "712b06f4-0ff9-4c11-a047-9421ac4961ad",
   "metadata": {},
   "source": [
    "44) Write a Python program to create a tuple with different data types. \n"
   ]
  },
  {
   "cell_type": "code",
   "execution_count": 73,
   "id": "739d65af-f596-4747-835d-b6ce2eae915c",
   "metadata": {},
   "outputs": [
    {
     "name": "stdout",
     "output_type": "stream",
     "text": [
      "(1, 'hello', 3.5, True)\n"
     ]
    }
   ],
   "source": [
    "tup = (1, \"hello\", 3.5, True)\n",
    "print(tup)"
   ]
  },
  {
   "cell_type": "markdown",
   "id": "f68af9e9-5ed1-4c8f-a487-a429965f4a2d",
   "metadata": {},
   "source": [
    "45) Write a Python program to unzip a list of tuples into individual lists. "
   ]
  },
  {
   "cell_type": "code",
   "execution_count": 74,
   "id": "afcd4662-3666-422c-9ed5-1e41a3f140a4",
   "metadata": {},
   "outputs": [
    {
     "name": "stdout",
     "output_type": "stream",
     "text": [
      "[1]\n",
      "['a']\n",
      "[1, 2]\n",
      "['a', 'b']\n",
      "[1, 2, 3]\n",
      "['a', 'b', 'c']\n"
     ]
    }
   ],
   "source": [
    "pairs = [(1,'a'),(2,'b'),(3,'c')]\n",
    "nums = []\n",
    "chars = []\n",
    "for n, c in pairs:\n",
    "    nums.append(n)\n",
    "    chars.append(c)\n",
    "    print(nums)\n",
    "    print(chars)"
   ]
  },
  {
   "cell_type": "markdown",
   "id": "350f6b80-7be3-4975-842f-b66be2bc6078",
   "metadata": {},
   "source": [
    "46) Write a Python program to convert a list of tuples into a dictionary."
   ]
  },
  {
   "cell_type": "code",
   "execution_count": 76,
   "id": "a1df7f93-929f-4778-a483-10bd32e7ec8f",
   "metadata": {},
   "outputs": [
    {
     "name": "stdout",
     "output_type": "stream",
     "text": [
      "{1: 'a'}\n",
      "{1: 'a', 2: 'b'}\n",
      "{1: 'a', 2: 'b', 3: 'c'}\n"
     ]
    }
   ],
   "source": [
    "pairs = [(1,'a'),(2,'b'),(3,'c')]\n",
    "d = {}\n",
    "for k, v in pairs:\n",
    "    d[k] = v\n",
    "    print(d)"
   ]
  },
  {
   "cell_type": "markdown",
   "id": "bfaff7b7-7003-4ed6-8a1c-e24f766b6b57",
   "metadata": {},
   "source": [
    "47) How will you create a dictionary using tuples in python? "
   ]
  },
  {
   "cell_type": "code",
   "execution_count": 78,
   "id": "e4facbeb-bed9-4ae0-99fd-6312ee29392c",
   "metadata": {},
   "outputs": [
    {
     "name": "stdout",
     "output_type": "stream",
     "text": [
      "{'a': 1}\n",
      "{'a': 1, 'b': 2}\n",
      "{'a': 1, 'b': 2, 'c': 3}\n"
     ]
    }
   ],
   "source": [
    "keys = ('a','b','c')\n",
    "values = (1,2,3)\n",
    "d = {}\n",
    "for i in range(len(keys)):\n",
    "    d[keys[i]] = values[i]\n",
    "    print(d)"
   ]
  },
  {
   "cell_type": "markdown",
   "id": "529c7c4c-183e-42d3-961d-cf34ad2a6fda",
   "metadata": {},
   "source": [
    "49) Write a Python script to concatenate following dictionaries to create\n",
    "a new one. "
   ]
  },
  {
   "cell_type": "code",
   "execution_count": 79,
   "id": "b032bd62-50aa-414f-b5e8-2dc6ae5dccf0",
   "metadata": {},
   "outputs": [
    {
     "name": "stdout",
     "output_type": "stream",
     "text": [
      "[('b', 1), ('c', 2), ('a', 3)]\n",
      "[('a', 3), ('c', 2), ('b', 1)]\n"
     ]
    }
   ],
   "source": [
    "data = {'a':3,'b':1,'c':2}\n",
    "sorted_items_asc = sorted(data.items(), key=lambda x:x[1])\n",
    "sorted_items_desc = sorted(data.items(), key=lambda x:x[1], reverse=True)\n",
    "print(sorted_items_asc)\n",
    "print(sorted_items_desc)"
   ]
  },
  {
   "cell_type": "markdown",
   "id": "0bef11e0-70fc-4254-831a-210e746552a6",
   "metadata": {},
   "source": [
    "50) Write a Python script to check if a given key already exists in a\n",
    "dictionary. "
   ]
  },
  {
   "cell_type": "code",
   "execution_count": 80,
   "id": "4cc12b94-d9fb-4994-b643-f7f1bb337cc9",
   "metadata": {},
   "outputs": [
    {
     "name": "stdout",
     "output_type": "stream",
     "text": [
      "{'a': 1, 'b': 2, 'c': 3, 'd': 4}\n"
     ]
    }
   ],
   "source": [
    "d1 = {'a':1,'b':2}\n",
    "d2 = {'c':3}\n",
    "d3 = {'d':4}\n",
    "result = {}\n",
    "for d in (d1,d2,d3):\n",
    "    result.update(d)\n",
    "print(result)"
   ]
  },
  {
   "cell_type": "markdown",
   "id": "32a24aaa-53cd-4b62-98dd-7d83f358fed3",
   "metadata": {},
   "source": [
    "51) How Do You Traverse Through a Dictionary Object in Python? "
   ]
  },
  {
   "cell_type": "code",
   "execution_count": 83,
   "id": "3782115a-65c8-4c2e-9d9f-1aae68e58f5a",
   "metadata": {},
   "outputs": [
    {
     "name": "stdout",
     "output_type": "stream",
     "text": [
      "a 1\n",
      "b 2\n",
      "c 3\n"
     ]
    }
   ],
   "source": [
    "d = {'a':1,'b':2,'c':3}\n",
    "for key in d:\n",
    "    print(key, d[key])"
   ]
  },
  {
   "cell_type": "markdown",
   "id": "a42d39cb-bc1f-408a-8647-d36758bfb88a",
   "metadata": {},
   "source": [
    "52) How Do You Check the Presence of a Key in A Dictionary? \n"
   ]
  },
  {
   "cell_type": "code",
   "execution_count": 85,
   "id": "397fcd7a-6f66-4a31-9e01-c04e9b5a4449",
   "metadata": {},
   "outputs": [
    {
     "name": "stdout",
     "output_type": "stream",
     "text": [
      "Enter n:  34\n"
     ]
    },
    {
     "name": "stdout",
     "output_type": "stream",
     "text": [
      "{1: 1, 2: 4, 3: 9, 4: 16, 5: 25, 6: 36, 7: 49, 8: 64, 9: 81, 10: 100, 11: 121, 12: 144, 13: 169, 14: 196, 15: 225, 16: 256, 17: 289, 18: 324, 19: 361, 20: 400, 21: 441, 22: 484, 23: 529, 24: 576, 25: 625, 26: 676, 27: 729, 28: 784, 29: 841, 30: 900, 31: 961, 32: 1024, 33: 1089, 34: 1156}\n"
     ]
    }
   ],
   "source": [
    "n = int(input(\"Enter n: \"))\n",
    "squares = {}\n",
    "for i in range(1,n+1):\n",
    "    squares[i] = i*i\n",
    "print(squares)"
   ]
  },
  {
   "cell_type": "markdown",
   "id": "1aecad6d-1c1b-4103-ab7c-16e164a0ceb5",
   "metadata": {},
   "source": [
    "53) Write a Python script to print a dictionary where the keys are\n",
    "numbers between 1 and 15. \n"
   ]
  },
  {
   "cell_type": "code",
   "execution_count": 86,
   "id": "48b0edc3-80e8-47c9-a2be-ded11f1cc06a",
   "metadata": {},
   "outputs": [
    {
     "name": "stdout",
     "output_type": "stream",
     "text": [
      "{'a': 1, 'b': 2, 'c': 3, 'd': 4}\n"
     ]
    }
   ],
   "source": [
    "d1 = {'a':1,'b':2}\n",
    "d2 = {'c':3,'d':4}\n",
    "merged = d1.copy()\n",
    "for k,v in d2.items():\n",
    "    merged[k] = v\n",
    "print(merged)"
   ]
  },
  {
   "cell_type": "markdown",
   "id": "993dd6ec-3588-4a0e-a762-1aab86cc61c7",
   "metadata": {},
   "source": [
    "54) Write a Python program to check multiple keys exists in a dictionary \n"
   ]
  },
  {
   "cell_type": "code",
   "execution_count": 88,
   "id": "f1ab0eea-1c47-49fe-962c-9a20fbb08b72",
   "metadata": {},
   "outputs": [
    {
     "name": "stdout",
     "output_type": "stream",
     "text": [
      "Sum of values: 60\n"
     ]
    }
   ],
   "source": [
    "d = {'a':10,'b':20,'c':30}\n",
    "total = 0\n",
    "for v in d.values():\n",
    "    total += v\n",
    "print(\"Sum of values:\", total)"
   ]
  },
  {
   "cell_type": "markdown",
   "id": "c91ccc4c-f39c-4899-a2df-8e80c99d6108",
   "metadata": {},
   "source": [
    "55) Write a Python script to merge two Python dictionaries"
   ]
  },
  {
   "cell_type": "code",
   "execution_count": 90,
   "id": "10ddeb06-a8b7-422a-b058-975a02869af1",
   "metadata": {},
   "outputs": [
    {
     "name": "stdout",
     "output_type": "stream",
     "text": [
      "Product of values: 24\n"
     ]
    }
   ],
   "source": [
    "d = {'a':2,'b':3,'c':4}\n",
    "product = 1\n",
    "for v in d.values():\n",
    "    product *= v\n",
    "print(\"Product of values:\", product)"
   ]
  },
  {
   "cell_type": "markdown",
   "id": "c1729fe5-e8b6-4ed2-82c9-b6d232083f35",
   "metadata": {},
   "source": [
    "56) Write a Python program to map two lists into a dictionary\n",
    "Sample output: Counter ({'a': 400, 'b': 400,’d’: 400, 'c': 300}). "
   ]
  },
  {
   "cell_type": "code",
   "execution_count": 93,
   "id": "7991cf4f-19d3-42ee-a3f9-3307262a25cd",
   "metadata": {},
   "outputs": [
    {
     "name": "stdout",
     "output_type": "stream",
     "text": [
      "Counter({'a': 400, 'b': 400, 'd': 400, 'c': 300})\n"
     ]
    }
   ],
   "source": [
    "from collections import Counter\n",
    "\n",
    "keys = ['a', 'b', 'c', 'd']\n",
    "values = [400, 400, 300, 400]\n",
    "\n",
    "result = {}\n",
    "for i in range(len(keys)):\n",
    "    result[keys[i]] = values[i]\n",
    "\n",
    "counter_result = Counter(result)\n",
    "print(counter_result)\n"
   ]
  },
  {
   "cell_type": "markdown",
   "id": "1a4d0bf7-d5a6-47b2-a69d-6f4b396b3da8",
   "metadata": {},
   "source": [
    "57) Write a Python program to find the highest 3 values in a dictionary"
   ]
  },
  {
   "cell_type": "code",
   "execution_count": 94,
   "id": "c2f598b8-f0e0-42d5-a826-61a46cb6bf32",
   "metadata": {},
   "outputs": [
    {
     "name": "stdout",
     "output_type": "stream",
     "text": [
      "Top 3 values: [70, 50, 40]\n"
     ]
    }
   ],
   "source": [
    "data = {'a': 50, 'b': 20, 'c': 70, 'd': 40}\n",
    "values = []\n",
    "for v in data.values():\n",
    "    values.append(v)\n",
    "values.sort(reverse=True)\n",
    "top3 = values[:3]\n",
    "print(\"Top 3 values:\", top3)\n"
   ]
  },
  {
   "cell_type": "markdown",
   "id": "095cf07e-65e4-4978-9dd7-8edcb12aaaab",
   "metadata": {},
   "source": [
    "58)Write a Python program to combine values in python list of dictionaries.\n",
    "Sample data: [{'item': 'item1', 'amount': 400}, {'item': 'item2', 'amount':\n",
    "300}, o {'item': 'item1', 'amount': 750}]\n",
    "Expected Output:\n",
    "• Counter ({'item1': 1150, 'item2': 300})"
   ]
  },
  {
   "cell_type": "code",
   "execution_count": 95,
   "id": "4df2e815-5abb-4db4-92ed-95b93570ce3d",
   "metadata": {},
   "outputs": [
    {
     "name": "stdout",
     "output_type": "stream",
     "text": [
      "Counter({'item1': 1150, 'item2': 300})\n"
     ]
    }
   ],
   "source": [
    "from collections import Counter\n",
    "\n",
    "data = [\n",
    "    {'item': 'item1', 'amount': 400},\n",
    "    {'item': 'item2', 'amount': 300},\n",
    "    {'item': 'item1', 'amount': 750}\n",
    "]\n",
    "\n",
    "result = Counter()\n",
    "for d in data:\n",
    "    result[d['item']] += d['amount']\n",
    "\n",
    "print(result)\n"
   ]
  },
  {
   "cell_type": "markdown",
   "id": "36d66049-3571-4af8-98ae-d038762a8408",
   "metadata": {},
   "source": [
    "59) Write a Python program to create a dictionary from a string.\n",
    "Note: Track the count of the letters from the string. \n"
   ]
  },
  {
   "cell_type": "code",
   "execution_count": 96,
   "id": "17776d8d-4a1b-4f74-b776-610537e45f00",
   "metadata": {},
   "outputs": [
    {
     "name": "stdout",
     "output_type": "stream",
     "text": [
      "{'m': 1, 'i': 4, 's': 4, 'p': 2}\n"
     ]
    }
   ],
   "source": [
    "s = \"mississippi\"\n",
    "count = {}\n",
    "for ch in s:\n",
    "    if ch in count:\n",
    "        count[ch] += 1\n",
    "    else:\n",
    "        count[ch] = 1\n",
    "print(count)\n"
   ]
  },
  {
   "cell_type": "markdown",
   "id": "911b529f-a0a0-4e30-bea9-d00b19057335",
   "metadata": {},
   "source": [
    "60) Sample string:\n",
    " 'w3resource' Expected output:\n",
    "• {'3': 1,’s’: 1, 'r': 2, 'u': 1, 'w': 1, 'c': 1, 'e': 2, 'o': 1}"
   ]
  },
  {
   "cell_type": "code",
   "execution_count": 97,
   "id": "dc4f9700-3e8e-4861-8205-f83268e5aff9",
   "metadata": {},
   "outputs": [
    {
     "name": "stdout",
     "output_type": "stream",
     "text": [
      "{'w': 1, '3': 1, 'r': 2, 'e': 2, 's': 1, 'o': 1, 'u': 1, 'c': 1}\n"
     ]
    }
   ],
   "source": [
    "s = \"w3resource\"\n",
    "count = {}\n",
    "for ch in s:\n",
    "    if ch in count:\n",
    "        count[ch] += 1\n",
    "    else:\n",
    "        count[ch] = 1\n",
    "print(count)\n"
   ]
  },
  {
   "cell_type": "markdown",
   "id": "60389dac-2be4-4c5e-9381-b1cbe3a0b5f8",
   "metadata": {},
   "source": [
    "61) Write a Python function to calculate the factorial of a number (a\n",
    "nonnegative integer)\n"
   ]
  },
  {
   "cell_type": "code",
   "execution_count": 100,
   "id": "cfd5a4a9-a892-4f30-8e63-6dcc876761b3",
   "metadata": {},
   "outputs": [
    {
     "name": "stdout",
     "output_type": "stream",
     "text": [
      "120\n"
     ]
    }
   ],
   "source": [
    "def factorial(n):\n",
    "    result = 1\n",
    "    for i in range(1, n + 1):\n",
    "        result *= i\n",
    "    return result\n",
    "\n",
    "print(factorial(5))\n"
   ]
  },
  {
   "cell_type": "markdown",
   "id": "5ac66e01-5fda-4158-9a98-3b9cd22f1cfb",
   "metadata": {},
   "source": [
    "\n",
    "62) Write a Python function to check whether a number is in a given range \n"
   ]
  },
  {
   "cell_type": "code",
   "execution_count": 101,
   "id": "89ace1e1-9330-44cd-aba5-2bf2bed7783b",
   "metadata": {},
   "outputs": [
    {
     "name": "stdout",
     "output_type": "stream",
     "text": [
      "True\n",
      "False\n"
     ]
    }
   ],
   "source": [
    "def in_range(num, low, high):\n",
    "    return low <= num <= high\n",
    "\n",
    "print(in_range(5, 1, 10))\n",
    "print(in_range(15, 1, 10))\n"
   ]
  },
  {
   "cell_type": "markdown",
   "id": "e1d74c1c-6c45-40ab-ba03-08698f2ce638",
   "metadata": {},
   "source": [
    "63) Write a Python function to check whether a number is perfect or not.\n",
    "\n"
   ]
  },
  {
   "cell_type": "code",
   "execution_count": 104,
   "id": "ed828a5d-2ea4-4d47-92a6-97b1c4f61fc3",
   "metadata": {},
   "outputs": [
    {
     "name": "stdout",
     "output_type": "stream",
     "text": [
      "True\n",
      "False\n"
     ]
    }
   ],
   "source": [
    "def is_perfect(n):\n",
    "    total = 0\n",
    "    for i in range(1, n):\n",
    "        if n % i == 0:\n",
    "            total += i\n",
    "    return total == n\n",
    "\n",
    "print(is_perfect(28))\n",
    "print(is_perfect(10))\n"
   ]
  },
  {
   "cell_type": "markdown",
   "id": "f4e86ce8-2606-4aa3-b2ce-3e27fe43c747",
   "metadata": {},
   "source": [
    "\n",
    "64) Write a Python function that checks whether a passed string is\n",
    "palindrome or not \n"
   ]
  },
  {
   "cell_type": "code",
   "execution_count": 105,
   "id": "e375a445-f043-460d-a662-3883450c4525",
   "metadata": {},
   "outputs": [
    {
     "name": "stdout",
     "output_type": "stream",
     "text": [
      "True\n",
      "False\n"
     ]
    }
   ],
   "source": [
    "def is_palindrome(s):\n",
    "    return s == s[::-1]\n",
    "\n",
    "print(is_palindrome(\"madam\"))\n",
    "print(is_palindrome(\"hello\"))\n"
   ]
  },
  {
   "cell_type": "markdown",
   "id": "5c6bfdf7-4b5b-4c8c-ae19-18eaf6101b5c",
   "metadata": {},
   "source": [
    "65) How Many Basic Types of Functions Are Available in Python?\n"
   ]
  },
  {
   "cell_type": "markdown",
   "id": "2d9344aa-b447-4038-80e1-db7dd954c058",
   "metadata": {},
   "source": [
    "There are two types:\n",
    "1) Built-in functions (like print, len, type)\n",
    "2) User-defined functions (functions we create using def)\n"
   ]
  },
  {
   "cell_type": "markdown",
   "id": "ba889234-3c88-4ff7-b0e7-38c599735a04",
   "metadata": {},
   "source": [
    "\n",
    " 66) How can you pick a random item from a list or tuple?\n"
   ]
  },
  {
   "cell_type": "code",
   "execution_count": 107,
   "id": "baa15128-4ff2-48ed-b309-f8a6ab5d06d5",
   "metadata": {},
   "outputs": [
    {
     "name": "stdout",
     "output_type": "stream",
     "text": [
      "3\n"
     ]
    }
   ],
   "source": [
    "import random\n",
    "items = [1, 2, 3, 4, 5]\n",
    "print(random.choice(items))\n"
   ]
  },
  {
   "cell_type": "markdown",
   "id": "9f2fbf1b-44ad-4768-907d-8c55822c7f5c",
   "metadata": {},
   "source": [
    "\n",
    "67) How can you pick a random item from a range?\n",
    " "
   ]
  },
  {
   "cell_type": "code",
   "execution_count": 108,
   "id": "44706ca9-efbe-4b67-8b08-5a4ec39c5359",
   "metadata": {},
   "outputs": [
    {
     "name": "stdout",
     "output_type": "stream",
     "text": [
      "6\n"
     ]
    }
   ],
   "source": [
    "import random\n",
    "print(random.randrange(1, 10))\n"
   ]
  },
  {
   "cell_type": "markdown",
   "id": "c9a9a03d-6127-41c2-b705-a54d57aeb293",
   "metadata": {},
   "source": [
    "\n",
    "68) How can you get a random number in python?\n"
   ]
  },
  {
   "cell_type": "code",
   "execution_count": 109,
   "id": "f30bff05-b3c0-45a9-bb9a-9b4ac17cd66f",
   "metadata": {},
   "outputs": [
    {
     "name": "stdout",
     "output_type": "stream",
     "text": [
      "0.20701301252109883\n"
     ]
    }
   ],
   "source": [
    "import random\n",
    "print(random.random())\n"
   ]
  },
  {
   "cell_type": "markdown",
   "id": "eada1bc9-92f1-4738-946b-dfeba6dd4d89",
   "metadata": {},
   "source": [
    "\n",
    "69) How will you set the starting value in generating random numbers? "
   ]
  },
  {
   "cell_type": "code",
   "execution_count": 110,
   "id": "37b2d10a-3c1a-42be-89e2-150e46956ac4",
   "metadata": {},
   "outputs": [
    {
     "name": "stdout",
     "output_type": "stream",
     "text": [
      "0.5714025946899135\n"
     ]
    }
   ],
   "source": [
    "import random\n",
    "random.seed(10)\n",
    "print(random.random())\n"
   ]
  },
  {
   "cell_type": "markdown",
   "id": "5911f39e-1ac0-4a79-8e24-462cd49b49ec",
   "metadata": {},
   "source": [
    "70) How will you randomize the items of a list in place?"
   ]
  },
  {
   "cell_type": "code",
   "execution_count": 111,
   "id": "0231232c-f1c9-4c29-b2df-052c99f07e5a",
   "metadata": {},
   "outputs": [
    {
     "name": "stdout",
     "output_type": "stream",
     "text": [
      "[2, 1, 3, 5, 4]\n"
     ]
    }
   ],
   "source": [
    "import random\n",
    "items = [1, 2, 3, 4, 5]\n",
    "random.shuffle(items)\n",
    "print(items)\n"
   ]
  },
  {
   "cell_type": "markdown",
   "id": "9f9031df-4947-4ebf-a6f4-bd38c7af7a36",
   "metadata": {},
   "source": [
    "71 ) What is File function in python? What are keywords to create\n",
    "and write file.\n",
    "\n"
   ]
  },
  {
   "cell_type": "markdown",
   "id": "a30655e5-65fd-40e1-b744-58c50f427b23",
   "metadata": {},
   "source": [
    "In Python, files are handled using the open() function.\n",
    "Modes:\n",
    "- \"r\" → read\n",
    "- \"w\" → write (creates new or overwrites)\n",
    "- \"a\" → append\n",
    "- \"b\" → binary mode\n",
    "- \"t\" → text mode (default)\n"
   ]
  },
  {
   "cell_type": "markdown",
   "id": "e56ce878-c8f2-4781-8449-dae7cdbf1b26",
   "metadata": {},
   "source": [
    "\n",
    "72) Write a Python program to read an entire text file.\n"
   ]
  },
  {
   "cell_type": "code",
   "execution_count": 136,
   "id": "c3000e85-15c7-42fc-8afa-bd26c1269812",
   "metadata": {},
   "outputs": [
    {
     "name": "stdout",
     "output_type": "stream",
     "text": [
      "kem palti kem cho \n"
     ]
    }
   ],
   "source": [
    "with open(\"jigar.txt\", \"r\") as f:\n",
    "    content = f.read()\n",
    "print(content)\n"
   ]
  },
  {
   "cell_type": "markdown",
   "id": "5430a0da-b65e-429c-9c72-01b39d47b249",
   "metadata": {},
   "source": [
    "\n",
    "73) Write a Python program to append text to a file and display the text.\n",
    "   \n"
   ]
  },
  {
   "cell_type": "code",
   "execution_count": 141,
   "id": "12b222b3-7536-4d63-876e-f89cb96b88b7",
   "metadata": {},
   "outputs": [
    {
     "name": "stdout",
     "output_type": "stream",
     "text": [
      "kem palti kem cho New line added\n",
      "bas bhai ek dam badiya\n",
      "bas bhai ek dam badiya\n",
      "\n"
     ]
    }
   ],
   "source": [
    "f = open(\"jigar.txt\", \"a\")\n",
    "f.write(\"bas bhai ek dam badiya\\n\")\n",
    "f.close()\n",
    "\n",
    "f = open(\"jigar.txt\", \"r\")\n",
    "print(f.read())\n",
    "f.close()\n"
   ]
  },
  {
   "cell_type": "markdown",
   "id": "881f3897-3aa6-4000-bd1f-111d87d83512",
   "metadata": {},
   "source": [
    "\n",
    "74) Write a Python program to read first n lines of a file.\n",
    "\n"
   ]
  },
  {
   "cell_type": "code",
   "execution_count": 138,
   "id": "bb18aa29-3492-4174-aa48-3d47c298cf8d",
   "metadata": {},
   "outputs": [
    {
     "name": "stdout",
     "output_type": "stream",
     "text": [
      "kem palti kem cho New line added\n"
     ]
    }
   ],
   "source": [
    "f = open(\"jigar.txt\", \"r\")\n",
    "n = 3\n",
    "for i in range(n):\n",
    "    print(f.readline(), end=\"\")\n",
    "f.close()\n"
   ]
  },
  {
   "cell_type": "markdown",
   "id": "2c217470-c00b-4b2e-80bf-b2a3c8cc3524",
   "metadata": {},
   "source": [
    "\n",
    "75) Write a Python program to read last n lines of a file. \n"
   ]
  },
  {
   "cell_type": "code",
   "execution_count": 139,
   "id": "2f157123-7412-479e-bd3c-0ff75bf776e6",
   "metadata": {},
   "outputs": [
    {
     "name": "stdout",
     "output_type": "stream",
     "text": [
      "kem palti kem cho New line added\n"
     ]
    }
   ],
   "source": [
    "f = open(\"jigar.txt\", \"r\")\n",
    "lines = f.readlines()\n",
    "n = 3\n",
    "for line in lines[-n:]:\n",
    "    print(line, end=\"\")\n",
    "f.close()\n"
   ]
  },
  {
   "cell_type": "markdown",
   "id": "7be0122d-ddbd-4a1c-a8fa-86d0b21c9d77",
   "metadata": {},
   "source": [
    "76) Write a Python program to read a file line by line and store it into a list\n"
   ]
  },
  {
   "cell_type": "code",
   "execution_count": 144,
   "id": "277656be-2942-4fbb-9f6d-4efbdfaa23b3",
   "metadata": {},
   "outputs": [
    {
     "name": "stdout",
     "output_type": "stream",
     "text": [
      "['kem palti kem cho New line added\\n', 'bas bhai ek dam badiya\\n', 'bas bhai ek dam badiya\\n']\n"
     ]
    }
   ],
   "source": [
    "with open(\"jigar.txt\", \"r\") as f:\n",
    "    lines = f.readlines()\n",
    "print(lines)\n"
   ]
  },
  {
   "cell_type": "markdown",
   "id": "2b6d4ca5-a060-406f-ad53-c0ff66fe6572",
   "metadata": {},
   "source": [
    "\n",
    "77) Write a Python program to read a file line by line store it into a variable.\n"
   ]
  },
  {
   "cell_type": "code",
   "execution_count": 145,
   "id": "abf48a56-caee-4550-880d-13eebed210ca",
   "metadata": {},
   "outputs": [
    {
     "name": "stdout",
     "output_type": "stream",
     "text": [
      "kem palti kem cho New line added\n",
      "bas bhai ek dam badiya\n",
      "bas bhai ek dam badiya\n",
      "\n"
     ]
    }
   ],
   "source": [
    "with open(\"jigar.txt\", \"r\") as f:\n",
    "    content = \"\"\n",
    "    for line in f:\n",
    "        content += line\n",
    "print(content)\n"
   ]
  },
  {
   "cell_type": "markdown",
   "id": "0d0f6062-ac0e-47bb-b903-d5871f2c7b11",
   "metadata": {},
   "source": [
    "\n",
    "78) Write a python program to find the longest words.\n",
    " "
   ]
  },
  {
   "cell_type": "code",
   "execution_count": 146,
   "id": "ba4ee84e-ab73-43b6-988d-f6fbfe10660b",
   "metadata": {},
   "outputs": [
    {
     "name": "stdout",
     "output_type": "stream",
     "text": [
      "badiya\n"
     ]
    }
   ],
   "source": [
    "with open(\"jigar.txt\", \"r\") as f:\n",
    "    words = f.read().split()\n",
    "longest = max(words, key=len)\n",
    "print(longest)\n"
   ]
  },
  {
   "cell_type": "markdown",
   "id": "acfbce86-e22c-4f3c-ae2f-7b7465b5b596",
   "metadata": {},
   "source": [
    "\n",
    "79) Write a Python program to count the number of lines in a text file.\n"
   ]
  },
  {
   "cell_type": "code",
   "execution_count": 147,
   "id": "c15a6cf5-a177-48a9-97aa-f080399d4d6c",
   "metadata": {},
   "outputs": [
    {
     "name": "stdout",
     "output_type": "stream",
     "text": [
      "3\n"
     ]
    }
   ],
   "source": [
    "with open(\"jigar.txt\", \"r\") as f:\n",
    "    count = len(f.readlines())\n",
    "print(count)\n"
   ]
  },
  {
   "cell_type": "markdown",
   "id": "2211e076-d30c-4a56-af7a-e0eb78c78809",
   "metadata": {},
   "source": [
    "\n",
    "80) Write a Python program to count the frequency of words in a file. "
   ]
  },
  {
   "cell_type": "code",
   "execution_count": 148,
   "id": "f0305943-4acc-46af-a404-f32f405357a9",
   "metadata": {},
   "outputs": [
    {
     "name": "stdout",
     "output_type": "stream",
     "text": [
      "{'kem': 2, 'palti': 1, 'cho': 1, 'New': 1, 'line': 1, 'added': 1, 'bas': 2, 'bhai': 2, 'ek': 2, 'dam': 2, 'badiya': 2}\n"
     ]
    }
   ],
   "source": [
    "with open(\"jigar.txt\", \"r\") as f:\n",
    "    words = f.read().split()\n",
    "freq = {}\n",
    "for w in words:\n",
    "    freq[w] = freq.get(w, 0) + 1\n",
    "print(freq)\n"
   ]
  },
  {
   "cell_type": "markdown",
   "id": "53a14332-9b97-4f0f-a20c-42ad4bf68e7d",
   "metadata": {},
   "source": [
    "81) Write a Python program to write a list to a file.\n"
   ]
  },
  {
   "cell_type": "code",
   "execution_count": 158,
   "id": "43c5cbfc-6b1d-4c66-9ceb-5f9cf3c14d26",
   "metadata": {},
   "outputs": [
    {
     "name": "stdout",
     "output_type": "stream",
     "text": [
      "Apple\n",
      "Banana\n",
      "Cherry\n",
      "\n"
     ]
    }
   ],
   "source": [
    "with open(\"fruits.txt\", \"w\") as f:\n",
    "    for item in data:\n",
    "        f.write(item + \"\\n\")\n",
    "\n",
    "with open(\"fruits.txt\", \"r\") as f:\n",
    "    print(f.read())\n"
   ]
  },
  {
   "cell_type": "markdown",
   "id": "b6b19af4-eb50-4950-919e-8b8ee111151a",
   "metadata": {},
   "source": [
    "\n",
    "82) Write a Python program to copy the contents of a file to another file.\n",
    " "
   ]
  },
  {
   "cell_type": "code",
   "execution_count": 159,
   "id": "a67080a3-f04f-4c35-af01-22791e3783b6",
   "metadata": {},
   "outputs": [
    {
     "name": "stdout",
     "output_type": "stream",
     "text": [
      "kem palti kem cho \n",
      "bas bhai ek dam badiya\n",
      "\n"
     ]
    }
   ],
   "source": [
    "with open(\"jigar.txt\", \"r\") as f1:\n",
    "    content = f1.read()\n",
    "with open(\"copy.txt\", \"w\") as f2:\n",
    "    f2.write(content)\n",
    "\n",
    "with open(\"copy.txt\", \"r\") as f:\n",
    "    print(f.read())\n"
   ]
  },
  {
   "cell_type": "markdown",
   "id": "30c017a5-cb72-48d4-b90d-16af6d0a7c79",
   "metadata": {},
   "source": [
    "\n",
    "83) Explain Exception handling? What is an Error in Python?\n"
   ]
  },
  {
   "cell_type": "markdown",
   "id": "961ecff4-188e-4872-a200-316a8076d0ad",
   "metadata": {},
   "source": [
    "Errors are problems in a program that stop execution\n",
    "Exception handling lets us deal with errors without crashing the program\n",
    "We use try-except blocks to catch exceptions and handle them properly\n"
   ]
  },
  {
   "cell_type": "markdown",
   "id": "fe9aa079-1b2f-4f2c-82e4-29f7f39b6d0c",
   "metadata": {},
   "source": [
    "\n",
    "84) How many except statements can a try-except block have? Name\n",
    "Some built-in exception classes:\n"
   ]
  },
  {
   "cell_type": "markdown",
   "id": "ba98b2f9-f1ae-4f2c-8af7-be5f5bdebd33",
   "metadata": {},
   "source": [
    "A try block can have multiple except statements.\n",
    "Common built-in exception classes:\n",
    "- ZeroDivisionError\n",
    "- FileNotFoundError\n",
    "- ValueError\n",
    "- TypeError\n",
    "- IndexError\n"
   ]
  },
  {
   "cell_type": "markdown",
   "id": "dfd7e632-ac1e-453f-ae45-a584c5c8aeee",
   "metadata": {},
   "source": [
    "\n",
    "85) When will the else part of try-except-else be executed? "
   ]
  },
  {
   "cell_type": "markdown",
   "id": "99676287-8470-452c-a954-d777044cfe86",
   "metadata": {},
   "source": [
    "The else block runs only when no exception occurs inside the try block"
   ]
  },
  {
   "cell_type": "markdown",
   "id": "e1ce2559-bf37-4c8d-b464-1b02fc901a1e",
   "metadata": {},
   "source": [
    "86) Can one block of except statements handle multiple exception?\n"
   ]
  },
  {
   "cell_type": "markdown",
   "id": "dd1d0977-d1e3-4ccd-9e90-482da4cebc29",
   "metadata": {},
   "source": [
    "Yes, a single except block can handle multiple exceptions using parentheses"
   ]
  },
  {
   "cell_type": "markdown",
   "id": "8839e9b7-b31b-4bcb-858a-56fd53c3e51f",
   "metadata": {},
   "source": [
    "\n",
    "87) When is the finally block executed?\n"
   ]
  },
  {
   "cell_type": "markdown",
   "id": "17f85a5d-9090-47ca-aafc-b0ab7428eb74",
   "metadata": {},
   "source": [
    "The finally block always runs, whether an exception occurs or not"
   ]
  },
  {
   "cell_type": "markdown",
   "id": "578d0e1a-bfd3-46d4-bf88-3f4b7705383d",
   "metadata": {},
   "source": [
    "\n",
    "88) What happens when „1‟== 1 is executed?\n"
   ]
  },
  {
   "cell_type": "markdown",
   "id": "16f49942-cc3f-49ef-b721-360f2fcf2cc4",
   "metadata": {},
   "source": [
    "It returns False because one is a string and the other is an integer"
   ]
  },
  {
   "cell_type": "markdown",
   "id": "1e0eaf6a-6092-4505-ab85-7c9109f3ea9a",
   "metadata": {},
   "source": [
    "\n",
    "89) How Do You Handle Exceptions with Try/Except/Finally in Python?\n",
    "Explain with coding snippets.\n"
   ]
  },
  {
   "cell_type": "code",
   "execution_count": 163,
   "id": "940313d5-5aa2-4d24-b4b6-2de037934111",
   "metadata": {},
   "outputs": [
    {
     "name": "stdout",
     "output_type": "stream",
     "text": [
      "Enter a number:  12330\n"
     ]
    },
    {
     "name": "stdout",
     "output_type": "stream",
     "text": [
      "Number is: 12330\n",
      "This block always runs\n"
     ]
    }
   ],
   "source": [
    "try:\n",
    "    x = int(input(\"Enter a number: \"))\n",
    "    print(\"Number is:\", x)\n",
    "except ValueError:\n",
    "    print(\"Invalid input\")\n",
    "finally:\n",
    "    print(\"This block always runs\")\n"
   ]
  },
  {
   "cell_type": "markdown",
   "id": "8413e728-7e27-4ad0-b701-4a9db1cc5f1c",
   "metadata": {},
   "source": [
    "\n",
    "90) Write python program that user to enter only odd numbers, else\n",
    "will raise an exception"
   ]
  },
  {
   "cell_type": "code",
   "execution_count": 165,
   "id": "50ed8b2f-5f96-4ef5-a75b-06b2140bb9d8",
   "metadata": {},
   "outputs": [
    {
     "name": "stdout",
     "output_type": "stream",
     "text": [
      "Enter an odd number:  2\n"
     ]
    },
    {
     "name": "stdout",
     "output_type": "stream",
     "text": [
      "Error: Even number entered\n"
     ]
    }
   ],
   "source": [
    "try:\n",
    "    num = int(input(\"Enter an odd number: \"))\n",
    "    if num % 2 == 0:\n",
    "        raise ValueError(\"Even number entered\")\n",
    "    print(\"You entered an odd number\")\n",
    "except ValueError as e:\n",
    "    print(\"Error:\", e)\n"
   ]
  },
  {
   "cell_type": "code",
   "execution_count": null,
   "id": "7f859f21",
   "metadata": {},
   "outputs": [],
   "source": []
  },
  {
   "cell_type": "code",
   "execution_count": null,
   "id": "b89eaf02-33f4-4746-80c8-7eebd97b3510",
   "metadata": {},
   "outputs": [],
   "source": []
  }
 ],
 "metadata": {
  "kernelspec": {
   "display_name": "Python 3 (ipykernel)",
   "language": "python",
   "name": "python3"
  },
  "language_info": {
   "codemirror_mode": {
    "name": "ipython",
    "version": 3
   },
   "file_extension": ".py",
   "mimetype": "text/x-python",
   "name": "python",
   "nbconvert_exporter": "python",
   "pygments_lexer": "ipython3",
   "version": "3.12.5"
  }
 },
 "nbformat": 4,
 "nbformat_minor": 5
}
