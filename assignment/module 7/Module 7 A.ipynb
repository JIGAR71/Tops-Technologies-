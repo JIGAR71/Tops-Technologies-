{
 "cells": [
  {
   "cell_type": "markdown",
   "id": "de096ae7-cf97-458e-af07-45b8fe73ac04",
   "metadata": {},
   "source": [
    "# Module 7 - Introduction to Python"
   ]
  },
  {
   "cell_type": "markdown",
   "id": "665649ca-48b9-4c6b-a7f6-e28b7596e2d5",
   "metadata": {},
   "source": [
    " 1. What are the types of Applications?"
   ]
  },
  {
   "cell_type": "raw",
   "id": "2b6b131e-bbdb-4635-bff0-55a5df5b354f",
   "metadata": {},
   "source": [
    "applications is everywhere – some run on our phones, some on computers,\n",
    "and some silently in the background. These include:\n",
    "- Web apps (like Gmail and YouTube)\n",
    "- Desktop apps (like MS Word and Excel)\n",
    "- Mobile apps (like WhatsApp and Instagram)\n",
    "- Games (like PUBG and Candy Crush)\n",
    "- AI/ML apps (like ChatGPT )\n",
    "Python helps build all of these. end this is a truly  versatile and powerful language."
   ]
  },
  {
   "cell_type": "markdown",
   "id": "abb493bc-1cdb-4fd6-b7f7-0789e6e1b85f",
   "metadata": {},
   "source": [
    "2. What is programming?"
   ]
  },
  {
   "cell_type": "raw",
   "id": "9a9ee895-f1b7-4b0b-b57f-c7ecf5eec872",
   "metadata": {},
   "source": [
    "Programming is basically telling the computer what to do, using a special language it understands.\n",
    "Just like we use English or Hindi to communicate, computers follow instructions through code.\n",
    "You can ask the computer to add numbers, display messages, save data – all using programs."
   ]
  },
  {
   "cell_type": "markdown",
   "id": "3ea67493-7e5e-4112-b032-7fb9b04afb20",
   "metadata": {},
   "source": [
    "3 .What is Python?"
   ]
  },
  {
   "cell_type": "raw",
   "id": "af8fb2e7-e2ba-4f1e-9d1a-423b966c2225",
   "metadata": {},
   "source": [
    "Python is a beginner-friendly and powerful programming language.\n",
    "Its syntax is very clean and almost like English, which makes it easy to learn.\n",
    "People use Python for building websites, automating tasks, creating AI models,\n",
    "and analyzing large sets of data. It’s one of the most popular languages today."
   ]
  },
  {
   "cell_type": "markdown",
   "id": "f43a1f3f-40ff-4477-877d-e9c879ebbe5f",
   "metadata": {},
   "source": [
    "4. Check if a number is Positive, Negative or Zero"
   ]
  },
  {
   "cell_type": "code",
   "execution_count": 3,
   "id": "408e9660-ccff-4fd2-acd5-d6d6517be3d5",
   "metadata": {},
   "outputs": [
    {
     "name": "stdin",
     "output_type": "stream",
     "text": [
      "Enter a number:  1\n"
     ]
    },
    {
     "name": "stdout",
     "output_type": "stream",
     "text": [
      "Positive\n"
     ]
    }
   ],
   "source": [
    "num = int(input(\"Enter a number: \"))\n",
    "if num > 0:\n",
    "    print(\"Positive\")\n",
    "elif num == 0:\n",
    "    print(\"Zero\")\n",
    "else:\n",
    "    print(\"Negative\")"
   ]
  },
  {
   "cell_type": "markdown",
   "id": "a304d637-a0d2-4fcd-87ba-9702391cb260",
   "metadata": {},
   "source": [
    "5. Find Factorial of a Number"
   ]
  },
  {
   "cell_type": "code",
   "execution_count": 6,
   "id": "68366c0a-29e0-45b3-8c45-efd89a376bfa",
   "metadata": {},
   "outputs": [
    {
     "name": "stdin",
     "output_type": "stream",
     "text": [
      "Enter a number for factorial:  500\n"
     ]
    },
    {
     "name": "stdout",
     "output_type": "stream",
     "text": [
      "Factorial is: 1220136825991110068701238785423046926253574342803192842192413588385845373153881997605496447502203281863013616477148203584163378722078177200480785205159329285477907571939330603772960859086270429174547882424912726344305670173270769461062802310452644218878789465754777149863494367781037644274033827365397471386477878495438489595537537990423241061271326984327745715546309977202781014561081188373709531016356324432987029563896628911658974769572087926928871281780070265174507768410719624390394322536422605234945850129918571501248706961568141625359056693423813008856249246891564126775654481886506593847951775360894005745238940335798476363944905313062323749066445048824665075946735862074637925184200459369692981022263971952597190945217823331756934581508552332820762820023402626907898342451712006207714640979456116127629145951237229913340169552363850942885592018727433795173014586357570828355780158735432768888680120399882384702151467605445407663535984174430480128938313896881639487469658817504506926365338175055478128640000000000000000000000000000000000000000000000000000000000000000000000000000000000000000000000000000000000000000000000000000\n"
     ]
    }
   ],
   "source": [
    "num = int(input(\"Enter a number for factorial: \"))\n",
    "fact = 1\n",
    "for i in range(1, num + 1):\n",
    "    fact *= i\n",
    "print(\"Factorial is:\", fact)"
   ]
  },
  {
   "cell_type": "markdown",
   "id": "01ada400-05af-4714-b698-fddfd56181df",
   "metadata": {},
   "source": [
    "6) Fibonacci Series of a Given Range"
   ]
  },
  {
   "cell_type": "code",
   "execution_count": 7,
   "id": "13aacda4-84fb-4acc-b533-294c5f498000",
   "metadata": {},
   "outputs": [
    {
     "name": "stdin",
     "output_type": "stream",
     "text": [
      "Enter the number of Fibonacci terms:  3\n"
     ]
    },
    {
     "name": "stdout",
     "output_type": "stream",
     "text": [
      "0 1 1 "
     ]
    }
   ],
   "source": [
    "n = int(input(\"Enter the number of Fibonacci terms: \"))\n",
    "a, b = 0, 1\n",
    "for _ in range(n):\n",
    "    print(a, end=\" \")\n",
    "    a, b = b, a + b"
   ]
  },
  {
   "cell_type": "markdown",
   "id": "22ca7d17-6bc8-401a-b881-547441742d0c",
   "metadata": {},
   "source": [
    "7) How does Python manage memory?"
   ]
  },
  {
   "cell_type": "raw",
   "id": "1d8285fd-6fc1-4231-a01b-dc4140c33c7e",
   "metadata": {},
   "source": [
    "The best part about Python is that it handles memory automatically.\n",
    "It uses a built-in garbage collector that removes unused variables and frees up space.\n",
    "So you can focus on writing code, and Python will manage memory in the background."
   ]
  },
  {
   "cell_type": "markdown",
   "id": "ea551d5a-11bb-4210-ad69-3f60affe8092",
   "metadata": {},
   "source": [
    "8. What is the 'continue' statement?"
   ]
  },
  {
   "cell_type": "raw",
   "id": "09eb26c1-1f50-468f-8d3c-08e5f52605f8",
   "metadata": {},
   "source": [
    "The 'continue' statement is used inside loops to skip a particular step and move to the next one.\n",
    "For example, if you're looping through numbers but want to ignore even ones,\n",
    "'continue' can help you skip them."
   ]
  },
  {
   "cell_type": "markdown",
   "id": "9ed3c8b4-2636-4161-98f3-ff7340b2b7d8",
   "metadata": {},
   "source": [
    "9. Swap Two Numbers (With and Without Temp)"
   ]
  },
  {
   "cell_type": "code",
   "execution_count": 11,
   "id": "9d6003c4-76d3-489c-bcd6-57c260fc7a8e",
   "metadata": {},
   "outputs": [
    {
     "name": "stdout",
     "output_type": "stream",
     "text": [
      "With temp swap: a = 10 , b = 5\n",
      "Without temp swap: a = 10 , b = 5\n"
     ]
    }
   ],
   "source": [
    "# With temp\n",
    "a = 5\n",
    "b = 10\n",
    "temp = a\n",
    "a = b\n",
    "b = temp\n",
    "print(\"With temp swap: a =\", a, \", b =\", b)\n",
    "\n",
    "# Without temp\n",
    "a, b = 5, 10\n",
    "a = a + b\n",
    "b = a - b\n",
    "a = a - b\n",
    "print(\"Without temp swap: a =\", a, \", b =\", b)"
   ]
  },
  {
   "cell_type": "markdown",
   "id": "b1e03b7f-4622-48c5-9ab9-3bb6e54623e7",
   "metadata": {},
   "source": [
    "10. Check Even or Odd Number"
   ]
  },
  {
   "cell_type": "code",
   "execution_count": 12,
   "id": "e2c7ec6c-3673-4d3c-8969-6020fc6f077e",
   "metadata": {},
   "outputs": [
    {
     "name": "stdin",
     "output_type": "stream",
     "text": [
      "Enter a number:  6\n"
     ]
    },
    {
     "name": "stdout",
     "output_type": "stream",
     "text": [
      "Even number\n"
     ]
    }
   ],
   "source": [
    "num = int(input(\"Enter a number: \"))\n",
    "if num % 2 == 0:\n",
    "    print(\"Even number\")\n",
    "else:\n",
    "    print(\"Odd number\")"
   ]
  },
  {
   "cell_type": "markdown",
   "id": "ed027235-d37a-418c-bb4f-32da7ec30115",
   "metadata": {},
   "source": [
    "11. hellow"
   ]
  },
  {
   "cell_type": "code",
   "execution_count": null,
   "id": "7ff95f67-2c52-4d06-acc8-45d5f5dbb4f4",
   "metadata": {},
   "outputs": [],
   "source": []
  }
 ],
 "metadata": {
  "kernelspec": {
   "display_name": "Python 3 (ipykernel)",
   "language": "python",
   "name": "python3"
  },
  "language_info": {
   "codemirror_mode": {
    "name": "ipython",
    "version": 3
   },
   "file_extension": ".py",
   "mimetype": "text/x-python",
   "name": "python",
   "nbconvert_exporter": "python",
   "pygments_lexer": "ipython3",
   "version": "3.12.5"
  }
 },
 "nbformat": 4,
 "nbformat_minor": 5
}
