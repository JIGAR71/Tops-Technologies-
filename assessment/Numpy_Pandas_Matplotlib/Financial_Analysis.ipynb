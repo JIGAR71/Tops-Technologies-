{
  "nbformat": 4,
  "nbformat_minor": 0,
  "metadata": {
    "colab": {
      "provenance": []
    },
    "kernelspec": {
      "name": "python3",
      "display_name": "Python 3"
    },
    "language_info": {
      "name": "python"
    }
  },
  "cells": [
    {
      "cell_type": "code",
      "execution_count": 1,
      "metadata": {
        "colab": {
          "base_uri": "https://localhost:8080/",
          "height": 73
        },
        "id": "gQOe0t9r7Ikf",
        "outputId": "e97680f4-c4ee-47ed-e34c-b227c63229b4"
      },
      "outputs": [
        {
          "output_type": "display_data",
          "data": {
            "text/plain": [
              "<IPython.core.display.HTML object>"
            ],
            "text/html": [
              "\n",
              "     <input type=\"file\" id=\"files-98b111d5-c59f-4fc7-b55d-7b9b26661dc4\" name=\"files[]\" multiple disabled\n",
              "        style=\"border:none\" />\n",
              "     <output id=\"result-98b111d5-c59f-4fc7-b55d-7b9b26661dc4\">\n",
              "      Upload widget is only available when the cell has been executed in the\n",
              "      current browser session. Please rerun this cell to enable.\n",
              "      </output>\n",
              "      <script>// Copyright 2017 Google LLC\n",
              "//\n",
              "// Licensed under the Apache License, Version 2.0 (the \"License\");\n",
              "// you may not use this file except in compliance with the License.\n",
              "// You may obtain a copy of the License at\n",
              "//\n",
              "//      http://www.apache.org/licenses/LICENSE-2.0\n",
              "//\n",
              "// Unless required by applicable law or agreed to in writing, software\n",
              "// distributed under the License is distributed on an \"AS IS\" BASIS,\n",
              "// WITHOUT WARRANTIES OR CONDITIONS OF ANY KIND, either express or implied.\n",
              "// See the License for the specific language governing permissions and\n",
              "// limitations under the License.\n",
              "\n",
              "/**\n",
              " * @fileoverview Helpers for google.colab Python module.\n",
              " */\n",
              "(function(scope) {\n",
              "function span(text, styleAttributes = {}) {\n",
              "  const element = document.createElement('span');\n",
              "  element.textContent = text;\n",
              "  for (const key of Object.keys(styleAttributes)) {\n",
              "    element.style[key] = styleAttributes[key];\n",
              "  }\n",
              "  return element;\n",
              "}\n",
              "\n",
              "// Max number of bytes which will be uploaded at a time.\n",
              "const MAX_PAYLOAD_SIZE = 100 * 1024;\n",
              "\n",
              "function _uploadFiles(inputId, outputId) {\n",
              "  const steps = uploadFilesStep(inputId, outputId);\n",
              "  const outputElement = document.getElementById(outputId);\n",
              "  // Cache steps on the outputElement to make it available for the next call\n",
              "  // to uploadFilesContinue from Python.\n",
              "  outputElement.steps = steps;\n",
              "\n",
              "  return _uploadFilesContinue(outputId);\n",
              "}\n",
              "\n",
              "// This is roughly an async generator (not supported in the browser yet),\n",
              "// where there are multiple asynchronous steps and the Python side is going\n",
              "// to poll for completion of each step.\n",
              "// This uses a Promise to block the python side on completion of each step,\n",
              "// then passes the result of the previous step as the input to the next step.\n",
              "function _uploadFilesContinue(outputId) {\n",
              "  const outputElement = document.getElementById(outputId);\n",
              "  const steps = outputElement.steps;\n",
              "\n",
              "  const next = steps.next(outputElement.lastPromiseValue);\n",
              "  return Promise.resolve(next.value.promise).then((value) => {\n",
              "    // Cache the last promise value to make it available to the next\n",
              "    // step of the generator.\n",
              "    outputElement.lastPromiseValue = value;\n",
              "    return next.value.response;\n",
              "  });\n",
              "}\n",
              "\n",
              "/**\n",
              " * Generator function which is called between each async step of the upload\n",
              " * process.\n",
              " * @param {string} inputId Element ID of the input file picker element.\n",
              " * @param {string} outputId Element ID of the output display.\n",
              " * @return {!Iterable<!Object>} Iterable of next steps.\n",
              " */\n",
              "function* uploadFilesStep(inputId, outputId) {\n",
              "  const inputElement = document.getElementById(inputId);\n",
              "  inputElement.disabled = false;\n",
              "\n",
              "  const outputElement = document.getElementById(outputId);\n",
              "  outputElement.innerHTML = '';\n",
              "\n",
              "  const pickedPromise = new Promise((resolve) => {\n",
              "    inputElement.addEventListener('change', (e) => {\n",
              "      resolve(e.target.files);\n",
              "    });\n",
              "  });\n",
              "\n",
              "  const cancel = document.createElement('button');\n",
              "  inputElement.parentElement.appendChild(cancel);\n",
              "  cancel.textContent = 'Cancel upload';\n",
              "  const cancelPromise = new Promise((resolve) => {\n",
              "    cancel.onclick = () => {\n",
              "      resolve(null);\n",
              "    };\n",
              "  });\n",
              "\n",
              "  // Wait for the user to pick the files.\n",
              "  const files = yield {\n",
              "    promise: Promise.race([pickedPromise, cancelPromise]),\n",
              "    response: {\n",
              "      action: 'starting',\n",
              "    }\n",
              "  };\n",
              "\n",
              "  cancel.remove();\n",
              "\n",
              "  // Disable the input element since further picks are not allowed.\n",
              "  inputElement.disabled = true;\n",
              "\n",
              "  if (!files) {\n",
              "    return {\n",
              "      response: {\n",
              "        action: 'complete',\n",
              "      }\n",
              "    };\n",
              "  }\n",
              "\n",
              "  for (const file of files) {\n",
              "    const li = document.createElement('li');\n",
              "    li.append(span(file.name, {fontWeight: 'bold'}));\n",
              "    li.append(span(\n",
              "        `(${file.type || 'n/a'}) - ${file.size} bytes, ` +\n",
              "        `last modified: ${\n",
              "            file.lastModifiedDate ? file.lastModifiedDate.toLocaleDateString() :\n",
              "                                    'n/a'} - `));\n",
              "    const percent = span('0% done');\n",
              "    li.appendChild(percent);\n",
              "\n",
              "    outputElement.appendChild(li);\n",
              "\n",
              "    const fileDataPromise = new Promise((resolve) => {\n",
              "      const reader = new FileReader();\n",
              "      reader.onload = (e) => {\n",
              "        resolve(e.target.result);\n",
              "      };\n",
              "      reader.readAsArrayBuffer(file);\n",
              "    });\n",
              "    // Wait for the data to be ready.\n",
              "    let fileData = yield {\n",
              "      promise: fileDataPromise,\n",
              "      response: {\n",
              "        action: 'continue',\n",
              "      }\n",
              "    };\n",
              "\n",
              "    // Use a chunked sending to avoid message size limits. See b/62115660.\n",
              "    let position = 0;\n",
              "    do {\n",
              "      const length = Math.min(fileData.byteLength - position, MAX_PAYLOAD_SIZE);\n",
              "      const chunk = new Uint8Array(fileData, position, length);\n",
              "      position += length;\n",
              "\n",
              "      const base64 = btoa(String.fromCharCode.apply(null, chunk));\n",
              "      yield {\n",
              "        response: {\n",
              "          action: 'append',\n",
              "          file: file.name,\n",
              "          data: base64,\n",
              "        },\n",
              "      };\n",
              "\n",
              "      let percentDone = fileData.byteLength === 0 ?\n",
              "          100 :\n",
              "          Math.round((position / fileData.byteLength) * 100);\n",
              "      percent.textContent = `${percentDone}% done`;\n",
              "\n",
              "    } while (position < fileData.byteLength);\n",
              "  }\n",
              "\n",
              "  // All done.\n",
              "  yield {\n",
              "    response: {\n",
              "      action: 'complete',\n",
              "    }\n",
              "  };\n",
              "}\n",
              "\n",
              "scope.google = scope.google || {};\n",
              "scope.google.colab = scope.google.colab || {};\n",
              "scope.google.colab._files = {\n",
              "  _uploadFiles,\n",
              "  _uploadFilesContinue,\n",
              "};\n",
              "})(self);\n",
              "</script> "
            ]
          },
          "metadata": {}
        },
        {
          "output_type": "stream",
          "name": "stdout",
          "text": [
            "Saving finance_economics_dataset.csv to finance_economics_dataset.csv\n"
          ]
        }
      ],
      "source": [
        "from google.colab import files\n",
        "\n",
        "uploaded = files.upload()\n"
      ]
    },
    {
      "cell_type": "code",
      "source": [
        "import pandas as pd\n",
        "\n",
        "df = pd.read_csv('/content/finance_economics_dataset.csv')\n",
        "df.head()\n"
      ],
      "metadata": {
        "colab": {
          "base_uri": "https://localhost:8080/",
          "height": 429
        },
        "id": "EKYz4IF_8OmD",
        "outputId": "fc216509-d80f-4ac7-d7c4-bf6412dace39"
      },
      "execution_count": 2,
      "outputs": [
        {
          "output_type": "execute_result",
          "data": {
            "text/plain": [
              "         Date Stock Index  Open Price  Close Price  Daily High  Daily Low  \\\n",
              "0  2000-01-01   Dow Jones     2128.75      2138.48     2143.70    2100.55   \n",
              "1  2000-01-02     S&P 500     2046.82      2036.18     2082.83    2009.53   \n",
              "2  2000-01-03   Dow Jones     1987.92      1985.26     2022.28    1978.37   \n",
              "3  2000-01-04   Dow Jones     4625.02      4660.47     4665.26    4595.46   \n",
              "4  2000-01-05     S&P 500     1998.18      1982.18     2044.31    1966.44   \n",
              "\n",
              "   Trading Volume  GDP Growth (%)  Inflation Rate (%)  Unemployment Rate (%)  \\\n",
              "0         2670411           -0.37                6.06                   6.10   \n",
              "1       690220415            3.19                4.95                   6.62   \n",
              "2       315284661            5.54                9.13                   2.60   \n",
              "3        13098297           10.00                3.77                   2.20   \n",
              "4       385306746            1.53                2.20                   8.20   \n",
              "\n",
              "   ...  Forex USD/EUR  Forex USD/JPY  Crude Oil Price (USD per Barrel)  \\\n",
              "0  ...           1.04         119.87                             47.20   \n",
              "1  ...           1.00          98.22                             52.84   \n",
              "2  ...           0.83          80.13                             78.80   \n",
              "3  ...           0.95         149.15                             28.18   \n",
              "4  ...           1.43         113.71                             92.20   \n",
              "\n",
              "   Gold Price (USD per Ounce)  Real Estate Index  Retail Sales (Billion USD)  \\\n",
              "0                     1052.34             390.23                        2229   \n",
              "1                     1957.73             346.23                        4156   \n",
              "2                     2339.49             439.46                         340   \n",
              "3                     1308.54             213.07                        8456   \n",
              "4                     2210.08             405.49                        1596   \n",
              "\n",
              "   Bankruptcy Rate (%)  Mergers & Acquisitions Deals  \\\n",
              "0                 2.12                             3   \n",
              "1                 1.40                            21   \n",
              "2                 0.79                            48   \n",
              "3                 4.22                            16   \n",
              "4                 2.21                            34   \n",
              "\n",
              "   Venture Capital Funding (Billion USD)  Consumer Spending (Billion USD)  \n",
              "0                                  76.64                             4589  \n",
              "1                                   5.67                            10101  \n",
              "2                                  39.43                            13665  \n",
              "3                                  12.83                             5192  \n",
              "4                                  86.37                            10688  \n",
              "\n",
              "[5 rows x 24 columns]"
            ],
            "text/html": [
              "\n",
              "  <div id=\"df-e899f881-68a1-4454-8e92-878e0b6421ab\" class=\"colab-df-container\">\n",
              "    <div>\n",
              "<style scoped>\n",
              "    .dataframe tbody tr th:only-of-type {\n",
              "        vertical-align: middle;\n",
              "    }\n",
              "\n",
              "    .dataframe tbody tr th {\n",
              "        vertical-align: top;\n",
              "    }\n",
              "\n",
              "    .dataframe thead th {\n",
              "        text-align: right;\n",
              "    }\n",
              "</style>\n",
              "<table border=\"1\" class=\"dataframe\">\n",
              "  <thead>\n",
              "    <tr style=\"text-align: right;\">\n",
              "      <th></th>\n",
              "      <th>Date</th>\n",
              "      <th>Stock Index</th>\n",
              "      <th>Open Price</th>\n",
              "      <th>Close Price</th>\n",
              "      <th>Daily High</th>\n",
              "      <th>Daily Low</th>\n",
              "      <th>Trading Volume</th>\n",
              "      <th>GDP Growth (%)</th>\n",
              "      <th>Inflation Rate (%)</th>\n",
              "      <th>Unemployment Rate (%)</th>\n",
              "      <th>...</th>\n",
              "      <th>Forex USD/EUR</th>\n",
              "      <th>Forex USD/JPY</th>\n",
              "      <th>Crude Oil Price (USD per Barrel)</th>\n",
              "      <th>Gold Price (USD per Ounce)</th>\n",
              "      <th>Real Estate Index</th>\n",
              "      <th>Retail Sales (Billion USD)</th>\n",
              "      <th>Bankruptcy Rate (%)</th>\n",
              "      <th>Mergers &amp; Acquisitions Deals</th>\n",
              "      <th>Venture Capital Funding (Billion USD)</th>\n",
              "      <th>Consumer Spending (Billion USD)</th>\n",
              "    </tr>\n",
              "  </thead>\n",
              "  <tbody>\n",
              "    <tr>\n",
              "      <th>0</th>\n",
              "      <td>2000-01-01</td>\n",
              "      <td>Dow Jones</td>\n",
              "      <td>2128.75</td>\n",
              "      <td>2138.48</td>\n",
              "      <td>2143.70</td>\n",
              "      <td>2100.55</td>\n",
              "      <td>2670411</td>\n",
              "      <td>-0.37</td>\n",
              "      <td>6.06</td>\n",
              "      <td>6.10</td>\n",
              "      <td>...</td>\n",
              "      <td>1.04</td>\n",
              "      <td>119.87</td>\n",
              "      <td>47.20</td>\n",
              "      <td>1052.34</td>\n",
              "      <td>390.23</td>\n",
              "      <td>2229</td>\n",
              "      <td>2.12</td>\n",
              "      <td>3</td>\n",
              "      <td>76.64</td>\n",
              "      <td>4589</td>\n",
              "    </tr>\n",
              "    <tr>\n",
              "      <th>1</th>\n",
              "      <td>2000-01-02</td>\n",
              "      <td>S&amp;P 500</td>\n",
              "      <td>2046.82</td>\n",
              "      <td>2036.18</td>\n",
              "      <td>2082.83</td>\n",
              "      <td>2009.53</td>\n",
              "      <td>690220415</td>\n",
              "      <td>3.19</td>\n",
              "      <td>4.95</td>\n",
              "      <td>6.62</td>\n",
              "      <td>...</td>\n",
              "      <td>1.00</td>\n",
              "      <td>98.22</td>\n",
              "      <td>52.84</td>\n",
              "      <td>1957.73</td>\n",
              "      <td>346.23</td>\n",
              "      <td>4156</td>\n",
              "      <td>1.40</td>\n",
              "      <td>21</td>\n",
              "      <td>5.67</td>\n",
              "      <td>10101</td>\n",
              "    </tr>\n",
              "    <tr>\n",
              "      <th>2</th>\n",
              "      <td>2000-01-03</td>\n",
              "      <td>Dow Jones</td>\n",
              "      <td>1987.92</td>\n",
              "      <td>1985.26</td>\n",
              "      <td>2022.28</td>\n",
              "      <td>1978.37</td>\n",
              "      <td>315284661</td>\n",
              "      <td>5.54</td>\n",
              "      <td>9.13</td>\n",
              "      <td>2.60</td>\n",
              "      <td>...</td>\n",
              "      <td>0.83</td>\n",
              "      <td>80.13</td>\n",
              "      <td>78.80</td>\n",
              "      <td>2339.49</td>\n",
              "      <td>439.46</td>\n",
              "      <td>340</td>\n",
              "      <td>0.79</td>\n",
              "      <td>48</td>\n",
              "      <td>39.43</td>\n",
              "      <td>13665</td>\n",
              "    </tr>\n",
              "    <tr>\n",
              "      <th>3</th>\n",
              "      <td>2000-01-04</td>\n",
              "      <td>Dow Jones</td>\n",
              "      <td>4625.02</td>\n",
              "      <td>4660.47</td>\n",
              "      <td>4665.26</td>\n",
              "      <td>4595.46</td>\n",
              "      <td>13098297</td>\n",
              "      <td>10.00</td>\n",
              "      <td>3.77</td>\n",
              "      <td>2.20</td>\n",
              "      <td>...</td>\n",
              "      <td>0.95</td>\n",
              "      <td>149.15</td>\n",
              "      <td>28.18</td>\n",
              "      <td>1308.54</td>\n",
              "      <td>213.07</td>\n",
              "      <td>8456</td>\n",
              "      <td>4.22</td>\n",
              "      <td>16</td>\n",
              "      <td>12.83</td>\n",
              "      <td>5192</td>\n",
              "    </tr>\n",
              "    <tr>\n",
              "      <th>4</th>\n",
              "      <td>2000-01-05</td>\n",
              "      <td>S&amp;P 500</td>\n",
              "      <td>1998.18</td>\n",
              "      <td>1982.18</td>\n",
              "      <td>2044.31</td>\n",
              "      <td>1966.44</td>\n",
              "      <td>385306746</td>\n",
              "      <td>1.53</td>\n",
              "      <td>2.20</td>\n",
              "      <td>8.20</td>\n",
              "      <td>...</td>\n",
              "      <td>1.43</td>\n",
              "      <td>113.71</td>\n",
              "      <td>92.20</td>\n",
              "      <td>2210.08</td>\n",
              "      <td>405.49</td>\n",
              "      <td>1596</td>\n",
              "      <td>2.21</td>\n",
              "      <td>34</td>\n",
              "      <td>86.37</td>\n",
              "      <td>10688</td>\n",
              "    </tr>\n",
              "  </tbody>\n",
              "</table>\n",
              "<p>5 rows × 24 columns</p>\n",
              "</div>\n",
              "    <div class=\"colab-df-buttons\">\n",
              "\n",
              "  <div class=\"colab-df-container\">\n",
              "    <button class=\"colab-df-convert\" onclick=\"convertToInteractive('df-e899f881-68a1-4454-8e92-878e0b6421ab')\"\n",
              "            title=\"Convert this dataframe to an interactive table.\"\n",
              "            style=\"display:none;\">\n",
              "\n",
              "  <svg xmlns=\"http://www.w3.org/2000/svg\" height=\"24px\" viewBox=\"0 -960 960 960\">\n",
              "    <path d=\"M120-120v-720h720v720H120Zm60-500h600v-160H180v160Zm220 220h160v-160H400v160Zm0 220h160v-160H400v160ZM180-400h160v-160H180v160Zm440 0h160v-160H620v160ZM180-180h160v-160H180v160Zm440 0h160v-160H620v160Z\"/>\n",
              "  </svg>\n",
              "    </button>\n",
              "\n",
              "  <style>\n",
              "    .colab-df-container {\n",
              "      display:flex;\n",
              "      gap: 12px;\n",
              "    }\n",
              "\n",
              "    .colab-df-convert {\n",
              "      background-color: #E8F0FE;\n",
              "      border: none;\n",
              "      border-radius: 50%;\n",
              "      cursor: pointer;\n",
              "      display: none;\n",
              "      fill: #1967D2;\n",
              "      height: 32px;\n",
              "      padding: 0 0 0 0;\n",
              "      width: 32px;\n",
              "    }\n",
              "\n",
              "    .colab-df-convert:hover {\n",
              "      background-color: #E2EBFA;\n",
              "      box-shadow: 0px 1px 2px rgba(60, 64, 67, 0.3), 0px 1px 3px 1px rgba(60, 64, 67, 0.15);\n",
              "      fill: #174EA6;\n",
              "    }\n",
              "\n",
              "    .colab-df-buttons div {\n",
              "      margin-bottom: 4px;\n",
              "    }\n",
              "\n",
              "    [theme=dark] .colab-df-convert {\n",
              "      background-color: #3B4455;\n",
              "      fill: #D2E3FC;\n",
              "    }\n",
              "\n",
              "    [theme=dark] .colab-df-convert:hover {\n",
              "      background-color: #434B5C;\n",
              "      box-shadow: 0px 1px 3px 1px rgba(0, 0, 0, 0.15);\n",
              "      filter: drop-shadow(0px 1px 2px rgba(0, 0, 0, 0.3));\n",
              "      fill: #FFFFFF;\n",
              "    }\n",
              "  </style>\n",
              "\n",
              "    <script>\n",
              "      const buttonEl =\n",
              "        document.querySelector('#df-e899f881-68a1-4454-8e92-878e0b6421ab button.colab-df-convert');\n",
              "      buttonEl.style.display =\n",
              "        google.colab.kernel.accessAllowed ? 'block' : 'none';\n",
              "\n",
              "      async function convertToInteractive(key) {\n",
              "        const element = document.querySelector('#df-e899f881-68a1-4454-8e92-878e0b6421ab');\n",
              "        const dataTable =\n",
              "          await google.colab.kernel.invokeFunction('convertToInteractive',\n",
              "                                                    [key], {});\n",
              "        if (!dataTable) return;\n",
              "\n",
              "        const docLinkHtml = 'Like what you see? Visit the ' +\n",
              "          '<a target=\"_blank\" href=https://colab.research.google.com/notebooks/data_table.ipynb>data table notebook</a>'\n",
              "          + ' to learn more about interactive tables.';\n",
              "        element.innerHTML = '';\n",
              "        dataTable['output_type'] = 'display_data';\n",
              "        await google.colab.output.renderOutput(dataTable, element);\n",
              "        const docLink = document.createElement('div');\n",
              "        docLink.innerHTML = docLinkHtml;\n",
              "        element.appendChild(docLink);\n",
              "      }\n",
              "    </script>\n",
              "  </div>\n",
              "\n",
              "\n",
              "    <div id=\"df-56577139-924e-4951-86f1-4e62fe95e231\">\n",
              "      <button class=\"colab-df-quickchart\" onclick=\"quickchart('df-56577139-924e-4951-86f1-4e62fe95e231')\"\n",
              "                title=\"Suggest charts\"\n",
              "                style=\"display:none;\">\n",
              "\n",
              "<svg xmlns=\"http://www.w3.org/2000/svg\" height=\"24px\"viewBox=\"0 0 24 24\"\n",
              "     width=\"24px\">\n",
              "    <g>\n",
              "        <path d=\"M19 3H5c-1.1 0-2 .9-2 2v14c0 1.1.9 2 2 2h14c1.1 0 2-.9 2-2V5c0-1.1-.9-2-2-2zM9 17H7v-7h2v7zm4 0h-2V7h2v10zm4 0h-2v-4h2v4z\"/>\n",
              "    </g>\n",
              "</svg>\n",
              "      </button>\n",
              "\n",
              "<style>\n",
              "  .colab-df-quickchart {\n",
              "      --bg-color: #E8F0FE;\n",
              "      --fill-color: #1967D2;\n",
              "      --hover-bg-color: #E2EBFA;\n",
              "      --hover-fill-color: #174EA6;\n",
              "      --disabled-fill-color: #AAA;\n",
              "      --disabled-bg-color: #DDD;\n",
              "  }\n",
              "\n",
              "  [theme=dark] .colab-df-quickchart {\n",
              "      --bg-color: #3B4455;\n",
              "      --fill-color: #D2E3FC;\n",
              "      --hover-bg-color: #434B5C;\n",
              "      --hover-fill-color: #FFFFFF;\n",
              "      --disabled-bg-color: #3B4455;\n",
              "      --disabled-fill-color: #666;\n",
              "  }\n",
              "\n",
              "  .colab-df-quickchart {\n",
              "    background-color: var(--bg-color);\n",
              "    border: none;\n",
              "    border-radius: 50%;\n",
              "    cursor: pointer;\n",
              "    display: none;\n",
              "    fill: var(--fill-color);\n",
              "    height: 32px;\n",
              "    padding: 0;\n",
              "    width: 32px;\n",
              "  }\n",
              "\n",
              "  .colab-df-quickchart:hover {\n",
              "    background-color: var(--hover-bg-color);\n",
              "    box-shadow: 0 1px 2px rgba(60, 64, 67, 0.3), 0 1px 3px 1px rgba(60, 64, 67, 0.15);\n",
              "    fill: var(--button-hover-fill-color);\n",
              "  }\n",
              "\n",
              "  .colab-df-quickchart-complete:disabled,\n",
              "  .colab-df-quickchart-complete:disabled:hover {\n",
              "    background-color: var(--disabled-bg-color);\n",
              "    fill: var(--disabled-fill-color);\n",
              "    box-shadow: none;\n",
              "  }\n",
              "\n",
              "  .colab-df-spinner {\n",
              "    border: 2px solid var(--fill-color);\n",
              "    border-color: transparent;\n",
              "    border-bottom-color: var(--fill-color);\n",
              "    animation:\n",
              "      spin 1s steps(1) infinite;\n",
              "  }\n",
              "\n",
              "  @keyframes spin {\n",
              "    0% {\n",
              "      border-color: transparent;\n",
              "      border-bottom-color: var(--fill-color);\n",
              "      border-left-color: var(--fill-color);\n",
              "    }\n",
              "    20% {\n",
              "      border-color: transparent;\n",
              "      border-left-color: var(--fill-color);\n",
              "      border-top-color: var(--fill-color);\n",
              "    }\n",
              "    30% {\n",
              "      border-color: transparent;\n",
              "      border-left-color: var(--fill-color);\n",
              "      border-top-color: var(--fill-color);\n",
              "      border-right-color: var(--fill-color);\n",
              "    }\n",
              "    40% {\n",
              "      border-color: transparent;\n",
              "      border-right-color: var(--fill-color);\n",
              "      border-top-color: var(--fill-color);\n",
              "    }\n",
              "    60% {\n",
              "      border-color: transparent;\n",
              "      border-right-color: var(--fill-color);\n",
              "    }\n",
              "    80% {\n",
              "      border-color: transparent;\n",
              "      border-right-color: var(--fill-color);\n",
              "      border-bottom-color: var(--fill-color);\n",
              "    }\n",
              "    90% {\n",
              "      border-color: transparent;\n",
              "      border-bottom-color: var(--fill-color);\n",
              "    }\n",
              "  }\n",
              "</style>\n",
              "\n",
              "      <script>\n",
              "        async function quickchart(key) {\n",
              "          const quickchartButtonEl =\n",
              "            document.querySelector('#' + key + ' button');\n",
              "          quickchartButtonEl.disabled = true;  // To prevent multiple clicks.\n",
              "          quickchartButtonEl.classList.add('colab-df-spinner');\n",
              "          try {\n",
              "            const charts = await google.colab.kernel.invokeFunction(\n",
              "                'suggestCharts', [key], {});\n",
              "          } catch (error) {\n",
              "            console.error('Error during call to suggestCharts:', error);\n",
              "          }\n",
              "          quickchartButtonEl.classList.remove('colab-df-spinner');\n",
              "          quickchartButtonEl.classList.add('colab-df-quickchart-complete');\n",
              "        }\n",
              "        (() => {\n",
              "          let quickchartButtonEl =\n",
              "            document.querySelector('#df-56577139-924e-4951-86f1-4e62fe95e231 button');\n",
              "          quickchartButtonEl.style.display =\n",
              "            google.colab.kernel.accessAllowed ? 'block' : 'none';\n",
              "        })();\n",
              "      </script>\n",
              "    </div>\n",
              "\n",
              "    </div>\n",
              "  </div>\n"
            ],
            "application/vnd.google.colaboratory.intrinsic+json": {
              "type": "dataframe",
              "variable_name": "df"
            }
          },
          "metadata": {},
          "execution_count": 2
        }
      ]
    },
    {
      "cell_type": "code",
      "source": [
        "#1. What is the shape of the dataset?\n",
        "print(\"Shape of dataset (rows, columns):\", df.shape)\n"
      ],
      "metadata": {
        "colab": {
          "base_uri": "https://localhost:8080/"
        },
        "id": "RKv2NxeY8y6n",
        "outputId": "8a8ef61c-be11-4c09-a615-3fab129c7ef0"
      },
      "execution_count": 3,
      "outputs": [
        {
          "output_type": "stream",
          "name": "stdout",
          "text": [
            "Shape of dataset (rows, columns): (3000, 24)\n"
          ]
        }
      ]
    },
    {
      "cell_type": "code",
      "source": [
        "#2. What are the column names and their data types?\n",
        "print(\"Column Names and Data Types\")\n",
        "print(df.dtypes)\n",
        "\n",
        "print(\"\\nDetailed Info:\")\n",
        "df.info()\n"
      ],
      "metadata": {
        "colab": {
          "base_uri": "https://localhost:8080/"
        },
        "id": "Uzzgyudi9HTA",
        "outputId": "da0f1b67-6697-454d-d486-740a0c035540"
      },
      "execution_count": 4,
      "outputs": [
        {
          "output_type": "stream",
          "name": "stdout",
          "text": [
            "Column Names and Data Types\n",
            "Date                                      object\n",
            "Stock Index                               object\n",
            "Open Price                               float64\n",
            "Close Price                              float64\n",
            "Daily High                               float64\n",
            "Daily Low                                float64\n",
            "Trading Volume                             int64\n",
            "GDP Growth (%)                           float64\n",
            "Inflation Rate (%)                       float64\n",
            "Unemployment Rate (%)                    float64\n",
            "Interest Rate (%)                        float64\n",
            "Consumer Confidence Index                  int64\n",
            "Government Debt (Billion USD)              int64\n",
            "Corporate Profits (Billion USD)            int64\n",
            "Forex USD/EUR                            float64\n",
            "Forex USD/JPY                            float64\n",
            "Crude Oil Price (USD per Barrel)         float64\n",
            "Gold Price (USD per Ounce)               float64\n",
            "Real Estate Index                        float64\n",
            "Retail Sales (Billion USD)                 int64\n",
            "Bankruptcy Rate (%)                      float64\n",
            "Mergers & Acquisitions Deals               int64\n",
            "Venture Capital Funding (Billion USD)    float64\n",
            "Consumer Spending (Billion USD)            int64\n",
            "dtype: object\n",
            "\n",
            "Detailed Info:\n",
            "<class 'pandas.core.frame.DataFrame'>\n",
            "RangeIndex: 3000 entries, 0 to 2999\n",
            "Data columns (total 24 columns):\n",
            " #   Column                                 Non-Null Count  Dtype  \n",
            "---  ------                                 --------------  -----  \n",
            " 0   Date                                   3000 non-null   object \n",
            " 1   Stock Index                            3000 non-null   object \n",
            " 2   Open Price                             3000 non-null   float64\n",
            " 3   Close Price                            3000 non-null   float64\n",
            " 4   Daily High                             3000 non-null   float64\n",
            " 5   Daily Low                              3000 non-null   float64\n",
            " 6   Trading Volume                         3000 non-null   int64  \n",
            " 7   GDP Growth (%)                         3000 non-null   float64\n",
            " 8   Inflation Rate (%)                     3000 non-null   float64\n",
            " 9   Unemployment Rate (%)                  3000 non-null   float64\n",
            " 10  Interest Rate (%)                      3000 non-null   float64\n",
            " 11  Consumer Confidence Index              3000 non-null   int64  \n",
            " 12  Government Debt (Billion USD)          3000 non-null   int64  \n",
            " 13  Corporate Profits (Billion USD)        3000 non-null   int64  \n",
            " 14  Forex USD/EUR                          3000 non-null   float64\n",
            " 15  Forex USD/JPY                          3000 non-null   float64\n",
            " 16  Crude Oil Price (USD per Barrel)       3000 non-null   float64\n",
            " 17  Gold Price (USD per Ounce)             3000 non-null   float64\n",
            " 18  Real Estate Index                      3000 non-null   float64\n",
            " 19  Retail Sales (Billion USD)             3000 non-null   int64  \n",
            " 20  Bankruptcy Rate (%)                    3000 non-null   float64\n",
            " 21  Mergers & Acquisitions Deals           3000 non-null   int64  \n",
            " 22  Venture Capital Funding (Billion USD)  3000 non-null   float64\n",
            " 23  Consumer Spending (Billion USD)        3000 non-null   int64  \n",
            "dtypes: float64(15), int64(7), object(2)\n",
            "memory usage: 562.6+ KB\n"
          ]
        }
      ]
    },
    {
      "cell_type": "code",
      "source": [
        "#3. How many unique stock indices are there?\n",
        "df['Stock Index'].nunique()\n"
      ],
      "metadata": {
        "colab": {
          "base_uri": "https://localhost:8080/"
        },
        "id": "QXdDfTV_-W05",
        "outputId": "fb1d733a-1e97-49f9-a9b6-7b267e417e83"
      },
      "execution_count": 7,
      "outputs": [
        {
          "output_type": "execute_result",
          "data": {
            "text/plain": [
              "3"
            ]
          },
          "metadata": {},
          "execution_count": 7
        }
      ]
    },
    {
      "cell_type": "code",
      "source": [
        "#4. What is the date range of the dataset?\n",
        "print(\"Date range:\", df['Date'].min(), \"to\", df['Date'].max())\n"
      ],
      "metadata": {
        "colab": {
          "base_uri": "https://localhost:8080/"
        },
        "id": "sPb-XToNDMx_",
        "outputId": "e7bd98b1-6d43-406e-fcdb-b7f2f4b50250"
      },
      "execution_count": 8,
      "outputs": [
        {
          "output_type": "stream",
          "name": "stdout",
          "text": [
            "Date range: 2000-01-01 to 2008-03-18\n"
          ]
        }
      ]
    },
    {
      "cell_type": "code",
      "source": [
        "#5. Are there any missing values?\n",
        "df.isnull().sum()"
      ],
      "metadata": {
        "colab": {
          "base_uri": "https://localhost:8080/",
          "height": 836
        },
        "id": "lNnIypCBEIhr",
        "outputId": "339e9774-19b4-46b1-dea8-e576d19df2b9"
      },
      "execution_count": 9,
      "outputs": [
        {
          "output_type": "execute_result",
          "data": {
            "text/plain": [
              "Date                                     0\n",
              "Stock Index                              0\n",
              "Open Price                               0\n",
              "Close Price                              0\n",
              "Daily High                               0\n",
              "Daily Low                                0\n",
              "Trading Volume                           0\n",
              "GDP Growth (%)                           0\n",
              "Inflation Rate (%)                       0\n",
              "Unemployment Rate (%)                    0\n",
              "Interest Rate (%)                        0\n",
              "Consumer Confidence Index                0\n",
              "Government Debt (Billion USD)            0\n",
              "Corporate Profits (Billion USD)          0\n",
              "Forex USD/EUR                            0\n",
              "Forex USD/JPY                            0\n",
              "Crude Oil Price (USD per Barrel)         0\n",
              "Gold Price (USD per Ounce)               0\n",
              "Real Estate Index                        0\n",
              "Retail Sales (Billion USD)               0\n",
              "Bankruptcy Rate (%)                      0\n",
              "Mergers & Acquisitions Deals             0\n",
              "Venture Capital Funding (Billion USD)    0\n",
              "Consumer Spending (Billion USD)          0\n",
              "dtype: int64"
            ],
            "text/html": [
              "<div>\n",
              "<style scoped>\n",
              "    .dataframe tbody tr th:only-of-type {\n",
              "        vertical-align: middle;\n",
              "    }\n",
              "\n",
              "    .dataframe tbody tr th {\n",
              "        vertical-align: top;\n",
              "    }\n",
              "\n",
              "    .dataframe thead th {\n",
              "        text-align: right;\n",
              "    }\n",
              "</style>\n",
              "<table border=\"1\" class=\"dataframe\">\n",
              "  <thead>\n",
              "    <tr style=\"text-align: right;\">\n",
              "      <th></th>\n",
              "      <th>0</th>\n",
              "    </tr>\n",
              "  </thead>\n",
              "  <tbody>\n",
              "    <tr>\n",
              "      <th>Date</th>\n",
              "      <td>0</td>\n",
              "    </tr>\n",
              "    <tr>\n",
              "      <th>Stock Index</th>\n",
              "      <td>0</td>\n",
              "    </tr>\n",
              "    <tr>\n",
              "      <th>Open Price</th>\n",
              "      <td>0</td>\n",
              "    </tr>\n",
              "    <tr>\n",
              "      <th>Close Price</th>\n",
              "      <td>0</td>\n",
              "    </tr>\n",
              "    <tr>\n",
              "      <th>Daily High</th>\n",
              "      <td>0</td>\n",
              "    </tr>\n",
              "    <tr>\n",
              "      <th>Daily Low</th>\n",
              "      <td>0</td>\n",
              "    </tr>\n",
              "    <tr>\n",
              "      <th>Trading Volume</th>\n",
              "      <td>0</td>\n",
              "    </tr>\n",
              "    <tr>\n",
              "      <th>GDP Growth (%)</th>\n",
              "      <td>0</td>\n",
              "    </tr>\n",
              "    <tr>\n",
              "      <th>Inflation Rate (%)</th>\n",
              "      <td>0</td>\n",
              "    </tr>\n",
              "    <tr>\n",
              "      <th>Unemployment Rate (%)</th>\n",
              "      <td>0</td>\n",
              "    </tr>\n",
              "    <tr>\n",
              "      <th>Interest Rate (%)</th>\n",
              "      <td>0</td>\n",
              "    </tr>\n",
              "    <tr>\n",
              "      <th>Consumer Confidence Index</th>\n",
              "      <td>0</td>\n",
              "    </tr>\n",
              "    <tr>\n",
              "      <th>Government Debt (Billion USD)</th>\n",
              "      <td>0</td>\n",
              "    </tr>\n",
              "    <tr>\n",
              "      <th>Corporate Profits (Billion USD)</th>\n",
              "      <td>0</td>\n",
              "    </tr>\n",
              "    <tr>\n",
              "      <th>Forex USD/EUR</th>\n",
              "      <td>0</td>\n",
              "    </tr>\n",
              "    <tr>\n",
              "      <th>Forex USD/JPY</th>\n",
              "      <td>0</td>\n",
              "    </tr>\n",
              "    <tr>\n",
              "      <th>Crude Oil Price (USD per Barrel)</th>\n",
              "      <td>0</td>\n",
              "    </tr>\n",
              "    <tr>\n",
              "      <th>Gold Price (USD per Ounce)</th>\n",
              "      <td>0</td>\n",
              "    </tr>\n",
              "    <tr>\n",
              "      <th>Real Estate Index</th>\n",
              "      <td>0</td>\n",
              "    </tr>\n",
              "    <tr>\n",
              "      <th>Retail Sales (Billion USD)</th>\n",
              "      <td>0</td>\n",
              "    </tr>\n",
              "    <tr>\n",
              "      <th>Bankruptcy Rate (%)</th>\n",
              "      <td>0</td>\n",
              "    </tr>\n",
              "    <tr>\n",
              "      <th>Mergers &amp; Acquisitions Deals</th>\n",
              "      <td>0</td>\n",
              "    </tr>\n",
              "    <tr>\n",
              "      <th>Venture Capital Funding (Billion USD)</th>\n",
              "      <td>0</td>\n",
              "    </tr>\n",
              "    <tr>\n",
              "      <th>Consumer Spending (Billion USD)</th>\n",
              "      <td>0</td>\n",
              "    </tr>\n",
              "  </tbody>\n",
              "</table>\n",
              "</div><br><label><b>dtype:</b> int64</label>"
            ]
          },
          "metadata": {},
          "execution_count": 9
        }
      ]
    },
    {
      "cell_type": "code",
      "source": [
        "#6.Are there negative values in columns that should be non-negative?\n",
        "non_negative_cols = ['Open Price', 'Close Price', 'Daily High', 'Daily Low',\n",
        "                     'Trading Volume', 'Gold Price (USD per Ounce)',\n",
        "                     'Crude Oil Price (USD per Barrel)',\n",
        "                     'Corporate Profits (Billion USD)',\n",
        "                     'Government Debt (Billion USD)',\n",
        "                     'Real Estate Index', 'Retail Sales (Billion USD)',\n",
        "                     'Venture Capital Funding (Billion USD)',\n",
        "                     'Consumer Spending (Billion USD)']\n",
        "\n",
        "(df[non_negative_cols] < 0).sum()"
      ],
      "metadata": {
        "colab": {
          "base_uri": "https://localhost:8080/",
          "height": 492
        },
        "id": "980ieutIEz91",
        "outputId": "ecbee77d-2e6a-49cd-f98f-d96f40086a1f"
      },
      "execution_count": 12,
      "outputs": [
        {
          "output_type": "execute_result",
          "data": {
            "text/plain": [
              "Open Price                               0\n",
              "Close Price                              0\n",
              "Daily High                               0\n",
              "Daily Low                                0\n",
              "Trading Volume                           0\n",
              "Gold Price (USD per Ounce)               0\n",
              "Crude Oil Price (USD per Barrel)         0\n",
              "Corporate Profits (Billion USD)          0\n",
              "Government Debt (Billion USD)            0\n",
              "Real Estate Index                        0\n",
              "Retail Sales (Billion USD)               0\n",
              "Venture Capital Funding (Billion USD)    0\n",
              "Consumer Spending (Billion USD)          0\n",
              "dtype: int64"
            ],
            "text/html": [
              "<div>\n",
              "<style scoped>\n",
              "    .dataframe tbody tr th:only-of-type {\n",
              "        vertical-align: middle;\n",
              "    }\n",
              "\n",
              "    .dataframe tbody tr th {\n",
              "        vertical-align: top;\n",
              "    }\n",
              "\n",
              "    .dataframe thead th {\n",
              "        text-align: right;\n",
              "    }\n",
              "</style>\n",
              "<table border=\"1\" class=\"dataframe\">\n",
              "  <thead>\n",
              "    <tr style=\"text-align: right;\">\n",
              "      <th></th>\n",
              "      <th>0</th>\n",
              "    </tr>\n",
              "  </thead>\n",
              "  <tbody>\n",
              "    <tr>\n",
              "      <th>Open Price</th>\n",
              "      <td>0</td>\n",
              "    </tr>\n",
              "    <tr>\n",
              "      <th>Close Price</th>\n",
              "      <td>0</td>\n",
              "    </tr>\n",
              "    <tr>\n",
              "      <th>Daily High</th>\n",
              "      <td>0</td>\n",
              "    </tr>\n",
              "    <tr>\n",
              "      <th>Daily Low</th>\n",
              "      <td>0</td>\n",
              "    </tr>\n",
              "    <tr>\n",
              "      <th>Trading Volume</th>\n",
              "      <td>0</td>\n",
              "    </tr>\n",
              "    <tr>\n",
              "      <th>Gold Price (USD per Ounce)</th>\n",
              "      <td>0</td>\n",
              "    </tr>\n",
              "    <tr>\n",
              "      <th>Crude Oil Price (USD per Barrel)</th>\n",
              "      <td>0</td>\n",
              "    </tr>\n",
              "    <tr>\n",
              "      <th>Corporate Profits (Billion USD)</th>\n",
              "      <td>0</td>\n",
              "    </tr>\n",
              "    <tr>\n",
              "      <th>Government Debt (Billion USD)</th>\n",
              "      <td>0</td>\n",
              "    </tr>\n",
              "    <tr>\n",
              "      <th>Real Estate Index</th>\n",
              "      <td>0</td>\n",
              "    </tr>\n",
              "    <tr>\n",
              "      <th>Retail Sales (Billion USD)</th>\n",
              "      <td>0</td>\n",
              "    </tr>\n",
              "    <tr>\n",
              "      <th>Venture Capital Funding (Billion USD)</th>\n",
              "      <td>0</td>\n",
              "    </tr>\n",
              "    <tr>\n",
              "      <th>Consumer Spending (Billion USD)</th>\n",
              "      <td>0</td>\n",
              "    </tr>\n",
              "  </tbody>\n",
              "</table>\n",
              "</div><br><label><b>dtype:</b> int64</label>"
            ]
          },
          "metadata": {},
          "execution_count": 12
        }
      ]
    },
    {
      "cell_type": "code",
      "source": [
        "#7 .What is the summary of GDP Growth (%)?\n",
        "df['GDP Growth (%)'].describe()"
      ],
      "metadata": {
        "id": "FIlWoHQSFcod",
        "colab": {
          "base_uri": "https://localhost:8080/",
          "height": 335
        },
        "outputId": "ff4cfe18-9a7e-47a8-b576-a965ef4bc8bb"
      },
      "execution_count": 13,
      "outputs": [
        {
          "output_type": "execute_result",
          "data": {
            "text/plain": [
              "count    3000.000000\n",
              "mean        2.608903\n",
              "std         4.287337\n",
              "min        -5.000000\n",
              "25%        -1.012500\n",
              "50%         2.725000\n",
              "75%         6.242500\n",
              "max        10.000000\n",
              "Name: GDP Growth (%), dtype: float64"
            ],
            "text/html": [
              "<div>\n",
              "<style scoped>\n",
              "    .dataframe tbody tr th:only-of-type {\n",
              "        vertical-align: middle;\n",
              "    }\n",
              "\n",
              "    .dataframe tbody tr th {\n",
              "        vertical-align: top;\n",
              "    }\n",
              "\n",
              "    .dataframe thead th {\n",
              "        text-align: right;\n",
              "    }\n",
              "</style>\n",
              "<table border=\"1\" class=\"dataframe\">\n",
              "  <thead>\n",
              "    <tr style=\"text-align: right;\">\n",
              "      <th></th>\n",
              "      <th>GDP Growth (%)</th>\n",
              "    </tr>\n",
              "  </thead>\n",
              "  <tbody>\n",
              "    <tr>\n",
              "      <th>count</th>\n",
              "      <td>3000.000000</td>\n",
              "    </tr>\n",
              "    <tr>\n",
              "      <th>mean</th>\n",
              "      <td>2.608903</td>\n",
              "    </tr>\n",
              "    <tr>\n",
              "      <th>std</th>\n",
              "      <td>4.287337</td>\n",
              "    </tr>\n",
              "    <tr>\n",
              "      <th>min</th>\n",
              "      <td>-5.000000</td>\n",
              "    </tr>\n",
              "    <tr>\n",
              "      <th>25%</th>\n",
              "      <td>-1.012500</td>\n",
              "    </tr>\n",
              "    <tr>\n",
              "      <th>50%</th>\n",
              "      <td>2.725000</td>\n",
              "    </tr>\n",
              "    <tr>\n",
              "      <th>75%</th>\n",
              "      <td>6.242500</td>\n",
              "    </tr>\n",
              "    <tr>\n",
              "      <th>max</th>\n",
              "      <td>10.000000</td>\n",
              "    </tr>\n",
              "  </tbody>\n",
              "</table>\n",
              "</div><br><label><b>dtype:</b> float64</label>"
            ]
          },
          "metadata": {},
          "execution_count": 13
        }
      ]
    },
    {
      "cell_type": "code",
      "source": [
        "#8. Are there rows with zero or near-zero trading volume?\n",
        "print((df['Trading Volume'] <= 0).sum())"
      ],
      "metadata": {
        "colab": {
          "base_uri": "https://localhost:8080/"
        },
        "id": "SxvjsDoKQx8Z",
        "outputId": "312ce2fc-5da2-4762-9505-c665c674bc57"
      },
      "execution_count": 14,
      "outputs": [
        {
          "output_type": "stream",
          "name": "stdout",
          "text": [
            "0\n"
          ]
        }
      ]
    },
    {
      "cell_type": "code",
      "source": [
        "#9. Are there any duplicate rows?\n",
        "print(df.duplicated().sum())"
      ],
      "metadata": {
        "colab": {
          "base_uri": "https://localhost:8080/"
        },
        "id": "NgWS6v6JQ32v",
        "outputId": "01f3ad5c-e503-416e-deae-b23742a0c0d7"
      },
      "execution_count": 18,
      "outputs": [
        {
          "output_type": "stream",
          "name": "stdout",
          "text": [
            "0\n"
          ]
        }
      ]
    },
    {
      "cell_type": "code",
      "source": [
        "import matplotlib.pyplot as plt\n",
        "import seaborn as sns"
      ],
      "metadata": {
        "id": "2JnemmIuRdIg"
      },
      "execution_count": 19,
      "outputs": []
    },
    {
      "cell_type": "code",
      "source": [
        "#10. Are there outliers in GDP, Gold, or Oil prices?\n",
        "\n",
        "plt.figure(figsize=(12,4))\n",
        "plt.subplot(1,3,1)\n",
        "sns.boxplot(x=df['GDP Growth (%)'])\n",
        "plt.title('GDP Growth (%)')\n",
        "\n",
        "plt.subplot(1,3,2)\n",
        "sns.boxplot(x=df['Gold Price (USD per Ounce)'])\n",
        "plt.title('Gold Price')\n",
        "\n",
        "plt.subplot(1,3,3)\n",
        "sns.boxplot(x=df['Crude Oil Price (USD per Barrel)'])\n",
        "plt.title('Crude Oil Price')\n",
        "\n",
        "plt.tight_layout()\n",
        "plt.show()"
      ],
      "metadata": {
        "colab": {
          "base_uri": "https://localhost:8080/",
          "height": 305
        },
        "id": "c_u4lgPQQ_wE",
        "outputId": "01ad76cf-fe9c-4387-94b3-59ffb58c8147"
      },
      "execution_count": 20,
      "outputs": [
        {
          "output_type": "display_data",
          "data": {
            "text/plain": [
              "<Figure size 1200x400 with 3 Axes>"
            ],
            "image/png": "[encoded data removed]"
          },
          "metadata": {}
        }
      ]
    },
    {
      "cell_type": "code",
      "source": [
        "#11. What is the summary of Inflation Rate (%)?\n",
        "df['Inflation Rate (%)'].describe()"
      ],
      "metadata": {
        "colab": {
          "base_uri": "https://localhost:8080/",
          "height": 335
        },
        "id": "wdF9PnbFRGtt",
        "outputId": "5436c5d3-6059-403c-cf62-d816a9a0120c"
      },
      "execution_count": 22,
      "outputs": [
        {
          "output_type": "execute_result",
          "data": {
            "text/plain": [
              "count    3000.000000\n",
              "mean        5.096830\n",
              "std         2.910513\n",
              "min         0.010000\n",
              "25%         2.607500\n",
              "50%         5.110000\n",
              "75%         7.600000\n",
              "max        10.000000\n",
              "Name: Inflation Rate (%), dtype: float64"
            ],
            "text/html": [
              "<div>\n",
              "<style scoped>\n",
              "    .dataframe tbody tr th:only-of-type {\n",
              "        vertical-align: middle;\n",
              "    }\n",
              "\n",
              "    .dataframe tbody tr th {\n",
              "        vertical-align: top;\n",
              "    }\n",
              "\n",
              "    .dataframe thead th {\n",
              "        text-align: right;\n",
              "    }\n",
              "</style>\n",
              "<table border=\"1\" class=\"dataframe\">\n",
              "  <thead>\n",
              "    <tr style=\"text-align: right;\">\n",
              "      <th></th>\n",
              "      <th>Inflation Rate (%)</th>\n",
              "    </tr>\n",
              "  </thead>\n",
              "  <tbody>\n",
              "    <tr>\n",
              "      <th>count</th>\n",
              "      <td>3000.000000</td>\n",
              "    </tr>\n",
              "    <tr>\n",
              "      <th>mean</th>\n",
              "      <td>5.096830</td>\n",
              "    </tr>\n",
              "    <tr>\n",
              "      <th>std</th>\n",
              "      <td>2.910513</td>\n",
              "    </tr>\n",
              "    <tr>\n",
              "      <th>min</th>\n",
              "      <td>0.010000</td>\n",
              "    </tr>\n",
              "    <tr>\n",
              "      <th>25%</th>\n",
              "      <td>2.607500</td>\n",
              "    </tr>\n",
              "    <tr>\n",
              "      <th>50%</th>\n",
              "      <td>5.110000</td>\n",
              "    </tr>\n",
              "    <tr>\n",
              "      <th>75%</th>\n",
              "      <td>7.600000</td>\n",
              "    </tr>\n",
              "    <tr>\n",
              "      <th>max</th>\n",
              "      <td>10.000000</td>\n",
              "    </tr>\n",
              "  </tbody>\n",
              "</table>\n",
              "</div><br><label><b>dtype:</b> float64</label>"
            ]
          },
          "metadata": {},
          "execution_count": 22
        }
      ]
    },
    {
      "cell_type": "code",
      "source": [
        "#12. What is the average unemployment rate?\n",
        "print(df['Unemployment Rate (%)'].mean())"
      ],
      "metadata": {
        "colab": {
          "base_uri": "https://localhost:8080/"
        },
        "id": "2N3Z0FZxRlY4",
        "outputId": "5d0f0565-3671-4011-ea00-d328e0186bc5"
      },
      "execution_count": 23,
      "outputs": [
        {
          "output_type": "stream",
          "name": "stdout",
          "text": [
            "8.663786666666667\n"
          ]
        }
      ]
    },
    {
      "cell_type": "code",
      "source": [
        "#13. Which index has the highest trading volume?\n",
        "print(df.groupby('Stock Index')['Trading Volume'].mean().sort_values(ascending=False).head(1))"
      ],
      "metadata": {
        "colab": {
          "base_uri": "https://localhost:8080/"
        },
        "id": "ADIdPPrwRulX",
        "outputId": "5e7b457e-1a07-4bd8-b0e3-a524647e3eb0"
      },
      "execution_count": 24,
      "outputs": [
        {
          "output_type": "stream",
          "name": "stdout",
          "text": [
            "Stock Index\n",
            "S&P 500    5.145193e+08\n",
            "Name: Trading Volume, dtype: float64\n"
          ]
        }
      ]
    },
    {
      "cell_type": "code",
      "source": [
        "#14. How many stock records are from each index?\n",
        "df['Stock Index'].value_counts()\n"
      ],
      "metadata": {
        "colab": {
          "base_uri": "https://localhost:8080/",
          "height": 209
        },
        "id": "Upv1ygVgRzw6",
        "outputId": "244ec601-ac7e-4e6f-cd5a-70c9e4804ce6"
      },
      "execution_count": 26,
      "outputs": [
        {
          "output_type": "execute_result",
          "data": {
            "text/plain": [
              "Stock Index\n",
              "S&P 500      1036\n",
              "NASDAQ       1007\n",
              "Dow Jones     957\n",
              "Name: count, dtype: int64"
            ],
            "text/html": [
              "<div>\n",
              "<style scoped>\n",
              "    .dataframe tbody tr th:only-of-type {\n",
              "        vertical-align: middle;\n",
              "    }\n",
              "\n",
              "    .dataframe tbody tr th {\n",
              "        vertical-align: top;\n",
              "    }\n",
              "\n",
              "    .dataframe thead th {\n",
              "        text-align: right;\n",
              "    }\n",
              "</style>\n",
              "<table border=\"1\" class=\"dataframe\">\n",
              "  <thead>\n",
              "    <tr style=\"text-align: right;\">\n",
              "      <th></th>\n",
              "      <th>count</th>\n",
              "    </tr>\n",
              "    <tr>\n",
              "      <th>Stock Index</th>\n",
              "      <th></th>\n",
              "    </tr>\n",
              "  </thead>\n",
              "  <tbody>\n",
              "    <tr>\n",
              "      <th>S&amp;P 500</th>\n",
              "      <td>1036</td>\n",
              "    </tr>\n",
              "    <tr>\n",
              "      <th>NASDAQ</th>\n",
              "      <td>1007</td>\n",
              "    </tr>\n",
              "    <tr>\n",
              "      <th>Dow Jones</th>\n",
              "      <td>957</td>\n",
              "    </tr>\n",
              "  </tbody>\n",
              "</table>\n",
              "</div><br><label><b>dtype:</b> int64</label>"
            ]
          },
          "metadata": {},
          "execution_count": 26
        }
      ]
    },
    {
      "cell_type": "code",
      "source": [
        "#15. What is the correlation between inflation and interest rate?\n",
        "print(df['Inflation Rate (%)'].corr(df['Interest Rate (%)']))\n"
      ],
      "metadata": {
        "colab": {
          "base_uri": "https://localhost:8080/"
        },
        "id": "2Esb0lL6R3rj",
        "outputId": "81cbee75-d188-4715-ac3c-74d7a7730cf0"
      },
      "execution_count": 27,
      "outputs": [
        {
          "output_type": "stream",
          "name": "stdout",
          "text": [
            "0.00573292723557624\n"
          ]
        }
      ]
    },
    {
      "cell_type": "code",
      "source": [
        "#16. What is the average Consumer Confidence Index?\n",
        "print(df['Consumer Confidence Index'].mean())\n"
      ],
      "metadata": {
        "colab": {
          "base_uri": "https://localhost:8080/"
        },
        "id": "gtMuBaICSEtN",
        "outputId": "eb5e886d-c1fa-4bc2-f1f5-9027ea9db44e"
      },
      "execution_count": 28,
      "outputs": [
        {
          "output_type": "stream",
          "name": "stdout",
          "text": [
            "85.036\n"
          ]
        }
      ]
    },
    {
      "cell_type": "code",
      "source": [
        "#17. Which column has the highest standard deviation?\n",
        "print(df.std(numeric_only=True).sort_values(ascending=False).head(1))"
      ],
      "metadata": {
        "colab": {
          "base_uri": "https://localhost:8080/"
        },
        "id": "66JFL7F7SOmL",
        "outputId": "669d347b-bf4b-41c1-d114-9d8e5bbe13c9"
      },
      "execution_count": 30,
      "outputs": [
        {
          "output_type": "stream",
          "name": "stdout",
          "text": [
            "Trading Volume    2.859004e+08\n",
            "dtype: float64\n"
          ]
        }
      ]
    },
    {
      "cell_type": "code",
      "source": [
        "#18. What is the highest gold price recorded?\n",
        "print(df['Gold Price (USD per Ounce)'].max())"
      ],
      "metadata": {
        "colab": {
          "base_uri": "https://localhost:8080/"
        },
        "id": "qfFxSkezSTof",
        "outputId": "478a1e8f-e1ed-4f26-cc05-2cfca605b15f"
      },
      "execution_count": 32,
      "outputs": [
        {
          "output_type": "stream",
          "name": "stdout",
          "text": [
            "2499.66\n"
          ]
        }
      ]
    },
    {
      "cell_type": "code",
      "source": [
        "#19. Which date had the highest crude oil price?\n",
        "print(df.loc[df['Crude Oil Price (USD per Barrel)'].idxmax(), 'Date'])\n"
      ],
      "metadata": {
        "colab": {
          "base_uri": "https://localhost:8080/"
        },
        "id": "tE5-zbtlScs8",
        "outputId": "11ea6703-ad34-4754-de3e-6acb9d86c333"
      },
      "execution_count": 33,
      "outputs": [
        {
          "output_type": "stream",
          "name": "stdout",
          "text": [
            "2001-11-22\n"
          ]
        }
      ]
    },
    {
      "cell_type": "code",
      "source": [
        "#20. What is the average corporate profit?\n",
        "print(df['Corporate Profits (Billion USD)'].mean())"
      ],
      "metadata": {
        "colab": {
          "base_uri": "https://localhost:8080/"
        },
        "id": "GrCL9qzCSpjg",
        "outputId": "9a241b02-8682-4cac-82cd-4177adaae6ac"
      },
      "execution_count": 34,
      "outputs": [
        {
          "output_type": "stream",
          "name": "stdout",
          "text": [
            "2553.7563333333333\n"
          ]
        }
      ]
    },
    {
      "cell_type": "code",
      "source": [],
      "metadata": {
        "id": "iSRNrQ1vSxCO"
      },
      "execution_count": null,
      "outputs": []
    }
  ]
}