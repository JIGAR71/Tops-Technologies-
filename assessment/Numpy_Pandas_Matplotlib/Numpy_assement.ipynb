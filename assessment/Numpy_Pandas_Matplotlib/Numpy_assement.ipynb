{
  "nbformat": 4,
  "nbformat_minor": 0,
  "metadata": {
    "colab": {
      "provenance": []
    },
    "kernelspec": {
      "name": "python3",
      "display_name": "Python 3"
    },
    "language_info": {
      "name": "python"
    }
  },
  "cells": [
    {
      "cell_type": "code",
      "execution_count": 2,
      "metadata": {
        "id": "gd46se5JKsde"
      },
      "outputs": [],
      "source": [
        "import numpy as np\n"
      ]
    },
    {
      "cell_type": "code",
      "source": [
        "# 1. Create a 3D Numpy array of shape (2,3,4) filled with integers from 1 to 24, and reshape it without using lopp\n",
        "arr = np.arange(1,25).reshape(2,3,4)\n",
        "print(arr)"
      ],
      "metadata": {
        "colab": {
          "base_uri": "https://localhost:8080/"
        },
        "id": "oS1Yab66K-uF",
        "outputId": "eb66441c-d3a4-4d73-a8b3-c0911f41e84c"
      },
      "execution_count": 3,
      "outputs": [
        {
          "output_type": "stream",
          "name": "stdout",
          "text": [
            "[[[ 1  2  3  4]\n",
            "  [ 5  6  7  8]\n",
            "  [ 9 10 11 12]]\n",
            "\n",
            " [[13 14 15 16]\n",
            "  [17 18 19 20]\n",
            "  [21 22 23 24]]]\n"
          ]
        }
      ]
    },
    {
      "cell_type": "code",
      "source": [
        "# 2. Generate a 5x5 array with random integers between 10 and 50, then extract all even numbers ussing boolean masking.\n",
        "arr = np.random.randint(10,50,size=(5,5))\n",
        "even_arr = arr[arr%2 == 0]\n",
        "print(arr)\n",
        "print(\"\\n Even num :\",even_arr)"
      ],
      "metadata": {
        "colab": {
          "base_uri": "https://localhost:8080/"
        },
        "id": "s_WI3F4nMTC4",
        "outputId": "c64f293f-f4a3-4465-a996-d4599380c196"
      },
      "execution_count": 4,
      "outputs": [
        {
          "output_type": "stream",
          "name": "stdout",
          "text": [
            "[[40 23 37 29 39]\n",
            " [39 32 36 16 19]\n",
            " [48 10 38 29 28]\n",
            " [30 45 23 37 49]\n",
            " [20 14 33 27 37]]\n",
            "\n",
            " Even num : [40 32 36 16 48 10 38 28 30 20 14]\n"
          ]
        }
      ]
    },
    {
      "cell_type": "code",
      "source": [
        "#3. Create two arrays a = np.arange(1,13).reshape (3,4) and b = np.array([10,20,30,40]) Use broadcasting to add b to every row of a\n",
        "a = np.arange(1,13).reshape(3,4)\n",
        "b = np.array([10,20,30,40])\n",
        "print(a+b)"
      ],
      "metadata": {
        "colab": {
          "base_uri": "https://localhost:8080/"
        },
        "id": "U10ESS0KOU6u",
        "outputId": "1b20ea4a-e2ed-4d5e-dc10-07be208ca078"
      },
      "execution_count": 5,
      "outputs": [
        {
          "output_type": "stream",
          "name": "stdout",
          "text": [
            "[[11 22 33 44]\n",
            " [15 26 37 48]\n",
            " [19 30 41 52]]\n"
          ]
        }
      ]
    },
    {
      "cell_type": "code",
      "source": [
        "# 4. Construct a 6x6 identtity matrix and replace its secondary diagonal (from top-right to bottom-left) with all 7's\n",
        "import numpy as np\n",
        "arr = np.eye(6)\n",
        "arr"
      ],
      "metadata": {
        "colab": {
          "base_uri": "https://localhost:8080/"
        },
        "id": "oYtQihZWO9IO",
        "outputId": "45e17855-ab16-4164-8b91-4c6428907e00"
      },
      "execution_count": 6,
      "outputs": [
        {
          "output_type": "execute_result",
          "data": {
            "text/plain": [
              "array([[1., 0., 0., 0., 0., 0.],\n",
              "       [0., 1., 0., 0., 0., 0.],\n",
              "       [0., 0., 1., 0., 0., 0.],\n",
              "       [0., 0., 0., 1., 0., 0.],\n",
              "       [0., 0., 0., 0., 1., 0.],\n",
              "       [0., 0., 0., 0., 0., 1.]])"
            ]
          },
          "metadata": {},
          "execution_count": 6
        }
      ]
    },
    {
      "cell_type": "code",
      "source": [
        "# 5 . Generate 20 linearly spaced numbers between -5 and 5. Reshape into a (4,5) array and extract only the element greater than 0\n",
        "arr = np.linspace(-5,5,20).reshape(4,5)\n",
        "print(arr)\n",
        "print(\"\\n\")\n",
        "print(arr[arr>0])"
      ],
      "metadata": {
        "colab": {
          "base_uri": "https://localhost:8080/"
        },
        "id": "ChJjVkLuQUe_",
        "outputId": "4f755646-6d62-4347-aa2b-4f4b9a5bf288"
      },
      "execution_count": 7,
      "outputs": [
        {
          "output_type": "stream",
          "name": "stdout",
          "text": [
            "[[-5.         -4.47368421 -3.94736842 -3.42105263 -2.89473684]\n",
            " [-2.36842105 -1.84210526 -1.31578947 -0.78947368 -0.26315789]\n",
            " [ 0.26315789  0.78947368  1.31578947  1.84210526  2.36842105]\n",
            " [ 2.89473684  3.42105263  3.94736842  4.47368421  5.        ]]\n",
            "\n",
            "\n",
            "[0.26315789 0.78947368 1.31578947 1.84210526 2.36842105 2.89473684\n",
            " 3.42105263 3.94736842 4.47368421 5.        ]\n"
          ]
        }
      ]
    },
    {
      "cell_type": "code",
      "source": [
        "# 6. Create 4x4 array with numbers from 1 to 16. Swapthe first and last rows using slicing.\n",
        "ar6 = np.arange(1,17).reshape(4,4)\n",
        "print(ar6,\"\\n\")\n",
        "ar6[[0,-1]] = ar6[[-1,0]]\n",
        "print(ar6)"
      ],
      "metadata": {
        "colab": {
          "base_uri": "https://localhost:8080/"
        },
        "id": "ba1QM4r3R-QB",
        "outputId": "2a8719a7-82dc-4c36-cac7-b86f3fb1cc27"
      },
      "execution_count": 8,
      "outputs": [
        {
          "output_type": "stream",
          "name": "stdout",
          "text": [
            "[[ 1  2  3  4]\n",
            " [ 5  6  7  8]\n",
            " [ 9 10 11 12]\n",
            " [13 14 15 16]] \n",
            "\n",
            "[[13 14 15 16]\n",
            " [ 5  6  7  8]\n",
            " [ 9 10 11 12]\n",
            " [ 1  2  3  4]]\n"
          ]
        }
      ]
    },
    {
      "cell_type": "code",
      "source": [
        "# 7. Create a 10×10 array with random floats between 0 and 1, then find the row with the maximum sum.\n",
        "arr = np.random.rand(10, 10)\n",
        "print(arr)\n",
        "max_row = np.argmax(np.sum(arr, axis=1))\n",
        "print(max_row)\n",
        "print(arr[max_row])"
      ],
      "metadata": {
        "colab": {
          "base_uri": "https://localhost:8080/"
        },
        "id": "uBHdfFSLGNML",
        "outputId": "79ab08c4-8464-4dbe-f050-0676219972a8"
      },
      "execution_count": 11,
      "outputs": [
        {
          "output_type": "stream",
          "name": "stdout",
          "text": [
            "[[0.05716498 0.95287005 0.72227793 0.21081726 0.70815113 0.73605495\n",
            "  0.89930087 0.58641105 0.71343532 0.21664439]\n",
            " [0.8510055  0.86660702 0.45187925 0.95349264 0.85024794 0.39388658\n",
            "  0.59956594 0.16752995 0.95576669 0.25945312]\n",
            " [0.71228867 0.92057429 0.56277462 0.86053242 0.49284464 0.99585239\n",
            "  0.23458711 0.19138296 0.9063325  0.2448693 ]\n",
            " [0.55475086 0.37103481 0.91717537 0.40212253 0.06990026 0.84224983\n",
            "  0.92817219 0.70215118 0.67410307 0.31359486]\n",
            " [0.50843476 0.06909946 0.90323549 0.84227788 0.82662067 0.19133344\n",
            "  0.2529076  0.54979725 0.07627654 0.49120666]\n",
            " [0.48711031 0.27868864 0.41594025 0.18693895 0.79657466 0.4933882\n",
            "  0.19208704 0.62330989 0.44859234 0.82671856]\n",
            " [0.38724017 0.10199477 0.64297728 0.84900022 0.86280601 0.26793114\n",
            "  0.24482896 0.34521589 0.34639796 0.62239696]\n",
            " [0.04361473 0.38254919 0.67514107 0.92422342 0.25759973 0.64525209\n",
            "  0.07197283 0.95968163 0.78663369 0.218043  ]\n",
            " [0.65163855 0.28595247 0.64557115 0.78640636 0.36234605 0.80815541\n",
            "  0.13384279 0.33280561 0.75961275 0.3691098 ]\n",
            " [0.45060273 0.11628854 0.23025396 0.206161   0.85016814 0.35148299\n",
            "  0.18796946 0.11167907 0.4293965  0.69515073]]\n",
            "1\n",
            "[0.8510055  0.86660702 0.45187925 0.95349264 0.85024794 0.39388658\n",
            " 0.59956594 0.16752995 0.95576669 0.25945312]\n"
          ]
        }
      ]
    },
    {
      "cell_type": "code",
      "source": [
        "# 8. Given arr = np.arange(1,26).reshape(5,5), extract the submatrix of even numbers only, keeping their 2D structure.\n",
        "arr = np.arange(1,26).reshape(5,5)\n",
        "even = np.where(arr % 2 ==0 , arr , 0)\n",
        "print(\"Submatrix with even number:\")\n",
        "print(even)"
      ],
      "metadata": {
        "colab": {
          "base_uri": "https://localhost:8080/"
        },
        "id": "WALD2F5yHV3E",
        "outputId": "ae476ee8-3ece-4674-fb9e-613f8994772e"
      },
      "execution_count": 23,
      "outputs": [
        {
          "output_type": "stream",
          "name": "stdout",
          "text": [
            "Submatrix with even number:\n",
            "[[ 0  2  0  4  0]\n",
            " [ 6  0  8  0 10]\n",
            " [ 0 12  0 14  0]\n",
            " [16  0 18  0 20]\n",
            " [ 0 22  0 24  0]]\n"
          ]
        }
      ]
    },
    {
      "cell_type": "code",
      "source": [
        "# 9. Generate two arrays a = np.array([1,2,3]) and b = np.array([[10],[20],[30]]). Perform multiplication using broadcasting and explain the result\n",
        "j = np.array([1,2,3])\n",
        "p = np.array([[10],[20],[30]])\n",
        "print(j*p)"
      ],
      "metadata": {
        "colab": {
          "base_uri": "https://localhost:8080/"
        },
        "id": "HP67UHYCH48A",
        "outputId": "219ef198-0ab7-453e-d622-39468a3e6060"
      },
      "execution_count": 24,
      "outputs": [
        {
          "output_type": "stream",
          "name": "stdout",
          "text": [
            "[[10 20 30]\n",
            " [20 40 60]\n",
            " [30 60 90]]\n"
          ]
        }
      ]
    },
    {
      "cell_type": "code",
      "source": [
        "# 10. Create a diagonal matrix with values [5,10,15,20]. Then convert it into a full 4×4 matrix where diagonal values remain but others are filled with -1.\n",
        "J_diag = [5,10,15,20]\n",
        "arr = np.full((4,4),-1)\n",
        "np.fill_diagonal(arr,J_diag)\n",
        "print(arr)"
      ],
      "metadata": {
        "colab": {
          "base_uri": "https://localhost:8080/"
        },
        "id": "_qIDO-RBH7Bf",
        "outputId": "8ba5d2d7-7a40-4579-c2b5-e1aedd36f5c5"
      },
      "execution_count": 27,
      "outputs": [
        {
          "output_type": "stream",
          "name": "stdout",
          "text": [
            "[[ 5 -1 -1 -1]\n",
            " [-1 10 -1 -1]\n",
            " [-1 -1 15 -1]\n",
            " [-1 -1 -1 20]]\n"
          ]
        }
      ]
    },
    {
      "cell_type": "code",
      "source": [
        "# 11. Using np.eye(5), create a 5×5 matrix with diagonal values equal to multiples of 3\n",
        "arr = np.eye(5)\n",
        "np.fill_diagonal(arr,3)\n",
        "print(arr)"
      ],
      "metadata": {
        "colab": {
          "base_uri": "https://localhost:8080/"
        },
        "id": "L5yGVosSH85e",
        "outputId": "27e500b6-ed49-457f-e8dc-ef535a32ad5f"
      },
      "execution_count": 28,
      "outputs": [
        {
          "output_type": "stream",
          "name": "stdout",
          "text": [
            "[[3. 0. 0. 0. 0.]\n",
            " [0. 3. 0. 0. 0.]\n",
            " [0. 0. 3. 0. 0.]\n",
            " [0. 0. 0. 3. 0.]\n",
            " [0. 0. 0. 0. 3.]]\n"
          ]
        }
      ]
    },
    {
      "cell_type": "code",
      "source": [
        "# 12. Construct an array of shape (3,4,2) with values from 1 to 24. Flatten it using ravel(), and then reshape it into (2,3,4).\n",
        "A = np.arange(1,25).reshape(3,4,2)\n",
        "print(A)\n",
        "print(\"\\n\")\n",
        "print(A.ravel())\n",
        "print(\"\\n\")\n",
        "print(A.reshape(2,3,4))"
      ],
      "metadata": {
        "colab": {
          "base_uri": "https://localhost:8080/"
        },
        "id": "qveKV-RFH-tc",
        "outputId": "a62547ad-5f47-490d-ab9b-150a41e009cd"
      },
      "execution_count": 29,
      "outputs": [
        {
          "output_type": "stream",
          "name": "stdout",
          "text": [
            "[[[ 1  2]\n",
            "  [ 3  4]\n",
            "  [ 5  6]\n",
            "  [ 7  8]]\n",
            "\n",
            " [[ 9 10]\n",
            "  [11 12]\n",
            "  [13 14]\n",
            "  [15 16]]\n",
            "\n",
            " [[17 18]\n",
            "  [19 20]\n",
            "  [21 22]\n",
            "  [23 24]]]\n",
            "\n",
            "\n",
            "[ 1  2  3  4  5  6  7  8  9 10 11 12 13 14 15 16 17 18 19 20 21 22 23 24]\n",
            "\n",
            "\n",
            "[[[ 1  2  3  4]\n",
            "  [ 5  6  7  8]\n",
            "  [ 9 10 11 12]]\n",
            "\n",
            " [[13 14 15 16]\n",
            "  [17 18 19 20]\n",
            "  [21 22 23 24]]]\n"
          ]
        }
      ]
    },
    {
      "cell_type": "code",
      "source": [
        "# 13.Generate a 7×7 matrix of random integers (1–100). Replace all values divisible by 5 with -5 using boolean indexing.\n",
        "matrix = np.random.randint(1, 101, size=(7, 7))\n",
        "matrix[matrix % 5 == 0] = -5\n",
        "print(matrix)\n"
      ],
      "metadata": {
        "colab": {
          "base_uri": "https://localhost:8080/"
        },
        "id": "yIPwWwlfIAZd",
        "outputId": "36f0b1f6-6186-42fc-ffaa-2c320421fcd4"
      },
      "execution_count": 30,
      "outputs": [
        {
          "output_type": "stream",
          "name": "stdout",
          "text": [
            "[[-5 -5 -5 87 73 67 17]\n",
            " [-5 -5 56 39 -5 31 49]\n",
            " [-5 53 27 76 93 14 -5]\n",
            " [67 62 37 81 57 -5 78]\n",
            " [ 4 -5 18 71 43 51 87]\n",
            " [ 8 82 77 76 -5 81 98]\n",
            " [74  8 37 93 51 17 61]]\n"
          ]
        }
      ]
    },
    {
      "cell_type": "code",
      "source": [
        "# 14. Given arr = np.linspace(0, 2*np.pi, 10), compute sine and cosine values for each element and stack them into a 2D array with shape (10,2).\n",
        "arr = np.linspace(0, 2*np.pi, 10)\n",
        "print(arr)\n",
        "arr[arr % 5 == 0 ] = -5\n",
        "print(arr)"
      ],
      "metadata": {
        "colab": {
          "base_uri": "https://localhost:8080/"
        },
        "id": "aNHSjLykIBbL",
        "outputId": "b9f3e3ed-a139-4141-c60d-c537f549bd4d"
      },
      "execution_count": 36,
      "outputs": [
        {
          "output_type": "stream",
          "name": "stdout",
          "text": [
            "[0.         0.6981317  1.3962634  2.0943951  2.7925268  3.4906585\n",
            " 4.1887902  4.88692191 5.58505361 6.28318531]\n",
            "[-5.          0.6981317   1.3962634   2.0943951   2.7925268   3.4906585\n",
            "  4.1887902   4.88692191  5.58505361  6.28318531]\n"
          ]
        }
      ]
    },
    {
      "cell_type": "code",
      "source": [
        "# 15. Create a 5×5 checkerboard pattern (alternating 0s and 1s) using slicing, without manually typing each element.\n",
        "arr = np.zeros((5,5),dtype = int)\n",
        "arr[::2,::2] = 1\n",
        "arr[1::2,1::2] = 1\n",
        "print(arr)\n",
        ""
      ],
      "metadata": {
        "colab": {
          "base_uri": "https://localhost:8080/"
        },
        "id": "lxWaeoyyICdN",
        "outputId": "9e516f3d-3499-45a1-d295-734b588cf670"
      },
      "execution_count": 37,
      "outputs": [
        {
          "output_type": "stream",
          "name": "stdout",
          "text": [
            "[[1 0 1 0 1]\n",
            " [0 1 0 1 0]\n",
            " [1 0 1 0 1]\n",
            " [0 1 0 1 0]\n",
            " [1 0 1 0 1]]\n"
          ]
        }
      ]
    },
    {
      "cell_type": "code",
      "source": [],
      "metadata": {
        "id": "b6ufh4U5Obpg"
      },
      "execution_count": null,
      "outputs": []
    }
  ]
}